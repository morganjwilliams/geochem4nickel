{
 "cells": [
  {
   "cell_type": "markdown",
   "metadata": {
    "slideshow": {
     "slide_type": "slide"
    }
   },
   "source": [
    "# Valuable Features & Feature Selection\n",
    "\n",
    "**Intro** [Start](0.0_StartHere.ipynb) • [Intro](1.1_Introduction.ipynb)\n",
    "<br> **pyrolite** [Geochem](2.1_pyroliteGeochem.ipynb) • [Visualisation](2.2_pyroliteVis.ipynb) • [alphaMELTS](2.3_pyroliteMELTS.ipynb) • [lambdas](2.4_lambdas.ipynb) <br>   **Machine Learning** [Intro](4.0_MachineLearning.ipynb) • <mark>[Features](4.1_Features.ipynb)</mark>• [High-D Vis](4.3_HighDVis.ipynb) • [Classification](4.4_Classification.ipynb) <br>  **GitHub** [geochem4nickel](https://github.com/morganjwilliams/geochem4nickel) • [pyrolite](https://github.com/morganjwilliams/pyrolite)\n",
    "\n",
    "#### <i class=\"fa fa-twitter\" aria-hidden=\"true\"><a href=\"https://twitter.com/metasomite\" style=\"font-family:Courier New,Courier,Lucida Sans Typewriter,Lucida Typewriter,monospace;\"> @metasomite</a></i>"
   ]
  },
  {
   "cell_type": "markdown",
   "metadata": {
    "slideshow": {
     "slide_type": "slide"
    }
   },
   "source": [
    "Next: [High-D Vis](4.3_HighDVis.ipynb)"
   ]
  },
  {
   "cell_type": "code",
   "execution_count": null,
   "metadata": {},
   "outputs": [],
   "source": []
  }
 ],
 "metadata": {
  "celltoolbar": "Slideshow",
  "kernelspec": {
   "display_name": "Python 3",
   "language": "python",
   "name": "python3"
  },
  "language_info": {
   "codemirror_mode": {
    "name": "ipython",
    "version": 3
   },
   "file_extension": ".py",
   "mimetype": "text/x-python",
   "name": "python",
   "nbconvert_exporter": "python",
   "pygments_lexer": "ipython3",
   "version": "3.6.7"
  },
  "rise": {
   "autolaunch": true,
   "scroll": true,
   "theme": "solarized"
  }
 },
 "nbformat": 4,
 "nbformat_minor": 2
}
