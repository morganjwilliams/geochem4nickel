{
 "cells": [
  {
   "cell_type": "markdown",
   "metadata": {
    "slideshow": {
     "slide_type": "slide"
    }
   },
   "source": [
    "# Classification Example: Tectonic Discrimination\n",
    "\n",
    "**Intro** [Start](0.0_StartHere.ipynb) • [Intro](1.1_Introduction.ipynb) • [Data Driven Geochem Understanding](1.2_DataDrivenGeochem.ipynb) • [Data Science and Exploration Questions](1.3_ExplorationDataScience.ipynb)\n",
    "<br> **pyrolite** [Geochem](2.1_pyroliteGeochem.ipynb) • [Visualisation](2.2_pyroliteVis.ipynb) • [alphaMelts](2.3_pyroliteMELTS.ipynb) <br>  **Comparative Geochem**  [Data Sources & Data Mining](3.1_ComparativeGeochemData.ipynb) • [Deriving Context](3.2_ComparativeGeochemContext.ipynb) <br>  **Machine Learning**  [Features](4.1_Features.ipynb) • [Dimensional Reduction](4.2_DimReduction.ipynb) • [High-D Vis](4.3_HighDVis.ipynb) • [Classification](4.4_Classification.ipynb) • [Regression & Prediction](4.5_Regression.ipynb) • [Clustering](4.6_Clustering.ipynb) <br>  **GitHub** [geochem4nickel](https://github.com/morganjwilliams/geochem4nickel) • [pyrolite](https://github.com/morganjwilliams/pyrolite)"
   ]
  },
  {
   "cell_type": "code",
   "execution_count": null,
   "metadata": {},
   "outputs": [],
   "source": []
  }
 ],
 "metadata": {
  "celltoolbar": "Slideshow",
  "kernelspec": {
   "display_name": "Python 3",
   "language": "python",
   "name": "python3"
  },
  "language_info": {
   "codemirror_mode": {
    "name": "ipython",
    "version": 3
   },
   "file_extension": ".py",
   "mimetype": "text/x-python",
   "name": "python",
   "nbconvert_exporter": "python",
   "pygments_lexer": "ipython3",
   "version": "3.6.7"
  },
  "rise": {
   "autolaunch": true,
   "scroll": true,
   "theme": "solarized"
  }
 },
 "nbformat": 4,
 "nbformat_minor": 2
}
