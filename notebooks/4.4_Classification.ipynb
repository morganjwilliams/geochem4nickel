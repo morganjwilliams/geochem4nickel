{
 "cells": [
  {
   "cell_type": "markdown",
   "metadata": {
    "slideshow": {
     "slide_type": "slide"
    }
   },
   "source": [
    "# Classification Example: Tectonic Discrimination\n",
    "\n",
    "**Intro** [Start](0.0_StartHere.ipynb) • [Intro](1.1_Introduction.ipynb)\n",
    "<br> **pyrolite** [Geochem](2.1_pyroliteGeochem.ipynb) • [Visualisation](2.2_pyroliteVis.ipynb) • [alphaMELTS](2.3_pyroliteMELTS.ipynb) • [lambdas](2.4_lambdas.ipynb) <br>   **Machine Learning** [Intro](4.0_MachineLearning.ipynb) • [Features](4.1_Features.ipynb)• [High-D Vis](4.3_HighDVis.ipynb) • <mark>[Classification](4.4_Classification.ipynb)</mark> <br>  **GitHub** [geochem4nickel](https://github.com/morganjwilliams/geochem4nickel) • [pyrolite](https://github.com/morganjwilliams/pyrolite)\n",
    "\n",
    "#### <i class=\"fa fa-twitter\" aria-hidden=\"true\"><a href=\"https://twitter.com/metasomite\" style=\"font-family:Courier New,Courier,Lucida Sans Typewriter,Lucida Typewriter,monospace;\"> @metasomite</a></i>"
   ]
  },
  {
   "cell_type": "markdown",
   "metadata": {
    "slideshow": {
     "slide_type": "subslide"
    }
   },
   "source": [
    "This notebook introduces some of the classifier models which have been used previously for geochemical tectonic discrimination, and provides minimal working examples for building a working model. "
   ]
  },
  {
   "cell_type": "markdown",
   "metadata": {
    "slideshow": {
     "slide_type": "subslide"
    }
   },
   "source": [
    "Clasification models used for tectonic discrimination using bulk-rock geochemical data include support vector classifiers, random forests and sparse multinomial regression ([Petrelli2016], [Ueki2018]). Here we'll rebuild some of these classifiers, working from the simplest possible implementations through to optimised classifiers ready to be put to work.\n",
    "\n",
    "[Petrelli2016]: https://doi.org/10.1007/s00410-016-1292-2 \"Petrelli, M., Perugini, D., 2016. Solving petrological problems through machine learning: the study case of tectonic discrimination using geochemical and isotopic data. Contrib Mineral Petrol 171, 81.\"\n",
    "[Ueki2018]: https://doi.org/10.1029/2017GC007401 \"Ueki, K., Hino, H., Kuwatani, T., 2018. Geochemical Discrimination and Characteristics of Magmatic Tectonic Settings: A Machine-Learning-Based Approach. Geochemistry, Geophysics, Geosystems 19, 1327–1347.\""
   ]
  },
  {
   "cell_type": "markdown",
   "metadata": {
    "slideshow": {
     "slide_type": "subslide"
    }
   },
   "source": [
    "First we'll import some general libraries which we'll use throughout, including numpy, pandas and matplotlib ([Oliphant2006], [vanderWalt2011], [McKinney2010], [Hunter2007]). We'll use scikit-learn for the majority of machine learning tasks ([Pedregosa2011]).\n",
    "\n",
    "[Oliphant2006]: https://numpy.org/ \"Oliphant, T.E., 2006. A guide to NumPy. Trelgol Publishing USA.\"\n",
    "\n",
    "[vanderWalt2011]: https://numpy.org/ \"van der Walt, S., Colbert, S.C., Varoquaux, G., 2011. The NumPy Array: A Structure for Efficient Numerical Computation. Computing in Science Engineering 13, 22–30. https://doi.org/10.1109/MCSE.2011.37\"\n",
    "\n",
    "[Hunter2007]: https://matplotlib.org/ \"Hunter, J.D., 2007. Matplotlib: A 2D Graphics Environment. Comput. Sci. Eng. 9, 90–95. https://doi.org/10.1109/MCSE.2007.55\"\n",
    "\n",
    "[McKinney2010]: https://pandas.pydata.org/pandas-docs/stable/ \"McKinney, W., 2010. Data structures for statistical computing in python, in: van der Walt, S., Millman, J. (Eds.), Proceedings of the 9th Python in Science Conference. pp. 51–56.\"\n",
    "\n",
    "[Pedregosa2011]: https://scikit-learn.org/ \"Pedregosa, F., Varoquaux, G., Gramfort, A., Michel, V., Thirion, B., Grisel, O., Blondel, M., Prettenhofer, P., Weiss, R., Dubourg, V., Vanderplas, J., Passos, A., Cournapeau, D., Brucher, M., Perrot, M., Duchesnay, É., 2011. Scikit-learn: Machine Learning in Python. Journal of Machine Learning Research 12, 2825−2830.\""
   ]
  },
  {
   "cell_type": "code",
   "execution_count": 1,
   "metadata": {
    "slideshow": {
     "slide_type": "fragment"
    }
   },
   "outputs": [],
   "source": [
    "%matplotlib inline\n",
    "import numpy as np\n",
    "import pandas as pd   \n",
    "import matplotlib.pyplot as plt"
   ]
  },
  {
   "cell_type": "code",
   "execution_count": 2,
   "metadata": {
    "slideshow": {
     "slide_type": "fragment"
    }
   },
   "outputs": [],
   "source": [
    "from sklearn.svm import SVC\n",
    "from sklearn.linear_model import LogisticRegression\n",
    "from sklearn.ensemble import RandomForestClassifier\n",
    "from sklearn.preprocessing import StandardScaler\n",
    "from sklearn.model_selection import train_test_split\n",
    "from sklearn.pipeline import make_pipeline\n",
    "# could also use imblearn.pipleline.make_pipeline"
   ]
  },
  {
   "cell_type": "markdown",
   "metadata": {
    "slideshow": {
     "slide_type": "subslide"
    }
   },
   "source": [
    "pyrolite also provides a number of useful functions here, especially for using geochemical data ([Williams2019]).\n",
    "\n",
    "[Williams2019]: https://pyrolite.rtfd.io \"Williams, M., 2019. pyrolite: A set of tools for getting the most from your geochemical data. http://dx.doi.org/10.5281/zenodo.2545106\"\n",
    "\n"
   ]
  },
  {
   "cell_type": "code",
   "execution_count": 3,
   "metadata": {
    "slideshow": {
     "slide_type": "fragment"
    }
   },
   "outputs": [
    {
     "name": "stderr",
     "output_type": "stream",
     "text": [
      "Using TensorFlow backend.\n"
     ]
    }
   ],
   "source": [
    "from pyrolite.geochem.ind import common_elements, common_oxides\n",
    "\n",
    "from pyrolite.util.skl.vis import plot_confusion_matrix\n",
    "from pyrolite.util.skl.pipeline import SVC_pipeline, PdUnion\n",
    "from pyrolite.util.skl.select import CompositionalSelector\n",
    "from pyrolite.util.skl.transform import CLRTransform, LinearTransform"
   ]
  },
  {
   "cell_type": "markdown",
   "metadata": {
    "slideshow": {
     "slide_type": "slide"
    }
   },
   "source": [
    "As for the majority of this set of notebooks, we'll use the 29-dimension tectonic discrimination dataset (majors, minors, traces and isotopes) from Ueki et al. (2018), modified to list the specific tectonic setting in a 'Class' column. Tectonic setting classes are as follows:  BAB: Back Arc Basin, CA: Continental Arc, CFB: Continental Flood Basalt, IA: Island Arc, IOA: Intra-oceanic Arc, MOR: Mid-Ocean Ridge, OI: Ocean Island, OP: Oceanic Plateau."
   ]
  },
  {
   "cell_type": "code",
   "execution_count": 4,
   "metadata": {
    "slideshow": {
     "slide_type": "subslide"
    }
   },
   "outputs": [
    {
     "data": {
      "text/plain": [
       "['CA', 'IA', 'IOA', 'BAB', 'CFB', 'MOR', 'OP', 'OI']"
      ]
     },
     "execution_count": 4,
     "metadata": {},
     "output_type": "execute_result"
    }
   ],
   "source": [
    "df = pd.read_csv('https://storage.googleapis.com/aegc2019/ueki2018.csv')\n",
    "\n",
    "compositional_variables = df.pyrochem.list_compositional \n",
    "abundances = [i for i in df.columns if i in compositional_variables]\n",
    "isotopes = [i for i in df.columns if i != \"Class\" and i not in compositional_variables]\n",
    " \n",
    "classes = list(df.Class.unique())\n",
    "classes"
   ]
  },
  {
   "cell_type": "markdown",
   "metadata": {
    "slideshow": {
     "slide_type": "subslide"
    }
   },
   "source": [
    "To make this dataset suitable for use to train a classifier, let's first split the features from the true classes and then scale the training data such that each column falls in the range \\\\([-1, 1]\\\\). "
   ]
  },
  {
   "cell_type": "code",
   "execution_count": 5,
   "metadata": {
    "slideshow": {
     "slide_type": "fragment"
    }
   },
   "outputs": [],
   "source": [
    "X, y = df.loc[:, abundances + isotopes], df[\"Class\"]"
   ]
  },
  {
   "cell_type": "code",
   "execution_count": 6,
   "metadata": {
    "slideshow": {
     "slide_type": "fragment"
    }
   },
   "outputs": [],
   "source": [
    "scaler = StandardScaler()\n",
    "X_ = scaler.fit_transform(X)"
   ]
  },
  {
   "cell_type": "markdown",
   "metadata": {
    "slideshow": {
     "slide_type": "subslide"
    }
   },
   "source": [
    "To assess the performance of our classifier, we'll need to hold back an independent subset of the data for testing purposes. Here we reserve 30% of the data for testing, and ensure that it will proportionately contain data for each of our classes."
   ]
  },
  {
   "cell_type": "code",
   "execution_count": 7,
   "metadata": {
    "slideshow": {
     "slide_type": "fragment"
    }
   },
   "outputs": [],
   "source": [
    "X_train, X_test, y_train, y_test = train_test_split(X_, \n",
    "                                                    y, \n",
    "                                                    stratify=y, \n",
    "                                                    test_size=0.3)"
   ]
  },
  {
   "cell_type": "markdown",
   "metadata": {
    "slideshow": {
     "slide_type": "slide"
    }
   },
   "source": [
    "### Support Vector Classifiers\n"
   ]
  },
  {
   "cell_type": "code",
   "execution_count": 8,
   "metadata": {
    "slideshow": {
     "slide_type": "subslide"
    }
   },
   "outputs": [],
   "source": [
    "clf = SVC()\n",
    "clf.fit(X_train, y_train);"
   ]
  },
  {
   "cell_type": "code",
   "execution_count": 9,
   "metadata": {
    "slideshow": {
     "slide_type": "fragment"
    }
   },
   "outputs": [
    {
     "data": {
      "text/plain": [
       "'Overall Accuracy: 87.0%'"
      ]
     },
     "execution_count": 9,
     "metadata": {},
     "output_type": "execute_result"
    }
   ],
   "source": [
    "svcscore = clf.score(X_test, y_test)\n",
    "\"Overall Accuracy: {:.1f}%\".format(svcscore*100)"
   ]
  },
  {
   "cell_type": "code",
   "execution_count": 10,
   "metadata": {
    "slideshow": {
     "slide_type": "subslide"
    }
   },
   "outputs": [
    {
     "data": {
      "image/png": "[encoded data removed]",
      "text/plain": [
       "<Figure size 432x288 with 2 Axes>"
      ]
     },
     "metadata": {
      "needs_background": "light"
     },
     "output_type": "display_data"
    }
   ],
   "source": [
    "plot_confusion_matrix(clf, X_test, y_test, normalize=True, classes=classes);"
   ]
  },
  {
   "cell_type": "markdown",
   "metadata": {
    "slideshow": {
     "slide_type": "slide"
    }
   },
   "source": [
    "### Random Forests"
   ]
  },
  {
   "cell_type": "code",
   "execution_count": 11,
   "metadata": {
    "slideshow": {
     "slide_type": "subslide"
    }
   },
   "outputs": [],
   "source": [
    "rf = RandomForestClassifier(n_estimators=1000, max_depth=4)\n",
    "rf.fit(X_train, y_train);"
   ]
  },
  {
   "cell_type": "code",
   "execution_count": 12,
   "metadata": {
    "slideshow": {
     "slide_type": "fragment"
    }
   },
   "outputs": [
    {
     "data": {
      "text/plain": [
       "'Overall Accuracy: 78.0%'"
      ]
     },
     "execution_count": 12,
     "metadata": {},
     "output_type": "execute_result"
    }
   ],
   "source": [
    "rfscore = rf.score(X_test, y_test)\n",
    "\"Overall Accuracy: {:.1f}%\".format(rfscore*100)"
   ]
  },
  {
   "cell_type": "code",
   "execution_count": 13,
   "metadata": {
    "slideshow": {
     "slide_type": "subslide"
    }
   },
   "outputs": [
    {
     "data": {
      "image/png": "[encoded data removed]",
      "text/plain": [
       "<Figure size 432x288 with 2 Axes>"
      ]
     },
     "metadata": {
      "needs_background": "light"
     },
     "output_type": "display_data"
    }
   ],
   "source": [
    "plot_confusion_matrix(rf, X_test, y_test, normalize=True);"
   ]
  },
  {
   "cell_type": "markdown",
   "metadata": {
    "slideshow": {
     "slide_type": "subslide"
    }
   },
   "source": [
    "Random forests can be used to investigate relative importance of features (noting that there are some pitfalls, especially when set of variables are strongly correlated):"
   ]
  },
  {
   "cell_type": "code",
   "execution_count": 14,
   "metadata": {
    "slideshow": {
     "slide_type": "fragment"
    }
   },
   "outputs": [
    {
     "data": {
      "text/html": [
       "<div>\n",
       "<style scoped>\n",
       "    .dataframe tbody tr th:only-of-type {\n",
       "        vertical-align: middle;\n",
       "    }\n",
       "\n",
       "    .dataframe tbody tr th {\n",
       "        vertical-align: top;\n",
       "    }\n",
       "\n",
       "    .dataframe thead th {\n",
       "        text-align: right;\n",
       "    }\n",
       "</style>\n",
       "<table border=\"1\" class=\"dataframe\">\n",
       "  <thead>\n",
       "    <tr style=\"text-align: right;\">\n",
       "      <th></th>\n",
       "      <th>Importance</th>\n",
       "    </tr>\n",
       "  </thead>\n",
       "  <tbody>\n",
       "    <tr>\n",
       "      <th>Sr87Sr86</th>\n",
       "      <td>12.1</td>\n",
       "    </tr>\n",
       "    <tr>\n",
       "      <th>Nb</th>\n",
       "      <td>9.6</td>\n",
       "    </tr>\n",
       "    <tr>\n",
       "      <th>Ta</th>\n",
       "      <td>9.1</td>\n",
       "    </tr>\n",
       "    <tr>\n",
       "      <th>TiO2</th>\n",
       "      <td>8.9</td>\n",
       "    </tr>\n",
       "    <tr>\n",
       "      <th>Nd143Nd144</th>\n",
       "      <td>6.3</td>\n",
       "    </tr>\n",
       "    <tr>\n",
       "      <th>Sr</th>\n",
       "      <td>5.4</td>\n",
       "    </tr>\n",
       "  </tbody>\n",
       "</table>\n",
       "</div>"
      ],
      "text/plain": [
       "            Importance\n",
       "Sr87Sr86          12.1\n",
       "Nb                 9.6\n",
       "Ta                 9.1\n",
       "TiO2               8.9\n",
       "Nd143Nd144         6.3\n",
       "Sr                 5.4"
      ]
     },
     "execution_count": 14,
     "metadata": {},
     "output_type": "execute_result"
    }
   ],
   "source": [
    "ft_importances = pd.DataFrame(data=np.round(rf.feature_importances_,3), \n",
    "                              columns=['Importance'], index=X.columns\n",
    "                             ).sort_values('Importance', ascending=False) * 100\n",
    "ft_importances[:6]"
   ]
  },
  {
   "cell_type": "markdown",
   "metadata": {
    "slideshow": {
     "slide_type": "slide"
    }
   },
   "source": [
    "### Multinomial Logistic Regressions"
   ]
  },
  {
   "cell_type": "code",
   "execution_count": 15,
   "metadata": {
    "slideshow": {
     "slide_type": "subslide"
    }
   },
   "outputs": [],
   "source": [
    "lr = LogisticRegression(multi_class=\"multinomial\",\n",
    "                        solver=\"saga\", \n",
    "                        penalty='l1')\n",
    "lr.fit(X_train, y_train);"
   ]
  },
  {
   "cell_type": "code",
   "execution_count": 16,
   "metadata": {
    "slideshow": {
     "slide_type": "fragment"
    }
   },
   "outputs": [
    {
     "data": {
      "text/plain": [
       "'Overall Accuracy: 86.2%'"
      ]
     },
     "execution_count": 16,
     "metadata": {},
     "output_type": "execute_result"
    }
   ],
   "source": [
    "lrscore = lr.score(X_test, y_test)\n",
    "\"Overall Accuracy: {:.1f}%\".format(lrscore*100)"
   ]
  },
  {
   "cell_type": "code",
   "execution_count": 17,
   "metadata": {
    "slideshow": {
     "slide_type": "subslide"
    }
   },
   "outputs": [
    {
     "data": {
      "image/png": "[encoded data removed]",
      "text/plain": [
       "<Figure size 432x288 with 2 Axes>"
      ]
     },
     "metadata": {
      "needs_background": "light"
     },
     "output_type": "display_data"
    }
   ],
   "source": [
    "plot_confusion_matrix(lr, X_test, y_test, normalize=True);"
   ]
  },
  {
   "cell_type": "code",
   "execution_count": 18,
   "metadata": {
    "slideshow": {
     "slide_type": "subslide"
    }
   },
   "outputs": [
    {
     "data": {
      "text/html": [
       "<style  type=\"text/css\" >\n",
       "    #T_324f7a62_f6cf_11e9_818f_00216ae618aarow0_col1 {\n",
       "            background-color:  #f7fbff;\n",
       "            color:  #000000;\n",
       "        }    #T_324f7a62_f6cf_11e9_818f_00216ae618aarow0_col2 {\n",
       "            background-color:  #f7fbff;\n",
       "            color:  #000000;\n",
       "        }    #T_324f7a62_f6cf_11e9_818f_00216ae618aarow0_col3 {\n",
       "            background-color:  #f5fafe;\n",
       "            color:  #000000;\n",
       "        }    #T_324f7a62_f6cf_11e9_818f_00216ae618aarow0_col4 {\n",
       "            background-color:  #91c3de;\n",
       "            color:  #000000;\n",
       "        }    #T_324f7a62_f6cf_11e9_818f_00216ae618aarow0_col5 {\n",
       "            background-color:  #08306b;\n",
       "            color:  #f1f1f1;\n",
       "        }    #T_324f7a62_f6cf_11e9_818f_00216ae618aarow0_col6 {\n",
       "            background-color:  #f7fbff;\n",
       "            color:  #000000;\n",
       "        }    #T_324f7a62_f6cf_11e9_818f_00216ae618aarow0_col7 {\n",
       "            background-color:  #e0ecf8;\n",
       "            color:  #000000;\n",
       "        }    #T_324f7a62_f6cf_11e9_818f_00216ae618aarow0_col8 {\n",
       "            background-color:  #afd1e7;\n",
       "            color:  #000000;\n",
       "        }    #T_324f7a62_f6cf_11e9_818f_00216ae618aarow1_col1 {\n",
       "            background-color:  #f7fbff;\n",
       "            color:  #000000;\n",
       "        }    #T_324f7a62_f6cf_11e9_818f_00216ae618aarow1_col2 {\n",
       "            background-color:  #08306b;\n",
       "            color:  #f1f1f1;\n",
       "        }    #T_324f7a62_f6cf_11e9_818f_00216ae618aarow1_col3 {\n",
       "            background-color:  #f7fbff;\n",
       "            color:  #000000;\n",
       "        }    #T_324f7a62_f6cf_11e9_818f_00216ae618aarow1_col4 {\n",
       "            background-color:  #f7fbff;\n",
       "            color:  #000000;\n",
       "        }    #T_324f7a62_f6cf_11e9_818f_00216ae618aarow1_col5 {\n",
       "            background-color:  #f7fbff;\n",
       "            color:  #000000;\n",
       "        }    #T_324f7a62_f6cf_11e9_818f_00216ae618aarow1_col6 {\n",
       "            background-color:  #f7fbff;\n",
       "            color:  #000000;\n",
       "        }    #T_324f7a62_f6cf_11e9_818f_00216ae618aarow1_col7 {\n",
       "            background-color:  #f6faff;\n",
       "            color:  #000000;\n",
       "        }    #T_324f7a62_f6cf_11e9_818f_00216ae618aarow1_col8 {\n",
       "            background-color:  #f7fbff;\n",
       "            color:  #000000;\n",
       "        }    #T_324f7a62_f6cf_11e9_818f_00216ae618aarow2_col1 {\n",
       "            background-color:  #f7fbff;\n",
       "            color:  #000000;\n",
       "        }    #T_324f7a62_f6cf_11e9_818f_00216ae618aarow2_col2 {\n",
       "            background-color:  #08306b;\n",
       "            color:  #f1f1f1;\n",
       "        }    #T_324f7a62_f6cf_11e9_818f_00216ae618aarow2_col3 {\n",
       "            background-color:  #f1f7fd;\n",
       "            color:  #000000;\n",
       "        }    #T_324f7a62_f6cf_11e9_818f_00216ae618aarow2_col4 {\n",
       "            background-color:  #f7fbff;\n",
       "            color:  #000000;\n",
       "        }    #T_324f7a62_f6cf_11e9_818f_00216ae618aarow2_col5 {\n",
       "            background-color:  #f7fbff;\n",
       "            color:  #000000;\n",
       "        }    #T_324f7a62_f6cf_11e9_818f_00216ae618aarow2_col6 {\n",
       "            background-color:  #e6f0f9;\n",
       "            color:  #000000;\n",
       "        }    #T_324f7a62_f6cf_11e9_818f_00216ae618aarow2_col7 {\n",
       "            background-color:  #f7fbff;\n",
       "            color:  #000000;\n",
       "        }    #T_324f7a62_f6cf_11e9_818f_00216ae618aarow2_col8 {\n",
       "            background-color:  #f7fbff;\n",
       "            color:  #000000;\n",
       "        }    #T_324f7a62_f6cf_11e9_818f_00216ae618aarow3_col1 {\n",
       "            background-color:  #f2f8fd;\n",
       "            color:  #000000;\n",
       "        }    #T_324f7a62_f6cf_11e9_818f_00216ae618aarow3_col2 {\n",
       "            background-color:  #08306b;\n",
       "            color:  #f1f1f1;\n",
       "        }    #T_324f7a62_f6cf_11e9_818f_00216ae618aarow3_col3 {\n",
       "            background-color:  #f6faff;\n",
       "            color:  #000000;\n",
       "        }    #T_324f7a62_f6cf_11e9_818f_00216ae618aarow3_col4 {\n",
       "            background-color:  #f7fbff;\n",
       "            color:  #000000;\n",
       "        }    #T_324f7a62_f6cf_11e9_818f_00216ae618aarow3_col5 {\n",
       "            background-color:  #f7fbff;\n",
       "            color:  #000000;\n",
       "        }    #T_324f7a62_f6cf_11e9_818f_00216ae618aarow3_col6 {\n",
       "            background-color:  #dae8f6;\n",
       "            color:  #000000;\n",
       "        }    #T_324f7a62_f6cf_11e9_818f_00216ae618aarow3_col7 {\n",
       "            background-color:  #f5fafe;\n",
       "            color:  #000000;\n",
       "        }    #T_324f7a62_f6cf_11e9_818f_00216ae618aarow3_col8 {\n",
       "            background-color:  #f7fbff;\n",
       "            color:  #000000;\n",
       "        }    #T_324f7a62_f6cf_11e9_818f_00216ae618aarow4_col1 {\n",
       "            background-color:  #f3f8fe;\n",
       "            color:  #000000;\n",
       "        }    #T_324f7a62_f6cf_11e9_818f_00216ae618aarow4_col2 {\n",
       "            background-color:  #f2f8fd;\n",
       "            color:  #000000;\n",
       "        }    #T_324f7a62_f6cf_11e9_818f_00216ae618aarow4_col3 {\n",
       "            background-color:  #08306b;\n",
       "            color:  #f1f1f1;\n",
       "        }    #T_324f7a62_f6cf_11e9_818f_00216ae618aarow4_col4 {\n",
       "            background-color:  #dfebf7;\n",
       "            color:  #000000;\n",
       "        }    #T_324f7a62_f6cf_11e9_818f_00216ae618aarow4_col5 {\n",
       "            background-color:  #eef5fc;\n",
       "            color:  #000000;\n",
       "        }    #T_324f7a62_f6cf_11e9_818f_00216ae618aarow4_col6 {\n",
       "            background-color:  #f7fbff;\n",
       "            color:  #000000;\n",
       "        }    #T_324f7a62_f6cf_11e9_818f_00216ae618aarow4_col7 {\n",
       "            background-color:  #f7fbff;\n",
       "            color:  #000000;\n",
       "        }    #T_324f7a62_f6cf_11e9_818f_00216ae618aarow4_col8 {\n",
       "            background-color:  #85bcdc;\n",
       "            color:  #000000;\n",
       "        }    #T_324f7a62_f6cf_11e9_818f_00216ae618aarow5_col1 {\n",
       "            background-color:  #f7fbff;\n",
       "            color:  #000000;\n",
       "        }    #T_324f7a62_f6cf_11e9_818f_00216ae618aarow5_col2 {\n",
       "            background-color:  #f7fbff;\n",
       "            color:  #000000;\n",
       "        }    #T_324f7a62_f6cf_11e9_818f_00216ae618aarow5_col3 {\n",
       "            background-color:  #f7fbff;\n",
       "            color:  #000000;\n",
       "        }    #T_324f7a62_f6cf_11e9_818f_00216ae618aarow5_col4 {\n",
       "            background-color:  #eef5fc;\n",
       "            color:  #000000;\n",
       "        }    #T_324f7a62_f6cf_11e9_818f_00216ae618aarow5_col5 {\n",
       "            background-color:  #f7fbff;\n",
       "            color:  #000000;\n",
       "        }    #T_324f7a62_f6cf_11e9_818f_00216ae618aarow5_col6 {\n",
       "            background-color:  #f7fbff;\n",
       "            color:  #000000;\n",
       "        }    #T_324f7a62_f6cf_11e9_818f_00216ae618aarow5_col7 {\n",
       "            background-color:  #08306b;\n",
       "            color:  #f1f1f1;\n",
       "        }    #T_324f7a62_f6cf_11e9_818f_00216ae618aarow5_col8 {\n",
       "            background-color:  #f7fbff;\n",
       "            color:  #000000;\n",
       "        }    #T_324f7a62_f6cf_11e9_818f_00216ae618aarow6_col1 {\n",
       "            background-color:  #f5fafe;\n",
       "            color:  #000000;\n",
       "        }    #T_324f7a62_f6cf_11e9_818f_00216ae618aarow6_col2 {\n",
       "            background-color:  #f7fbff;\n",
       "            color:  #000000;\n",
       "        }    #T_324f7a62_f6cf_11e9_818f_00216ae618aarow6_col3 {\n",
       "            background-color:  #f7fbff;\n",
       "            color:  #000000;\n",
       "        }    #T_324f7a62_f6cf_11e9_818f_00216ae618aarow6_col4 {\n",
       "            background-color:  #f5fafe;\n",
       "            color:  #000000;\n",
       "        }    #T_324f7a62_f6cf_11e9_818f_00216ae618aarow6_col5 {\n",
       "            background-color:  #f7fbff;\n",
       "            color:  #000000;\n",
       "        }    #T_324f7a62_f6cf_11e9_818f_00216ae618aarow6_col6 {\n",
       "            background-color:  #f6faff;\n",
       "            color:  #000000;\n",
       "        }    #T_324f7a62_f6cf_11e9_818f_00216ae618aarow6_col7 {\n",
       "            background-color:  #08306b;\n",
       "            color:  #f1f1f1;\n",
       "        }    #T_324f7a62_f6cf_11e9_818f_00216ae618aarow6_col8 {\n",
       "            background-color:  #f7fbff;\n",
       "            color:  #000000;\n",
       "        }    #T_324f7a62_f6cf_11e9_818f_00216ae618aarow7_col1 {\n",
       "            background-color:  #f7fbff;\n",
       "            color:  #000000;\n",
       "        }    #T_324f7a62_f6cf_11e9_818f_00216ae618aarow7_col2 {\n",
       "            background-color:  #f7fbff;\n",
       "            color:  #000000;\n",
       "        }    #T_324f7a62_f6cf_11e9_818f_00216ae618aarow7_col3 {\n",
       "            background-color:  #f7fbff;\n",
       "            color:  #000000;\n",
       "        }    #T_324f7a62_f6cf_11e9_818f_00216ae618aarow7_col4 {\n",
       "            background-color:  #f7fbff;\n",
       "            color:  #000000;\n",
       "        }    #T_324f7a62_f6cf_11e9_818f_00216ae618aarow7_col5 {\n",
       "            background-color:  #f7fbff;\n",
       "            color:  #000000;\n",
       "        }    #T_324f7a62_f6cf_11e9_818f_00216ae618aarow7_col6 {\n",
       "            background-color:  #f7fbff;\n",
       "            color:  #000000;\n",
       "        }    #T_324f7a62_f6cf_11e9_818f_00216ae618aarow7_col7 {\n",
       "            background-color:  #08306b;\n",
       "            color:  #f1f1f1;\n",
       "        }    #T_324f7a62_f6cf_11e9_818f_00216ae618aarow7_col8 {\n",
       "            background-color:  #f7fbff;\n",
       "            color:  #000000;\n",
       "        }</style><table id=\"T_324f7a62_f6cf_11e9_818f_00216ae618aa\" ><thead>    <tr>        <th class=\"blank level0\" ></th>        <th class=\"col_heading level0 col0\" >Expect</th>        <th class=\"col_heading level0 col1\" >OP</th>        <th class=\"col_heading level0 col2\" >OI</th>        <th class=\"col_heading level0 col3\" >MOR</th>        <th class=\"col_heading level0 col4\" >IOA</th>        <th class=\"col_heading level0 col5\" >IA</th>        <th class=\"col_heading level0 col6\" >CFB</th>        <th class=\"col_heading level0 col7\" >CA</th>        <th class=\"col_heading level0 col8\" >BAB</th>    </tr></thead><tbody>\n",
       "                <tr>\n",
       "                        <th id=\"T_324f7a62_f6cf_11e9_818f_00216ae618aalevel0_row0\" class=\"row_heading level0 row0\" >0</th>\n",
       "                        <td id=\"T_324f7a62_f6cf_11e9_818f_00216ae618aarow0_col0\" class=\"data row0 col0\" >IA</td>\n",
       "                        <td id=\"T_324f7a62_f6cf_11e9_818f_00216ae618aarow0_col1\" class=\"data row0 col1\" >0.1</td>\n",
       "                        <td id=\"T_324f7a62_f6cf_11e9_818f_00216ae618aarow0_col2\" class=\"data row0 col2\" >0.01</td>\n",
       "                        <td id=\"T_324f7a62_f6cf_11e9_818f_00216ae618aarow0_col3\" class=\"data row0 col3\" >0.53</td>\n",
       "                        <td id=\"T_324f7a62_f6cf_11e9_818f_00216ae618aarow0_col4\" class=\"data row0 col4\" >22.02</td>\n",
       "                        <td id=\"T_324f7a62_f6cf_11e9_818f_00216ae618aarow0_col5\" class=\"data row0 col5\" >53.79</td>\n",
       "                        <td id=\"T_324f7a62_f6cf_11e9_818f_00216ae618aarow0_col6\" class=\"data row0 col6\" >0</td>\n",
       "                        <td id=\"T_324f7a62_f6cf_11e9_818f_00216ae618aarow0_col7\" class=\"data row0 col7\" >6.3</td>\n",
       "                        <td id=\"T_324f7a62_f6cf_11e9_818f_00216ae618aarow0_col8\" class=\"data row0 col8\" >17.24</td>\n",
       "            </tr>\n",
       "            <tr>\n",
       "                        <th id=\"T_324f7a62_f6cf_11e9_818f_00216ae618aalevel0_row1\" class=\"row_heading level0 row1\" >1</th>\n",
       "                        <td id=\"T_324f7a62_f6cf_11e9_818f_00216ae618aarow1_col0\" class=\"data row1 col0\" >OI</td>\n",
       "                        <td id=\"T_324f7a62_f6cf_11e9_818f_00216ae618aarow1_col1\" class=\"data row1 col1\" >0.11</td>\n",
       "                        <td id=\"T_324f7a62_f6cf_11e9_818f_00216ae618aarow1_col2\" class=\"data row1 col2\" >99.03</td>\n",
       "                        <td id=\"T_324f7a62_f6cf_11e9_818f_00216ae618aarow1_col3\" class=\"data row1 col3\" >0.11</td>\n",
       "                        <td id=\"T_324f7a62_f6cf_11e9_818f_00216ae618aarow1_col4\" class=\"data row1 col4\" >0</td>\n",
       "                        <td id=\"T_324f7a62_f6cf_11e9_818f_00216ae618aarow1_col5\" class=\"data row1 col5\" >0.01</td>\n",
       "                        <td id=\"T_324f7a62_f6cf_11e9_818f_00216ae618aarow1_col6\" class=\"data row1 col6\" >0.18</td>\n",
       "                        <td id=\"T_324f7a62_f6cf_11e9_818f_00216ae618aarow1_col7\" class=\"data row1 col7\" >0.53</td>\n",
       "                        <td id=\"T_324f7a62_f6cf_11e9_818f_00216ae618aarow1_col8\" class=\"data row1 col8\" >0.03</td>\n",
       "            </tr>\n",
       "            <tr>\n",
       "                        <th id=\"T_324f7a62_f6cf_11e9_818f_00216ae618aalevel0_row2\" class=\"row_heading level0 row2\" >2</th>\n",
       "                        <td id=\"T_324f7a62_f6cf_11e9_818f_00216ae618aarow2_col0\" class=\"data row2 col0\" >OI</td>\n",
       "                        <td id=\"T_324f7a62_f6cf_11e9_818f_00216ae618aarow2_col1\" class=\"data row2 col1\" >0.04</td>\n",
       "                        <td id=\"T_324f7a62_f6cf_11e9_818f_00216ae618aarow2_col2\" class=\"data row2 col2\" >88.95</td>\n",
       "                        <td id=\"T_324f7a62_f6cf_11e9_818f_00216ae618aarow2_col3\" class=\"data row2 col3\" >2.96</td>\n",
       "                        <td id=\"T_324f7a62_f6cf_11e9_818f_00216ae618aarow2_col4\" class=\"data row2 col4\" >0</td>\n",
       "                        <td id=\"T_324f7a62_f6cf_11e9_818f_00216ae618aarow2_col5\" class=\"data row2 col5\" >0</td>\n",
       "                        <td id=\"T_324f7a62_f6cf_11e9_818f_00216ae618aarow2_col6\" class=\"data row2 col6\" >7.77</td>\n",
       "                        <td id=\"T_324f7a62_f6cf_11e9_818f_00216ae618aarow2_col7\" class=\"data row2 col7\" >0.19</td>\n",
       "                        <td id=\"T_324f7a62_f6cf_11e9_818f_00216ae618aarow2_col8\" class=\"data row2 col8\" >0.09</td>\n",
       "            </tr>\n",
       "            <tr>\n",
       "                        <th id=\"T_324f7a62_f6cf_11e9_818f_00216ae618aalevel0_row3\" class=\"row_heading level0 row3\" >3</th>\n",
       "                        <td id=\"T_324f7a62_f6cf_11e9_818f_00216ae618aarow3_col0\" class=\"data row3 col0\" >OI</td>\n",
       "                        <td id=\"T_324f7a62_f6cf_11e9_818f_00216ae618aarow3_col1\" class=\"data row3 col1\" >2.27</td>\n",
       "                        <td id=\"T_324f7a62_f6cf_11e9_818f_00216ae618aarow3_col2\" class=\"data row3 col2\" >83.58</td>\n",
       "                        <td id=\"T_324f7a62_f6cf_11e9_818f_00216ae618aarow3_col3\" class=\"data row3 col3\" >0.63</td>\n",
       "                        <td id=\"T_324f7a62_f6cf_11e9_818f_00216ae618aarow3_col4\" class=\"data row3 col4\" >0</td>\n",
       "                        <td id=\"T_324f7a62_f6cf_11e9_818f_00216ae618aarow3_col5\" class=\"data row3 col5\" >0.05</td>\n",
       "                        <td id=\"T_324f7a62_f6cf_11e9_818f_00216ae618aarow3_col6\" class=\"data row3 col6\" >12.37</td>\n",
       "                        <td id=\"T_324f7a62_f6cf_11e9_818f_00216ae618aarow3_col7\" class=\"data row3 col7\" >0.81</td>\n",
       "                        <td id=\"T_324f7a62_f6cf_11e9_818f_00216ae618aarow3_col8\" class=\"data row3 col8\" >0.29</td>\n",
       "            </tr>\n",
       "            <tr>\n",
       "                        <th id=\"T_324f7a62_f6cf_11e9_818f_00216ae618aalevel0_row4\" class=\"row_heading level0 row4\" >4</th>\n",
       "                        <td id=\"T_324f7a62_f6cf_11e9_818f_00216ae618aarow4_col0\" class=\"data row4 col0\" >MOR</td>\n",
       "                        <td id=\"T_324f7a62_f6cf_11e9_818f_00216ae618aarow4_col1\" class=\"data row4 col1\" >1.32</td>\n",
       "                        <td id=\"T_324f7a62_f6cf_11e9_818f_00216ae618aarow4_col2\" class=\"data row4 col2\" >1.66</td>\n",
       "                        <td id=\"T_324f7a62_f6cf_11e9_818f_00216ae618aarow4_col3\" class=\"data row4 col3\" >59.99</td>\n",
       "                        <td id=\"T_324f7a62_f6cf_11e9_818f_00216ae618aarow4_col4\" class=\"data row4 col4\" >7.48</td>\n",
       "                        <td id=\"T_324f7a62_f6cf_11e9_818f_00216ae618aarow4_col5\" class=\"data row4 col5\" >3.09</td>\n",
       "                        <td id=\"T_324f7a62_f6cf_11e9_818f_00216ae618aarow4_col6\" class=\"data row4 col6\" >0.05</td>\n",
       "                        <td id=\"T_324f7a62_f6cf_11e9_818f_00216ae618aarow4_col7\" class=\"data row4 col7\" >0.17</td>\n",
       "                        <td id=\"T_324f7a62_f6cf_11e9_818f_00216ae618aarow4_col8\" class=\"data row4 col8\" >26.24</td>\n",
       "            </tr>\n",
       "            <tr>\n",
       "                        <th id=\"T_324f7a62_f6cf_11e9_818f_00216ae618aalevel0_row5\" class=\"row_heading level0 row5\" >5</th>\n",
       "                        <td id=\"T_324f7a62_f6cf_11e9_818f_00216ae618aarow5_col0\" class=\"data row5 col0\" >CA</td>\n",
       "                        <td id=\"T_324f7a62_f6cf_11e9_818f_00216ae618aarow5_col1\" class=\"data row5 col1\" >0.02</td>\n",
       "                        <td id=\"T_324f7a62_f6cf_11e9_818f_00216ae618aarow5_col2\" class=\"data row5 col2\" >0.14</td>\n",
       "                        <td id=\"T_324f7a62_f6cf_11e9_818f_00216ae618aarow5_col3\" class=\"data row5 col3\" >0</td>\n",
       "                        <td id=\"T_324f7a62_f6cf_11e9_818f_00216ae618aarow5_col4\" class=\"data row5 col4\" >4.25</td>\n",
       "                        <td id=\"T_324f7a62_f6cf_11e9_818f_00216ae618aarow5_col5\" class=\"data row5 col5\" >0.17</td>\n",
       "                        <td id=\"T_324f7a62_f6cf_11e9_818f_00216ae618aarow5_col6\" class=\"data row5 col6\" >0</td>\n",
       "                        <td id=\"T_324f7a62_f6cf_11e9_818f_00216ae618aarow5_col7\" class=\"data row5 col7\" >95.31</td>\n",
       "                        <td id=\"T_324f7a62_f6cf_11e9_818f_00216ae618aarow5_col8\" class=\"data row5 col8\" >0.11</td>\n",
       "            </tr>\n",
       "            <tr>\n",
       "                        <th id=\"T_324f7a62_f6cf_11e9_818f_00216ae618aalevel0_row6\" class=\"row_heading level0 row6\" >6</th>\n",
       "                        <td id=\"T_324f7a62_f6cf_11e9_818f_00216ae618aarow6_col0\" class=\"data row6 col0\" >CA</td>\n",
       "                        <td id=\"T_324f7a62_f6cf_11e9_818f_00216ae618aarow6_col1\" class=\"data row6 col1\" >0.94</td>\n",
       "                        <td id=\"T_324f7a62_f6cf_11e9_818f_00216ae618aarow6_col2\" class=\"data row6 col2\" >0</td>\n",
       "                        <td id=\"T_324f7a62_f6cf_11e9_818f_00216ae618aarow6_col3\" class=\"data row6 col3\" >0</td>\n",
       "                        <td id=\"T_324f7a62_f6cf_11e9_818f_00216ae618aarow6_col4\" class=\"data row6 col4\" >1.01</td>\n",
       "                        <td id=\"T_324f7a62_f6cf_11e9_818f_00216ae618aarow6_col5\" class=\"data row6 col5\" >0.11</td>\n",
       "                        <td id=\"T_324f7a62_f6cf_11e9_818f_00216ae618aarow6_col6\" class=\"data row6 col6\" >0.54</td>\n",
       "                        <td id=\"T_324f7a62_f6cf_11e9_818f_00216ae618aarow6_col7\" class=\"data row6 col7\" >97.21</td>\n",
       "                        <td id=\"T_324f7a62_f6cf_11e9_818f_00216ae618aarow6_col8\" class=\"data row6 col8\" >0.2</td>\n",
       "            </tr>\n",
       "            <tr>\n",
       "                        <th id=\"T_324f7a62_f6cf_11e9_818f_00216ae618aalevel0_row7\" class=\"row_heading level0 row7\" >7</th>\n",
       "                        <td id=\"T_324f7a62_f6cf_11e9_818f_00216ae618aarow7_col0\" class=\"data row7 col0\" >CA</td>\n",
       "                        <td id=\"T_324f7a62_f6cf_11e9_818f_00216ae618aarow7_col1\" class=\"data row7 col1\" >0</td>\n",
       "                        <td id=\"T_324f7a62_f6cf_11e9_818f_00216ae618aarow7_col2\" class=\"data row7 col2\" >0</td>\n",
       "                        <td id=\"T_324f7a62_f6cf_11e9_818f_00216ae618aarow7_col3\" class=\"data row7 col3\" >0</td>\n",
       "                        <td id=\"T_324f7a62_f6cf_11e9_818f_00216ae618aarow7_col4\" class=\"data row7 col4\" >0</td>\n",
       "                        <td id=\"T_324f7a62_f6cf_11e9_818f_00216ae618aarow7_col5\" class=\"data row7 col5\" >0</td>\n",
       "                        <td id=\"T_324f7a62_f6cf_11e9_818f_00216ae618aarow7_col6\" class=\"data row7 col6\" >0</td>\n",
       "                        <td id=\"T_324f7a62_f6cf_11e9_818f_00216ae618aarow7_col7\" class=\"data row7 col7\" >100</td>\n",
       "                        <td id=\"T_324f7a62_f6cf_11e9_818f_00216ae618aarow7_col8\" class=\"data row7 col8\" >0</td>\n",
       "            </tr>\n",
       "    </tbody></table>"
      ],
      "text/plain": [
       "<pandas.io.formats.style.Styler at 0x1926c5c4358>"
      ]
     },
     "execution_count": 18,
     "metadata": {},
     "output_type": "execute_result"
    }
   ],
   "source": [
    "probs = pd.DataFrame(data=lr.predict_proba(X_test[:8, :]), columns=lr.classes_) * 100\n",
    "probs[\"Expect\"] = y_test[:8].tolist()\n",
    "table = probs[probs.columns[::-1]].round(2)\n",
    "table.style.background_gradient(cmap=\"Blues\", axis=1)"
   ]
  },
  {
   "cell_type": "markdown",
   "metadata": {
    "slideshow": {
     "slide_type": "slide"
    }
   },
   "source": [
    "We can also invesigate the coefficients for each of the classes, which indicate the relative weighting for the features used. As we've used a sparse variant of the logistic regression here, there are a number of features with zero weight, but typically a significant number of features are non-zero for each class (consistent with Ueki et al. 2018)."
   ]
  },
  {
   "cell_type": "code",
   "execution_count": 19,
   "metadata": {
    "slideshow": {
     "slide_type": "subslide"
    }
   },
   "outputs": [
    {
     "data": {
      "text/html": [
       "<style  type=\"text/css\" >\n",
       "    #T_327578d8_f6cf_11e9_a3e7_00216ae618aarow0_col0 {\n",
       "            background-color:  #1fa187;\n",
       "            color:  #000000;\n",
       "        }    #T_327578d8_f6cf_11e9_a3e7_00216ae618aarow0_col1 {\n",
       "            background-color:  #1fa187;\n",
       "            color:  #000000;\n",
       "        }    #T_327578d8_f6cf_11e9_a3e7_00216ae618aarow0_col2 {\n",
       "            background-color:  #21a585;\n",
       "            color:  #000000;\n",
       "        }    #T_327578d8_f6cf_11e9_a3e7_00216ae618aarow0_col3 {\n",
       "            background-color:  #46c06f;\n",
       "            color:  #000000;\n",
       "        }    #T_327578d8_f6cf_11e9_a3e7_00216ae618aarow0_col4 {\n",
       "            background-color:  #1f9e89;\n",
       "            color:  #000000;\n",
       "        }    #T_327578d8_f6cf_11e9_a3e7_00216ae618aarow0_col5 {\n",
       "            background-color:  #1f9f88;\n",
       "            color:  #000000;\n",
       "        }    #T_327578d8_f6cf_11e9_a3e7_00216ae618aarow0_col6 {\n",
       "            background-color:  #1e9c89;\n",
       "            color:  #000000;\n",
       "        }    #T_327578d8_f6cf_11e9_a3e7_00216ae618aarow0_col7 {\n",
       "            background-color:  #1e9b8a;\n",
       "            color:  #000000;\n",
       "        }    #T_327578d8_f6cf_11e9_a3e7_00216ae618aarow1_col0 {\n",
       "            background-color:  #1fa187;\n",
       "            color:  #000000;\n",
       "        }    #T_327578d8_f6cf_11e9_a3e7_00216ae618aarow1_col1 {\n",
       "            background-color:  #2fb47c;\n",
       "            color:  #000000;\n",
       "        }    #T_327578d8_f6cf_11e9_a3e7_00216ae618aarow1_col2 {\n",
       "            background-color:  #21a585;\n",
       "            color:  #000000;\n",
       "        }    #T_327578d8_f6cf_11e9_a3e7_00216ae618aarow1_col3 {\n",
       "            background-color:  #3e4a89;\n",
       "            color:  #f1f1f1;\n",
       "        }    #T_327578d8_f6cf_11e9_a3e7_00216ae618aarow1_col4 {\n",
       "            background-color:  #26828e;\n",
       "            color:  #000000;\n",
       "        }    #T_327578d8_f6cf_11e9_a3e7_00216ae618aarow1_col5 {\n",
       "            background-color:  #27ad81;\n",
       "            color:  #000000;\n",
       "        }    #T_327578d8_f6cf_11e9_a3e7_00216ae618aarow1_col6 {\n",
       "            background-color:  #4ac16d;\n",
       "            color:  #000000;\n",
       "        }    #T_327578d8_f6cf_11e9_a3e7_00216ae618aarow1_col7 {\n",
       "            background-color:  #2cb17e;\n",
       "            color:  #000000;\n",
       "        }    #T_327578d8_f6cf_11e9_a3e7_00216ae618aarow2_col0 {\n",
       "            background-color:  #31b57b;\n",
       "            color:  #000000;\n",
       "        }    #T_327578d8_f6cf_11e9_a3e7_00216ae618aarow2_col1 {\n",
       "            background-color:  #46c06f;\n",
       "            color:  #000000;\n",
       "        }    #T_327578d8_f6cf_11e9_a3e7_00216ae618aarow2_col2 {\n",
       "            background-color:  #30698e;\n",
       "            color:  #f1f1f1;\n",
       "        }    #T_327578d8_f6cf_11e9_a3e7_00216ae618aarow2_col3 {\n",
       "            background-color:  #1e9b8a;\n",
       "            color:  #000000;\n",
       "        }    #T_327578d8_f6cf_11e9_a3e7_00216ae618aarow2_col4 {\n",
       "            background-color:  #86d549;\n",
       "            color:  #000000;\n",
       "        }    #T_327578d8_f6cf_11e9_a3e7_00216ae618aarow2_col5 {\n",
       "            background-color:  #1f9e89;\n",
       "            color:  #000000;\n",
       "        }    #T_327578d8_f6cf_11e9_a3e7_00216ae618aarow2_col6 {\n",
       "            background-color:  #287d8e;\n",
       "            color:  #000000;\n",
       "        }    #T_327578d8_f6cf_11e9_a3e7_00216ae618aarow2_col7 {\n",
       "            background-color:  #1fa187;\n",
       "            color:  #000000;\n",
       "        }    #T_327578d8_f6cf_11e9_a3e7_00216ae618aarow3_col0 {\n",
       "            background-color:  #25838e;\n",
       "            color:  #000000;\n",
       "        }    #T_327578d8_f6cf_11e9_a3e7_00216ae618aarow3_col1 {\n",
       "            background-color:  #1e9c89;\n",
       "            color:  #000000;\n",
       "        }    #T_327578d8_f6cf_11e9_a3e7_00216ae618aarow3_col2 {\n",
       "            background-color:  #7cd250;\n",
       "            color:  #000000;\n",
       "        }    #T_327578d8_f6cf_11e9_a3e7_00216ae618aarow3_col3 {\n",
       "            background-color:  #2eb37c;\n",
       "            color:  #000000;\n",
       "        }    #T_327578d8_f6cf_11e9_a3e7_00216ae618aarow3_col4 {\n",
       "            background-color:  #228c8d;\n",
       "            color:  #000000;\n",
       "        }    #T_327578d8_f6cf_11e9_a3e7_00216ae618aarow3_col5 {\n",
       "            background-color:  #297a8e;\n",
       "            color:  #000000;\n",
       "        }    #T_327578d8_f6cf_11e9_a3e7_00216ae618aarow3_col6 {\n",
       "            background-color:  #25ac82;\n",
       "            color:  #000000;\n",
       "        }    #T_327578d8_f6cf_11e9_a3e7_00216ae618aarow3_col7 {\n",
       "            background-color:  #2eb37c;\n",
       "            color:  #000000;\n",
       "        }    #T_327578d8_f6cf_11e9_a3e7_00216ae618aarow4_col0 {\n",
       "            background-color:  #21908d;\n",
       "            color:  #000000;\n",
       "        }    #T_327578d8_f6cf_11e9_a3e7_00216ae618aarow4_col1 {\n",
       "            background-color:  #20a386;\n",
       "            color:  #000000;\n",
       "        }    #T_327578d8_f6cf_11e9_a3e7_00216ae618aarow4_col2 {\n",
       "            background-color:  #1e9d89;\n",
       "            color:  #000000;\n",
       "        }    #T_327578d8_f6cf_11e9_a3e7_00216ae618aarow4_col3 {\n",
       "            background-color:  #365c8d;\n",
       "            color:  #f1f1f1;\n",
       "        }    #T_327578d8_f6cf_11e9_a3e7_00216ae618aarow4_col4 {\n",
       "            background-color:  #46c06f;\n",
       "            color:  #000000;\n",
       "        }    #T_327578d8_f6cf_11e9_a3e7_00216ae618aarow4_col5 {\n",
       "            background-color:  #2ab07f;\n",
       "            color:  #000000;\n",
       "        }    #T_327578d8_f6cf_11e9_a3e7_00216ae618aarow4_col6 {\n",
       "            background-color:  #37b878;\n",
       "            color:  #000000;\n",
       "        }    #T_327578d8_f6cf_11e9_a3e7_00216ae618aarow4_col7 {\n",
       "            background-color:  #1fa187;\n",
       "            color:  #000000;\n",
       "        }    #T_327578d8_f6cf_11e9_a3e7_00216ae618aarow5_col0 {\n",
       "            background-color:  #60ca60;\n",
       "            color:  #000000;\n",
       "        }    #T_327578d8_f6cf_11e9_a3e7_00216ae618aarow5_col1 {\n",
       "            background-color:  #306a8e;\n",
       "            color:  #f1f1f1;\n",
       "        }    #T_327578d8_f6cf_11e9_a3e7_00216ae618aarow5_col2 {\n",
       "            background-color:  #1fa187;\n",
       "            color:  #000000;\n",
       "        }    #T_327578d8_f6cf_11e9_a3e7_00216ae618aarow5_col3 {\n",
       "            background-color:  #29af7f;\n",
       "            color:  #000000;\n",
       "        }    #T_327578d8_f6cf_11e9_a3e7_00216ae618aarow5_col4 {\n",
       "            background-color:  #20928c;\n",
       "            color:  #000000;\n",
       "        }    #T_327578d8_f6cf_11e9_a3e7_00216ae618aarow5_col5 {\n",
       "            background-color:  #bade28;\n",
       "            color:  #000000;\n",
       "        }    #T_327578d8_f6cf_11e9_a3e7_00216ae618aarow5_col6 {\n",
       "            background-color:  #1e9c89;\n",
       "            color:  #000000;\n",
       "        }    #T_327578d8_f6cf_11e9_a3e7_00216ae618aarow5_col7 {\n",
       "            background-color:  #25838e;\n",
       "            color:  #000000;\n",
       "        }    #T_327578d8_f6cf_11e9_a3e7_00216ae618aarow6_col0 {\n",
       "            background-color:  #1fa187;\n",
       "            color:  #000000;\n",
       "        }    #T_327578d8_f6cf_11e9_a3e7_00216ae618aarow6_col1 {\n",
       "            background-color:  #28ae80;\n",
       "            color:  #000000;\n",
       "        }    #T_327578d8_f6cf_11e9_a3e7_00216ae618aarow6_col2 {\n",
       "            background-color:  #23888e;\n",
       "            color:  #000000;\n",
       "        }    #T_327578d8_f6cf_11e9_a3e7_00216ae618aarow6_col3 {\n",
       "            background-color:  #2f6b8e;\n",
       "            color:  #f1f1f1;\n",
       "        }    #T_327578d8_f6cf_11e9_a3e7_00216ae618aarow6_col4 {\n",
       "            background-color:  #4ac16d;\n",
       "            color:  #000000;\n",
       "        }    #T_327578d8_f6cf_11e9_a3e7_00216ae618aarow6_col5 {\n",
       "            background-color:  #218f8d;\n",
       "            color:  #000000;\n",
       "        }    #T_327578d8_f6cf_11e9_a3e7_00216ae618aarow6_col6 {\n",
       "            background-color:  #67cc5c;\n",
       "            color:  #000000;\n",
       "        }    #T_327578d8_f6cf_11e9_a3e7_00216ae618aarow6_col7 {\n",
       "            background-color:  #2db27d;\n",
       "            color:  #000000;\n",
       "        }    #T_327578d8_f6cf_11e9_a3e7_00216ae618aarow7_col0 {\n",
       "            background-color:  #a8db34;\n",
       "            color:  #000000;\n",
       "        }    #T_327578d8_f6cf_11e9_a3e7_00216ae618aarow7_col1 {\n",
       "            background-color:  #228b8d;\n",
       "            color:  #000000;\n",
       "        }    #T_327578d8_f6cf_11e9_a3e7_00216ae618aarow7_col2 {\n",
       "            background-color:  #20928c;\n",
       "            color:  #000000;\n",
       "        }    #T_327578d8_f6cf_11e9_a3e7_00216ae618aarow7_col3 {\n",
       "            background-color:  #58c765;\n",
       "            color:  #000000;\n",
       "        }    #T_327578d8_f6cf_11e9_a3e7_00216ae618aarow7_col4 {\n",
       "            background-color:  #287d8e;\n",
       "            color:  #000000;\n",
       "        }    #T_327578d8_f6cf_11e9_a3e7_00216ae618aarow7_col5 {\n",
       "            background-color:  #238a8d;\n",
       "            color:  #000000;\n",
       "        }    #T_327578d8_f6cf_11e9_a3e7_00216ae618aarow7_col6 {\n",
       "            background-color:  #1f9a8a;\n",
       "            color:  #000000;\n",
       "        }    #T_327578d8_f6cf_11e9_a3e7_00216ae618aarow7_col7 {\n",
       "            background-color:  #3bbb75;\n",
       "            color:  #000000;\n",
       "        }    #T_327578d8_f6cf_11e9_a3e7_00216ae618aarow8_col0 {\n",
       "            background-color:  #25ab82;\n",
       "            color:  #000000;\n",
       "        }    #T_327578d8_f6cf_11e9_a3e7_00216ae618aarow8_col1 {\n",
       "            background-color:  #297b8e;\n",
       "            color:  #000000;\n",
       "        }    #T_327578d8_f6cf_11e9_a3e7_00216ae618aarow8_col2 {\n",
       "            background-color:  #1fa187;\n",
       "            color:  #000000;\n",
       "        }    #T_327578d8_f6cf_11e9_a3e7_00216ae618aarow8_col3 {\n",
       "            background-color:  #1fa187;\n",
       "            color:  #000000;\n",
       "        }    #T_327578d8_f6cf_11e9_a3e7_00216ae618aarow8_col4 {\n",
       "            background-color:  #1fa187;\n",
       "            color:  #000000;\n",
       "        }    #T_327578d8_f6cf_11e9_a3e7_00216ae618aarow8_col5 {\n",
       "            background-color:  #1fa187;\n",
       "            color:  #000000;\n",
       "        }    #T_327578d8_f6cf_11e9_a3e7_00216ae618aarow8_col6 {\n",
       "            background-color:  #22a884;\n",
       "            color:  #000000;\n",
       "        }    #T_327578d8_f6cf_11e9_a3e7_00216ae618aarow8_col7 {\n",
       "            background-color:  #1fa187;\n",
       "            color:  #000000;\n",
       "        }    #T_327578d8_f6cf_11e9_a3e7_00216ae618aarow9_col0 {\n",
       "            background-color:  #1fa187;\n",
       "            color:  #000000;\n",
       "        }    #T_327578d8_f6cf_11e9_a3e7_00216ae618aarow9_col1 {\n",
       "            background-color:  #2a778e;\n",
       "            color:  #000000;\n",
       "        }    #T_327578d8_f6cf_11e9_a3e7_00216ae618aarow9_col2 {\n",
       "            background-color:  #1fa187;\n",
       "            color:  #000000;\n",
       "        }    #T_327578d8_f6cf_11e9_a3e7_00216ae618aarow9_col3 {\n",
       "            background-color:  #1fa187;\n",
       "            color:  #000000;\n",
       "        }    #T_327578d8_f6cf_11e9_a3e7_00216ae618aarow9_col4 {\n",
       "            background-color:  #22a785;\n",
       "            color:  #000000;\n",
       "        }    #T_327578d8_f6cf_11e9_a3e7_00216ae618aarow9_col5 {\n",
       "            background-color:  #1fa187;\n",
       "            color:  #000000;\n",
       "        }    #T_327578d8_f6cf_11e9_a3e7_00216ae618aarow9_col6 {\n",
       "            background-color:  #20a486;\n",
       "            color:  #000000;\n",
       "        }    #T_327578d8_f6cf_11e9_a3e7_00216ae618aarow9_col7 {\n",
       "            background-color:  #1fa187;\n",
       "            color:  #000000;\n",
       "        }    #T_327578d8_f6cf_11e9_a3e7_00216ae618aarow10_col0 {\n",
       "            background-color:  #1fa187;\n",
       "            color:  #000000;\n",
       "        }    #T_327578d8_f6cf_11e9_a3e7_00216ae618aarow10_col1 {\n",
       "            background-color:  #1fa187;\n",
       "            color:  #000000;\n",
       "        }    #T_327578d8_f6cf_11e9_a3e7_00216ae618aarow10_col2 {\n",
       "            background-color:  #1fa187;\n",
       "            color:  #000000;\n",
       "        }    #T_327578d8_f6cf_11e9_a3e7_00216ae618aarow10_col3 {\n",
       "            background-color:  #1fa187;\n",
       "            color:  #000000;\n",
       "        }    #T_327578d8_f6cf_11e9_a3e7_00216ae618aarow10_col4 {\n",
       "            background-color:  #1fa187;\n",
       "            color:  #000000;\n",
       "        }    #T_327578d8_f6cf_11e9_a3e7_00216ae618aarow10_col5 {\n",
       "            background-color:  #1f9e89;\n",
       "            color:  #000000;\n",
       "        }    #T_327578d8_f6cf_11e9_a3e7_00216ae618aarow10_col6 {\n",
       "            background-color:  #20a486;\n",
       "            color:  #000000;\n",
       "        }    #T_327578d8_f6cf_11e9_a3e7_00216ae618aarow10_col7 {\n",
       "            background-color:  #1fa187;\n",
       "            color:  #000000;\n",
       "        }    #T_327578d8_f6cf_11e9_a3e7_00216ae618aarow11_col0 {\n",
       "            background-color:  #1e9d89;\n",
       "            color:  #000000;\n",
       "        }    #T_327578d8_f6cf_11e9_a3e7_00216ae618aarow11_col1 {\n",
       "            background-color:  #37b878;\n",
       "            color:  #000000;\n",
       "        }    #T_327578d8_f6cf_11e9_a3e7_00216ae618aarow11_col2 {\n",
       "            background-color:  #1fa287;\n",
       "            color:  #000000;\n",
       "        }    #T_327578d8_f6cf_11e9_a3e7_00216ae618aarow11_col3 {\n",
       "            background-color:  #20a486;\n",
       "            color:  #000000;\n",
       "        }    #T_327578d8_f6cf_11e9_a3e7_00216ae618aarow11_col4 {\n",
       "            background-color:  #1e9c89;\n",
       "            color:  #000000;\n",
       "        }    #T_327578d8_f6cf_11e9_a3e7_00216ae618aarow11_col5 {\n",
       "            background-color:  #218f8d;\n",
       "            color:  #000000;\n",
       "        }    #T_327578d8_f6cf_11e9_a3e7_00216ae618aarow11_col6 {\n",
       "            background-color:  #22a884;\n",
       "            color:  #000000;\n",
       "        }    #T_327578d8_f6cf_11e9_a3e7_00216ae618aarow11_col7 {\n",
       "            background-color:  #1fa187;\n",
       "            color:  #000000;\n",
       "        }    #T_327578d8_f6cf_11e9_a3e7_00216ae618aarow12_col0 {\n",
       "            background-color:  #1fa187;\n",
       "            color:  #000000;\n",
       "        }    #T_327578d8_f6cf_11e9_a3e7_00216ae618aarow12_col1 {\n",
       "            background-color:  #77d153;\n",
       "            color:  #000000;\n",
       "        }    #T_327578d8_f6cf_11e9_a3e7_00216ae618aarow12_col2 {\n",
       "            background-color:  #1fa187;\n",
       "            color:  #000000;\n",
       "        }    #T_327578d8_f6cf_11e9_a3e7_00216ae618aarow12_col3 {\n",
       "            background-color:  #26ad81;\n",
       "            color:  #000000;\n",
       "        }    #T_327578d8_f6cf_11e9_a3e7_00216ae618aarow12_col4 {\n",
       "            background-color:  #2a778e;\n",
       "            color:  #000000;\n",
       "        }    #T_327578d8_f6cf_11e9_a3e7_00216ae618aarow12_col5 {\n",
       "            background-color:  #27808e;\n",
       "            color:  #000000;\n",
       "        }    #T_327578d8_f6cf_11e9_a3e7_00216ae618aarow12_col6 {\n",
       "            background-color:  #22a884;\n",
       "            color:  #000000;\n",
       "        }    #T_327578d8_f6cf_11e9_a3e7_00216ae618aarow12_col7 {\n",
       "            background-color:  #1fa287;\n",
       "            color:  #000000;\n",
       "        }    #T_327578d8_f6cf_11e9_a3e7_00216ae618aarow13_col0 {\n",
       "            background-color:  #1f988b;\n",
       "            color:  #000000;\n",
       "        }    #T_327578d8_f6cf_11e9_a3e7_00216ae618aarow13_col1 {\n",
       "            background-color:  #2a768e;\n",
       "            color:  #f1f1f1;\n",
       "        }    #T_327578d8_f6cf_11e9_a3e7_00216ae618aarow13_col2 {\n",
       "            background-color:  #1e9c89;\n",
       "            color:  #000000;\n",
       "        }    #T_327578d8_f6cf_11e9_a3e7_00216ae618aarow13_col3 {\n",
       "            background-color:  #1fa287;\n",
       "            color:  #000000;\n",
       "        }    #T_327578d8_f6cf_11e9_a3e7_00216ae618aarow13_col4 {\n",
       "            background-color:  #6ccd5a;\n",
       "            color:  #000000;\n",
       "        }    #T_327578d8_f6cf_11e9_a3e7_00216ae618aarow13_col5 {\n",
       "            background-color:  #6ece58;\n",
       "            color:  #000000;\n",
       "        }    #T_327578d8_f6cf_11e9_a3e7_00216ae618aarow13_col6 {\n",
       "            background-color:  #32658e;\n",
       "            color:  #f1f1f1;\n",
       "        }    #T_327578d8_f6cf_11e9_a3e7_00216ae618aarow13_col7 {\n",
       "            background-color:  #35b779;\n",
       "            color:  #000000;\n",
       "        }    #T_327578d8_f6cf_11e9_a3e7_00216ae618aarow14_col0 {\n",
       "            background-color:  #52c569;\n",
       "            color:  #000000;\n",
       "        }    #T_327578d8_f6cf_11e9_a3e7_00216ae618aarow14_col1 {\n",
       "            background-color:  #1f978b;\n",
       "            color:  #000000;\n",
       "        }    #T_327578d8_f6cf_11e9_a3e7_00216ae618aarow14_col2 {\n",
       "            background-color:  #1fa187;\n",
       "            color:  #000000;\n",
       "        }    #T_327578d8_f6cf_11e9_a3e7_00216ae618aarow14_col3 {\n",
       "            background-color:  #1fa088;\n",
       "            color:  #000000;\n",
       "        }    #T_327578d8_f6cf_11e9_a3e7_00216ae618aarow14_col4 {\n",
       "            background-color:  #25ab82;\n",
       "            color:  #000000;\n",
       "        }    #T_327578d8_f6cf_11e9_a3e7_00216ae618aarow14_col5 {\n",
       "            background-color:  #35b779;\n",
       "            color:  #000000;\n",
       "        }    #T_327578d8_f6cf_11e9_a3e7_00216ae618aarow14_col6 {\n",
       "            background-color:  #30698e;\n",
       "            color:  #f1f1f1;\n",
       "        }    #T_327578d8_f6cf_11e9_a3e7_00216ae618aarow14_col7 {\n",
       "            background-color:  #1fa187;\n",
       "            color:  #000000;\n",
       "        }    #T_327578d8_f6cf_11e9_a3e7_00216ae618aarow15_col0 {\n",
       "            background-color:  #2d718e;\n",
       "            color:  #f1f1f1;\n",
       "        }    #T_327578d8_f6cf_11e9_a3e7_00216ae618aarow15_col1 {\n",
       "            background-color:  #77d153;\n",
       "            color:  #000000;\n",
       "        }    #T_327578d8_f6cf_11e9_a3e7_00216ae618aarow15_col2 {\n",
       "            background-color:  #2ab07f;\n",
       "            color:  #000000;\n",
       "        }    #T_327578d8_f6cf_11e9_a3e7_00216ae618aarow15_col3 {\n",
       "            background-color:  #23898e;\n",
       "            color:  #000000;\n",
       "        }    #T_327578d8_f6cf_11e9_a3e7_00216ae618aarow15_col4 {\n",
       "            background-color:  #6ece58;\n",
       "            color:  #000000;\n",
       "        }    #T_327578d8_f6cf_11e9_a3e7_00216ae618aarow15_col5 {\n",
       "            background-color:  #2db27d;\n",
       "            color:  #000000;\n",
       "        }    #T_327578d8_f6cf_11e9_a3e7_00216ae618aarow15_col6 {\n",
       "            background-color:  #2c718e;\n",
       "            color:  #f1f1f1;\n",
       "        }    #T_327578d8_f6cf_11e9_a3e7_00216ae618aarow15_col7 {\n",
       "            background-color:  #1f978b;\n",
       "            color:  #000000;\n",
       "        }    #T_327578d8_f6cf_11e9_a3e7_00216ae618aarow16_col0 {\n",
       "            background-color:  #26828e;\n",
       "            color:  #000000;\n",
       "        }    #T_327578d8_f6cf_11e9_a3e7_00216ae618aarow16_col1 {\n",
       "            background-color:  #21a685;\n",
       "            color:  #000000;\n",
       "        }    #T_327578d8_f6cf_11e9_a3e7_00216ae618aarow16_col2 {\n",
       "            background-color:  #28ae80;\n",
       "            color:  #000000;\n",
       "        }    #T_327578d8_f6cf_11e9_a3e7_00216ae618aarow16_col3 {\n",
       "            background-color:  #287c8e;\n",
       "            color:  #000000;\n",
       "        }    #T_327578d8_f6cf_11e9_a3e7_00216ae618aarow16_col4 {\n",
       "            background-color:  #23888e;\n",
       "            color:  #000000;\n",
       "        }    #T_327578d8_f6cf_11e9_a3e7_00216ae618aarow16_col5 {\n",
       "            background-color:  #21a585;\n",
       "            color:  #000000;\n",
       "        }    #T_327578d8_f6cf_11e9_a3e7_00216ae618aarow16_col6 {\n",
       "            background-color:  #65cb5e;\n",
       "            color:  #000000;\n",
       "        }    #T_327578d8_f6cf_11e9_a3e7_00216ae618aarow16_col7 {\n",
       "            background-color:  #21a585;\n",
       "            color:  #000000;\n",
       "        }    #T_327578d8_f6cf_11e9_a3e7_00216ae618aarow17_col0 {\n",
       "            background-color:  #2cb17e;\n",
       "            color:  #000000;\n",
       "        }    #T_327578d8_f6cf_11e9_a3e7_00216ae618aarow17_col1 {\n",
       "            background-color:  #2b748e;\n",
       "            color:  #f1f1f1;\n",
       "        }    #T_327578d8_f6cf_11e9_a3e7_00216ae618aarow17_col2 {\n",
       "            background-color:  #1fa188;\n",
       "            color:  #000000;\n",
       "        }    #T_327578d8_f6cf_11e9_a3e7_00216ae618aarow17_col3 {\n",
       "            background-color:  #1f988b;\n",
       "            color:  #000000;\n",
       "        }    #T_327578d8_f6cf_11e9_a3e7_00216ae618aarow17_col4 {\n",
       "            background-color:  #297b8e;\n",
       "            color:  #000000;\n",
       "        }    #T_327578d8_f6cf_11e9_a3e7_00216ae618aarow17_col5 {\n",
       "            background-color:  #95d840;\n",
       "            color:  #000000;\n",
       "        }    #T_327578d8_f6cf_11e9_a3e7_00216ae618aarow17_col6 {\n",
       "            background-color:  #2eb37c;\n",
       "            color:  #000000;\n",
       "        }    #T_327578d8_f6cf_11e9_a3e7_00216ae618aarow17_col7 {\n",
       "            background-color:  #20a486;\n",
       "            color:  #000000;\n",
       "        }    #T_327578d8_f6cf_11e9_a3e7_00216ae618aarow18_col0 {\n",
       "            background-color:  #1f978b;\n",
       "            color:  #000000;\n",
       "        }    #T_327578d8_f6cf_11e9_a3e7_00216ae618aarow18_col1 {\n",
       "            background-color:  #1fa187;\n",
       "            color:  #000000;\n",
       "        }    #T_327578d8_f6cf_11e9_a3e7_00216ae618aarow18_col2 {\n",
       "            background-color:  #1fa187;\n",
       "            color:  #000000;\n",
       "        }    #T_327578d8_f6cf_11e9_a3e7_00216ae618aarow18_col3 {\n",
       "            background-color:  #1fa188;\n",
       "            color:  #000000;\n",
       "        }    #T_327578d8_f6cf_11e9_a3e7_00216ae618aarow18_col4 {\n",
       "            background-color:  #31b57b;\n",
       "            color:  #000000;\n",
       "        }    #T_327578d8_f6cf_11e9_a3e7_00216ae618aarow18_col5 {\n",
       "            background-color:  #1fa187;\n",
       "            color:  #000000;\n",
       "        }    #T_327578d8_f6cf_11e9_a3e7_00216ae618aarow18_col6 {\n",
       "            background-color:  #44bf70;\n",
       "            color:  #000000;\n",
       "        }    #T_327578d8_f6cf_11e9_a3e7_00216ae618aarow18_col7 {\n",
       "            background-color:  #2a768e;\n",
       "            color:  #f1f1f1;\n",
       "        }    #T_327578d8_f6cf_11e9_a3e7_00216ae618aarow19_col0 {\n",
       "            background-color:  #1fa187;\n",
       "            color:  #000000;\n",
       "        }    #T_327578d8_f6cf_11e9_a3e7_00216ae618aarow19_col1 {\n",
       "            background-color:  #a8db34;\n",
       "            color:  #000000;\n",
       "        }    #T_327578d8_f6cf_11e9_a3e7_00216ae618aarow19_col2 {\n",
       "            background-color:  #1fa187;\n",
       "            color:  #000000;\n",
       "        }    #T_327578d8_f6cf_11e9_a3e7_00216ae618aarow19_col3 {\n",
       "            background-color:  #5ac864;\n",
       "            color:  #000000;\n",
       "        }    #T_327578d8_f6cf_11e9_a3e7_00216ae618aarow19_col4 {\n",
       "            background-color:  #1fa187;\n",
       "            color:  #000000;\n",
       "        }    #T_327578d8_f6cf_11e9_a3e7_00216ae618aarow19_col5 {\n",
       "            background-color:  #33628d;\n",
       "            color:  #f1f1f1;\n",
       "        }    #T_327578d8_f6cf_11e9_a3e7_00216ae618aarow19_col6 {\n",
       "            background-color:  #34b679;\n",
       "            color:  #000000;\n",
       "        }    #T_327578d8_f6cf_11e9_a3e7_00216ae618aarow19_col7 {\n",
       "            background-color:  #365d8d;\n",
       "            color:  #f1f1f1;\n",
       "        }    #T_327578d8_f6cf_11e9_a3e7_00216ae618aarow20_col0 {\n",
       "            background-color:  #4ac16d;\n",
       "            color:  #000000;\n",
       "        }    #T_327578d8_f6cf_11e9_a3e7_00216ae618aarow20_col1 {\n",
       "            background-color:  #27ad81;\n",
       "            color:  #000000;\n",
       "        }    #T_327578d8_f6cf_11e9_a3e7_00216ae618aarow20_col2 {\n",
       "            background-color:  #1f9f88;\n",
       "            color:  #000000;\n",
       "        }    #T_327578d8_f6cf_11e9_a3e7_00216ae618aarow20_col3 {\n",
       "            background-color:  #24868e;\n",
       "            color:  #000000;\n",
       "        }    #T_327578d8_f6cf_11e9_a3e7_00216ae618aarow20_col4 {\n",
       "            background-color:  #238a8d;\n",
       "            color:  #000000;\n",
       "        }    #T_327578d8_f6cf_11e9_a3e7_00216ae618aarow20_col5 {\n",
       "            background-color:  #46c06f;\n",
       "            color:  #000000;\n",
       "        }    #T_327578d8_f6cf_11e9_a3e7_00216ae618aarow20_col6 {\n",
       "            background-color:  #228c8d;\n",
       "            color:  #000000;\n",
       "        }    #T_327578d8_f6cf_11e9_a3e7_00216ae618aarow20_col7 {\n",
       "            background-color:  #22a884;\n",
       "            color:  #000000;\n",
       "        }    #T_327578d8_f6cf_11e9_a3e7_00216ae618aarow21_col0 {\n",
       "            background-color:  #1e9d89;\n",
       "            color:  #000000;\n",
       "        }    #T_327578d8_f6cf_11e9_a3e7_00216ae618aarow21_col1 {\n",
       "            background-color:  #32b67a;\n",
       "            color:  #000000;\n",
       "        }    #T_327578d8_f6cf_11e9_a3e7_00216ae618aarow21_col2 {\n",
       "            background-color:  #1f988b;\n",
       "            color:  #000000;\n",
       "        }    #T_327578d8_f6cf_11e9_a3e7_00216ae618aarow21_col3 {\n",
       "            background-color:  #2a788e;\n",
       "            color:  #000000;\n",
       "        }    #T_327578d8_f6cf_11e9_a3e7_00216ae618aarow21_col4 {\n",
       "            background-color:  #58c765;\n",
       "            color:  #000000;\n",
       "        }    #T_327578d8_f6cf_11e9_a3e7_00216ae618aarow21_col5 {\n",
       "            background-color:  #1fa187;\n",
       "            color:  #000000;\n",
       "        }    #T_327578d8_f6cf_11e9_a3e7_00216ae618aarow21_col6 {\n",
       "            background-color:  #24aa83;\n",
       "            color:  #000000;\n",
       "        }    #T_327578d8_f6cf_11e9_a3e7_00216ae618aarow21_col7 {\n",
       "            background-color:  #1fa187;\n",
       "            color:  #000000;\n",
       "        }    #T_327578d8_f6cf_11e9_a3e7_00216ae618aarow22_col0 {\n",
       "            background-color:  #1fa187;\n",
       "            color:  #000000;\n",
       "        }    #T_327578d8_f6cf_11e9_a3e7_00216ae618aarow22_col1 {\n",
       "            background-color:  #1f988b;\n",
       "            color:  #000000;\n",
       "        }    #T_327578d8_f6cf_11e9_a3e7_00216ae618aarow22_col2 {\n",
       "            background-color:  #1fa187;\n",
       "            color:  #000000;\n",
       "        }    #T_327578d8_f6cf_11e9_a3e7_00216ae618aarow22_col3 {\n",
       "            background-color:  #20a486;\n",
       "            color:  #000000;\n",
       "        }    #T_327578d8_f6cf_11e9_a3e7_00216ae618aarow22_col4 {\n",
       "            background-color:  #1fa187;\n",
       "            color:  #000000;\n",
       "        }    #T_327578d8_f6cf_11e9_a3e7_00216ae618aarow22_col5 {\n",
       "            background-color:  #25ac82;\n",
       "            color:  #000000;\n",
       "        }    #T_327578d8_f6cf_11e9_a3e7_00216ae618aarow22_col6 {\n",
       "            background-color:  #2db27d;\n",
       "            color:  #000000;\n",
       "        }    #T_327578d8_f6cf_11e9_a3e7_00216ae618aarow22_col7 {\n",
       "            background-color:  #1f978b;\n",
       "            color:  #000000;\n",
       "        }    #T_327578d8_f6cf_11e9_a3e7_00216ae618aarow23_col0 {\n",
       "            background-color:  #2b748e;\n",
       "            color:  #f1f1f1;\n",
       "        }    #T_327578d8_f6cf_11e9_a3e7_00216ae618aarow23_col1 {\n",
       "            background-color:  #1fa287;\n",
       "            color:  #000000;\n",
       "        }    #T_327578d8_f6cf_11e9_a3e7_00216ae618aarow23_col2 {\n",
       "            background-color:  #1fa287;\n",
       "            color:  #000000;\n",
       "        }    #T_327578d8_f6cf_11e9_a3e7_00216ae618aarow23_col3 {\n",
       "            background-color:  #20928c;\n",
       "            color:  #000000;\n",
       "        }    #T_327578d8_f6cf_11e9_a3e7_00216ae618aarow23_col4 {\n",
       "            background-color:  #297a8e;\n",
       "            color:  #000000;\n",
       "        }    #T_327578d8_f6cf_11e9_a3e7_00216ae618aarow23_col5 {\n",
       "            background-color:  #23a983;\n",
       "            color:  #000000;\n",
       "        }    #T_327578d8_f6cf_11e9_a3e7_00216ae618aarow23_col6 {\n",
       "            background-color:  #c0df25;\n",
       "            color:  #000000;\n",
       "        }    #T_327578d8_f6cf_11e9_a3e7_00216ae618aarow23_col7 {\n",
       "            background-color:  #1fa187;\n",
       "            color:  #000000;\n",
       "        }    #T_327578d8_f6cf_11e9_a3e7_00216ae618aarow24_col0 {\n",
       "            background-color:  #21908d;\n",
       "            color:  #000000;\n",
       "        }    #T_327578d8_f6cf_11e9_a3e7_00216ae618aarow24_col1 {\n",
       "            background-color:  #1f9a8a;\n",
       "            color:  #000000;\n",
       "        }    #T_327578d8_f6cf_11e9_a3e7_00216ae618aarow24_col2 {\n",
       "            background-color:  #7ad151;\n",
       "            color:  #000000;\n",
       "        }    #T_327578d8_f6cf_11e9_a3e7_00216ae618aarow24_col3 {\n",
       "            background-color:  #23a983;\n",
       "            color:  #000000;\n",
       "        }    #T_327578d8_f6cf_11e9_a3e7_00216ae618aarow24_col4 {\n",
       "            background-color:  #32658e;\n",
       "            color:  #f1f1f1;\n",
       "        }    #T_327578d8_f6cf_11e9_a3e7_00216ae618aarow24_col5 {\n",
       "            background-color:  #1f998a;\n",
       "            color:  #000000;\n",
       "        }    #T_327578d8_f6cf_11e9_a3e7_00216ae618aarow24_col6 {\n",
       "            background-color:  #1fa187;\n",
       "            color:  #000000;\n",
       "        }    #T_327578d8_f6cf_11e9_a3e7_00216ae618aarow24_col7 {\n",
       "            background-color:  #77d153;\n",
       "            color:  #000000;\n",
       "        }    #T_327578d8_f6cf_11e9_a3e7_00216ae618aarow25_col0 {\n",
       "            background-color:  #4cc26c;\n",
       "            color:  #000000;\n",
       "        }    #T_327578d8_f6cf_11e9_a3e7_00216ae618aarow25_col1 {\n",
       "            background-color:  #29798e;\n",
       "            color:  #000000;\n",
       "        }    #T_327578d8_f6cf_11e9_a3e7_00216ae618aarow25_col2 {\n",
       "            background-color:  #440154;\n",
       "            color:  #f1f1f1;\n",
       "        }    #T_327578d8_f6cf_11e9_a3e7_00216ae618aarow25_col3 {\n",
       "            background-color:  #fde725;\n",
       "            color:  #000000;\n",
       "        }    #T_327578d8_f6cf_11e9_a3e7_00216ae618aarow25_col4 {\n",
       "            background-color:  #21a685;\n",
       "            color:  #000000;\n",
       "        }    #T_327578d8_f6cf_11e9_a3e7_00216ae618aarow25_col5 {\n",
       "            background-color:  #3bbb75;\n",
       "            color:  #000000;\n",
       "        }    #T_327578d8_f6cf_11e9_a3e7_00216ae618aarow25_col6 {\n",
       "            background-color:  #54c568;\n",
       "            color:  #000000;\n",
       "        }    #T_327578d8_f6cf_11e9_a3e7_00216ae618aarow25_col7 {\n",
       "            background-color:  #31678e;\n",
       "            color:  #f1f1f1;\n",
       "        }    #T_327578d8_f6cf_11e9_a3e7_00216ae618aarow26_col0 {\n",
       "            background-color:  #20a386;\n",
       "            color:  #000000;\n",
       "        }    #T_327578d8_f6cf_11e9_a3e7_00216ae618aarow26_col1 {\n",
       "            background-color:  #42be71;\n",
       "            color:  #000000;\n",
       "        }    #T_327578d8_f6cf_11e9_a3e7_00216ae618aarow26_col2 {\n",
       "            background-color:  #1f998a;\n",
       "            color:  #000000;\n",
       "        }    #T_327578d8_f6cf_11e9_a3e7_00216ae618aarow26_col3 {\n",
       "            background-color:  #20928c;\n",
       "            color:  #000000;\n",
       "        }    #T_327578d8_f6cf_11e9_a3e7_00216ae618aarow26_col4 {\n",
       "            background-color:  #238a8d;\n",
       "            color:  #000000;\n",
       "        }    #T_327578d8_f6cf_11e9_a3e7_00216ae618aarow26_col5 {\n",
       "            background-color:  #29af7f;\n",
       "            color:  #000000;\n",
       "        }    #T_327578d8_f6cf_11e9_a3e7_00216ae618aarow26_col6 {\n",
       "            background-color:  #67cc5c;\n",
       "            color:  #000000;\n",
       "        }    #T_327578d8_f6cf_11e9_a3e7_00216ae618aarow26_col7 {\n",
       "            background-color:  #2a768e;\n",
       "            color:  #f1f1f1;\n",
       "        }    #T_327578d8_f6cf_11e9_a3e7_00216ae618aarow27_col0 {\n",
       "            background-color:  #1e9b8a;\n",
       "            color:  #000000;\n",
       "        }    #T_327578d8_f6cf_11e9_a3e7_00216ae618aarow27_col1 {\n",
       "            background-color:  #cde11d;\n",
       "            color:  #000000;\n",
       "        }    #T_327578d8_f6cf_11e9_a3e7_00216ae618aarow27_col2 {\n",
       "            background-color:  #228d8d;\n",
       "            color:  #000000;\n",
       "        }    #T_327578d8_f6cf_11e9_a3e7_00216ae618aarow27_col3 {\n",
       "            background-color:  #31b57b;\n",
       "            color:  #000000;\n",
       "        }    #T_327578d8_f6cf_11e9_a3e7_00216ae618aarow27_col4 {\n",
       "            background-color:  #90d743;\n",
       "            color:  #000000;\n",
       "        }    #T_327578d8_f6cf_11e9_a3e7_00216ae618aarow27_col5 {\n",
       "            background-color:  #20928c;\n",
       "            color:  #000000;\n",
       "        }    #T_327578d8_f6cf_11e9_a3e7_00216ae618aarow27_col6 {\n",
       "            background-color:  #482374;\n",
       "            color:  #f1f1f1;\n",
       "        }    #T_327578d8_f6cf_11e9_a3e7_00216ae618aarow27_col7 {\n",
       "            background-color:  #1fa187;\n",
       "            color:  #000000;\n",
       "        }    #T_327578d8_f6cf_11e9_a3e7_00216ae618aarow28_col0 {\n",
       "            background-color:  #26ad81;\n",
       "            color:  #000000;\n",
       "        }    #T_327578d8_f6cf_11e9_a3e7_00216ae618aarow28_col1 {\n",
       "            background-color:  #3c4f8a;\n",
       "            color:  #f1f1f1;\n",
       "        }    #T_327578d8_f6cf_11e9_a3e7_00216ae618aarow28_col2 {\n",
       "            background-color:  #24aa83;\n",
       "            color:  #000000;\n",
       "        }    #T_327578d8_f6cf_11e9_a3e7_00216ae618aarow28_col3 {\n",
       "            background-color:  #2ab07f;\n",
       "            color:  #000000;\n",
       "        }    #T_327578d8_f6cf_11e9_a3e7_00216ae618aarow28_col4 {\n",
       "            background-color:  #2db27d;\n",
       "            color:  #000000;\n",
       "        }    #T_327578d8_f6cf_11e9_a3e7_00216ae618aarow28_col5 {\n",
       "            background-color:  #1fa187;\n",
       "            color:  #000000;\n",
       "        }    #T_327578d8_f6cf_11e9_a3e7_00216ae618aarow28_col6 {\n",
       "            background-color:  #25838e;\n",
       "            color:  #000000;\n",
       "        }    #T_327578d8_f6cf_11e9_a3e7_00216ae618aarow28_col7 {\n",
       "            background-color:  #35b779;\n",
       "            color:  #000000;\n",
       "        }</style><table id=\"T_327578d8_f6cf_11e9_a3e7_00216ae618aa\" ><thead>    <tr>        <th class=\"blank level0\" ></th>        <th class=\"col_heading level0 col0\" >BAB</th>        <th class=\"col_heading level0 col1\" >CA</th>        <th class=\"col_heading level0 col2\" >CFB</th>        <th class=\"col_heading level0 col3\" >IA</th>        <th class=\"col_heading level0 col4\" >IOA</th>        <th class=\"col_heading level0 col5\" >MOR</th>        <th class=\"col_heading level0 col6\" >OI</th>        <th class=\"col_heading level0 col7\" >OP</th>    </tr></thead><tbody>\n",
       "                <tr>\n",
       "                        <th id=\"T_327578d8_f6cf_11e9_a3e7_00216ae618aalevel0_row0\" class=\"row_heading level0 row0\" >SiO2</th>\n",
       "                        <td id=\"T_327578d8_f6cf_11e9_a3e7_00216ae618aarow0_col0\" class=\"data row0 col0\" ></td>\n",
       "                        <td id=\"T_327578d8_f6cf_11e9_a3e7_00216ae618aarow0_col1\" class=\"data row0 col1\" >0.001</td>\n",
       "                        <td id=\"T_327578d8_f6cf_11e9_a3e7_00216ae618aarow0_col2\" class=\"data row0 col2\" >0.084</td>\n",
       "                        <td id=\"T_327578d8_f6cf_11e9_a3e7_00216ae618aarow0_col3\" class=\"data row0 col3\" >0.741</td>\n",
       "                        <td id=\"T_327578d8_f6cf_11e9_a3e7_00216ae618aarow0_col4\" class=\"data row0 col4\" >-0.091</td>\n",
       "                        <td id=\"T_327578d8_f6cf_11e9_a3e7_00216ae618aarow0_col5\" class=\"data row0 col5\" >-0.072</td>\n",
       "                        <td id=\"T_327578d8_f6cf_11e9_a3e7_00216ae618aarow0_col6\" class=\"data row0 col6\" >-0.145</td>\n",
       "                        <td id=\"T_327578d8_f6cf_11e9_a3e7_00216ae618aarow0_col7\" class=\"data row0 col7\" >-0.163</td>\n",
       "            </tr>\n",
       "            <tr>\n",
       "                        <th id=\"T_327578d8_f6cf_11e9_a3e7_00216ae618aalevel0_row1\" class=\"row_heading level0 row1\" >TiO2</th>\n",
       "                        <td id=\"T_327578d8_f6cf_11e9_a3e7_00216ae618aarow1_col0\" class=\"data row1 col0\" ></td>\n",
       "                        <td id=\"T_327578d8_f6cf_11e9_a3e7_00216ae618aarow1_col1\" class=\"data row1 col1\" >0.43</td>\n",
       "                        <td id=\"T_327578d8_f6cf_11e9_a3e7_00216ae618aarow1_col2\" class=\"data row1 col2\" >0.08</td>\n",
       "                        <td id=\"T_327578d8_f6cf_11e9_a3e7_00216ae618aarow1_col3\" class=\"data row1 col3\" >-1.96</td>\n",
       "                        <td id=\"T_327578d8_f6cf_11e9_a3e7_00216ae618aarow1_col4\" class=\"data row1 col4\" >-0.732</td>\n",
       "                        <td id=\"T_327578d8_f6cf_11e9_a3e7_00216ae618aarow1_col5\" class=\"data row1 col5\" >0.28</td>\n",
       "                        <td id=\"T_327578d8_f6cf_11e9_a3e7_00216ae618aarow1_col6\" class=\"data row1 col6\" >0.787</td>\n",
       "                        <td id=\"T_327578d8_f6cf_11e9_a3e7_00216ae618aarow1_col7\" class=\"data row1 col7\" >0.36</td>\n",
       "            </tr>\n",
       "            <tr>\n",
       "                        <th id=\"T_327578d8_f6cf_11e9_a3e7_00216ae618aalevel0_row2\" class=\"row_heading level0 row2\" >Al2O3</th>\n",
       "                        <td id=\"T_327578d8_f6cf_11e9_a3e7_00216ae618aarow2_col0\" class=\"data row2 col0\" >0.458</td>\n",
       "                        <td id=\"T_327578d8_f6cf_11e9_a3e7_00216ae618aarow2_col1\" class=\"data row2 col1\" >0.748</td>\n",
       "                        <td id=\"T_327578d8_f6cf_11e9_a3e7_00216ae618aarow2_col2\" class=\"data row2 col2\" >-1.318</td>\n",
       "                        <td id=\"T_327578d8_f6cf_11e9_a3e7_00216ae618aarow2_col3\" class=\"data row2 col3\" >-0.153</td>\n",
       "                        <td id=\"T_327578d8_f6cf_11e9_a3e7_00216ae618aarow2_col4\" class=\"data row2 col4\" >1.378</td>\n",
       "                        <td id=\"T_327578d8_f6cf_11e9_a3e7_00216ae618aarow2_col5\" class=\"data row2 col5\" >-0.09</td>\n",
       "                        <td id=\"T_327578d8_f6cf_11e9_a3e7_00216ae618aarow2_col6\" class=\"data row2 col6\" >-0.868</td>\n",
       "                        <td id=\"T_327578d8_f6cf_11e9_a3e7_00216ae618aarow2_col7\" class=\"data row2 col7\" ></td>\n",
       "            </tr>\n",
       "            <tr>\n",
       "                        <th id=\"T_327578d8_f6cf_11e9_a3e7_00216ae618aalevel0_row3\" class=\"row_heading level0 row3\" >Fe2O3</th>\n",
       "                        <td id=\"T_327578d8_f6cf_11e9_a3e7_00216ae618aarow3_col0\" class=\"data row3 col0\" >-0.717</td>\n",
       "                        <td id=\"T_327578d8_f6cf_11e9_a3e7_00216ae618aarow3_col1\" class=\"data row3 col1\" >-0.135</td>\n",
       "                        <td id=\"T_327578d8_f6cf_11e9_a3e7_00216ae618aarow3_col2\" class=\"data row3 col2\" >1.277</td>\n",
       "                        <td id=\"T_327578d8_f6cf_11e9_a3e7_00216ae618aarow3_col3\" class=\"data row3 col3\" >0.408</td>\n",
       "                        <td id=\"T_327578d8_f6cf_11e9_a3e7_00216ae618aarow3_col4\" class=\"data row3 col4\" >-0.507</td>\n",
       "                        <td id=\"T_327578d8_f6cf_11e9_a3e7_00216ae618aarow3_col5\" class=\"data row3 col5\" >-0.929</td>\n",
       "                        <td id=\"T_327578d8_f6cf_11e9_a3e7_00216ae618aarow3_col6\" class=\"data row3 col6\" >0.225</td>\n",
       "                        <td id=\"T_327578d8_f6cf_11e9_a3e7_00216ae618aarow3_col7\" class=\"data row3 col7\" >0.411</td>\n",
       "            </tr>\n",
       "            <tr>\n",
       "                        <th id=\"T_327578d8_f6cf_11e9_a3e7_00216ae618aalevel0_row4\" class=\"row_heading level0 row4\" >MgO</th>\n",
       "                        <td id=\"T_327578d8_f6cf_11e9_a3e7_00216ae618aarow4_col0\" class=\"data row4 col0\" >-0.423</td>\n",
       "                        <td id=\"T_327578d8_f6cf_11e9_a3e7_00216ae618aarow4_col1\" class=\"data row4 col1\" >0.039</td>\n",
       "                        <td id=\"T_327578d8_f6cf_11e9_a3e7_00216ae618aarow4_col2\" class=\"data row4 col2\" >-0.127</td>\n",
       "                        <td id=\"T_327578d8_f6cf_11e9_a3e7_00216ae618aarow4_col3\" class=\"data row4 col3\" >-1.609</td>\n",
       "                        <td id=\"T_327578d8_f6cf_11e9_a3e7_00216ae618aarow4_col4\" class=\"data row4 col4\" >0.745</td>\n",
       "                        <td id=\"T_327578d8_f6cf_11e9_a3e7_00216ae618aarow4_col5\" class=\"data row4 col5\" >0.348</td>\n",
       "                        <td id=\"T_327578d8_f6cf_11e9_a3e7_00216ae618aarow4_col6\" class=\"data row4 col6\" >0.548</td>\n",
       "                        <td id=\"T_327578d8_f6cf_11e9_a3e7_00216ae618aarow4_col7\" class=\"data row4 col7\" ></td>\n",
       "            </tr>\n",
       "            <tr>\n",
       "                        <th id=\"T_327578d8_f6cf_11e9_a3e7_00216ae618aalevel0_row5\" class=\"row_heading level0 row5\" >CaO</th>\n",
       "                        <td id=\"T_327578d8_f6cf_11e9_a3e7_00216ae618aarow5_col0\" class=\"data row5 col0\" >1.013</td>\n",
       "                        <td id=\"T_327578d8_f6cf_11e9_a3e7_00216ae618aarow5_col1\" class=\"data row5 col1\" >-1.313</td>\n",
       "                        <td id=\"T_327578d8_f6cf_11e9_a3e7_00216ae618aarow5_col2\" class=\"data row5 col2\" ></td>\n",
       "                        <td id=\"T_327578d8_f6cf_11e9_a3e7_00216ae618aarow5_col3\" class=\"data row5 col3\" >0.322</td>\n",
       "                        <td id=\"T_327578d8_f6cf_11e9_a3e7_00216ae618aarow5_col4\" class=\"data row5 col4\" >-0.351</td>\n",
       "                        <td id=\"T_327578d8_f6cf_11e9_a3e7_00216ae618aarow5_col5\" class=\"data row5 col5\" >1.807</td>\n",
       "                        <td id=\"T_327578d8_f6cf_11e9_a3e7_00216ae618aarow5_col6\" class=\"data row5 col6\" >-0.147</td>\n",
       "                        <td id=\"T_327578d8_f6cf_11e9_a3e7_00216ae618aarow5_col7\" class=\"data row5 col7\" >-0.699</td>\n",
       "            </tr>\n",
       "            <tr>\n",
       "                        <th id=\"T_327578d8_f6cf_11e9_a3e7_00216ae618aalevel0_row6\" class=\"row_heading level0 row6\" >Na2O</th>\n",
       "                        <td id=\"T_327578d8_f6cf_11e9_a3e7_00216ae618aarow6_col0\" class=\"data row6 col0\" ></td>\n",
       "                        <td id=\"T_327578d8_f6cf_11e9_a3e7_00216ae618aarow6_col1\" class=\"data row6 col1\" >0.301</td>\n",
       "                        <td id=\"T_327578d8_f6cf_11e9_a3e7_00216ae618aarow6_col2\" class=\"data row6 col2\" >-0.592</td>\n",
       "                        <td id=\"T_327578d8_f6cf_11e9_a3e7_00216ae618aarow6_col3\" class=\"data row6 col3\" >-1.284</td>\n",
       "                        <td id=\"T_327578d8_f6cf_11e9_a3e7_00216ae618aarow6_col4\" class=\"data row6 col4\" >0.786</td>\n",
       "                        <td id=\"T_327578d8_f6cf_11e9_a3e7_00216ae618aarow6_col5\" class=\"data row6 col5\" >-0.452</td>\n",
       "                        <td id=\"T_327578d8_f6cf_11e9_a3e7_00216ae618aarow6_col6\" class=\"data row6 col6\" >1.079</td>\n",
       "                        <td id=\"T_327578d8_f6cf_11e9_a3e7_00216ae618aarow6_col7\" class=\"data row6 col7\" >0.382</td>\n",
       "            </tr>\n",
       "            <tr>\n",
       "                        <th id=\"T_327578d8_f6cf_11e9_a3e7_00216ae618aalevel0_row7\" class=\"row_heading level0 row7\" >K2O</th>\n",
       "                        <td id=\"T_327578d8_f6cf_11e9_a3e7_00216ae618aarow7_col0\" class=\"data row7 col0\" >1.653</td>\n",
       "                        <td id=\"T_327578d8_f6cf_11e9_a3e7_00216ae618aarow7_col1\" class=\"data row7 col1\" >-0.541</td>\n",
       "                        <td id=\"T_327578d8_f6cf_11e9_a3e7_00216ae618aarow7_col2\" class=\"data row7 col2\" >-0.365</td>\n",
       "                        <td id=\"T_327578d8_f6cf_11e9_a3e7_00216ae618aarow7_col3\" class=\"data row7 col3\" >0.945</td>\n",
       "                        <td id=\"T_327578d8_f6cf_11e9_a3e7_00216ae618aarow7_col4\" class=\"data row7 col4\" >-0.853</td>\n",
       "                        <td id=\"T_327578d8_f6cf_11e9_a3e7_00216ae618aarow7_col5\" class=\"data row7 col5\" >-0.564</td>\n",
       "                        <td id=\"T_327578d8_f6cf_11e9_a3e7_00216ae618aarow7_col6\" class=\"data row7 col6\" >-0.187</td>\n",
       "                        <td id=\"T_327578d8_f6cf_11e9_a3e7_00216ae618aarow7_col7\" class=\"data row7 col7\" >0.602</td>\n",
       "            </tr>\n",
       "            <tr>\n",
       "                        <th id=\"T_327578d8_f6cf_11e9_a3e7_00216ae618aalevel0_row8\" class=\"row_heading level0 row8\" >La</th>\n",
       "                        <td id=\"T_327578d8_f6cf_11e9_a3e7_00216ae618aarow8_col0\" class=\"data row8 col0\" >0.216</td>\n",
       "                        <td id=\"T_327578d8_f6cf_11e9_a3e7_00216ae618aarow8_col1\" class=\"data row8 col1\" >-0.898</td>\n",
       "                        <td id=\"T_327578d8_f6cf_11e9_a3e7_00216ae618aarow8_col2\" class=\"data row8 col2\" ></td>\n",
       "                        <td id=\"T_327578d8_f6cf_11e9_a3e7_00216ae618aarow8_col3\" class=\"data row8 col3\" ></td>\n",
       "                        <td id=\"T_327578d8_f6cf_11e9_a3e7_00216ae618aarow8_col4\" class=\"data row8 col4\" ></td>\n",
       "                        <td id=\"T_327578d8_f6cf_11e9_a3e7_00216ae618aarow8_col5\" class=\"data row8 col5\" ></td>\n",
       "                        <td id=\"T_327578d8_f6cf_11e9_a3e7_00216ae618aarow8_col6\" class=\"data row8 col6\" >0.14</td>\n",
       "                        <td id=\"T_327578d8_f6cf_11e9_a3e7_00216ae618aarow8_col7\" class=\"data row8 col7\" ></td>\n",
       "            </tr>\n",
       "            <tr>\n",
       "                        <th id=\"T_327578d8_f6cf_11e9_a3e7_00216ae618aalevel0_row9\" class=\"row_heading level0 row9\" >Ce</th>\n",
       "                        <td id=\"T_327578d8_f6cf_11e9_a3e7_00216ae618aarow9_col0\" class=\"data row9 col0\" ></td>\n",
       "                        <td id=\"T_327578d8_f6cf_11e9_a3e7_00216ae618aarow9_col1\" class=\"data row9 col1\" >-1.006</td>\n",
       "                        <td id=\"T_327578d8_f6cf_11e9_a3e7_00216ae618aarow9_col2\" class=\"data row9 col2\" ></td>\n",
       "                        <td id=\"T_327578d8_f6cf_11e9_a3e7_00216ae618aarow9_col3\" class=\"data row9 col3\" ></td>\n",
       "                        <td id=\"T_327578d8_f6cf_11e9_a3e7_00216ae618aarow9_col4\" class=\"data row9 col4\" >0.12</td>\n",
       "                        <td id=\"T_327578d8_f6cf_11e9_a3e7_00216ae618aarow9_col5\" class=\"data row9 col5\" ></td>\n",
       "                        <td id=\"T_327578d8_f6cf_11e9_a3e7_00216ae618aarow9_col6\" class=\"data row9 col6\" >0.057</td>\n",
       "                        <td id=\"T_327578d8_f6cf_11e9_a3e7_00216ae618aarow9_col7\" class=\"data row9 col7\" ></td>\n",
       "            </tr>\n",
       "            <tr>\n",
       "                        <th id=\"T_327578d8_f6cf_11e9_a3e7_00216ae618aalevel0_row10\" class=\"row_heading level0 row10\" >Nd</th>\n",
       "                        <td id=\"T_327578d8_f6cf_11e9_a3e7_00216ae618aarow10_col0\" class=\"data row10 col0\" ></td>\n",
       "                        <td id=\"T_327578d8_f6cf_11e9_a3e7_00216ae618aarow10_col1\" class=\"data row10 col1\" >-0.0</td>\n",
       "                        <td id=\"T_327578d8_f6cf_11e9_a3e7_00216ae618aarow10_col2\" class=\"data row10 col2\" ></td>\n",
       "                        <td id=\"T_327578d8_f6cf_11e9_a3e7_00216ae618aarow10_col3\" class=\"data row10 col3\" >0.002</td>\n",
       "                        <td id=\"T_327578d8_f6cf_11e9_a3e7_00216ae618aarow10_col4\" class=\"data row10 col4\" ></td>\n",
       "                        <td id=\"T_327578d8_f6cf_11e9_a3e7_00216ae618aarow10_col5\" class=\"data row10 col5\" >-0.101</td>\n",
       "                        <td id=\"T_327578d8_f6cf_11e9_a3e7_00216ae618aarow10_col6\" class=\"data row10 col6\" >0.063</td>\n",
       "                        <td id=\"T_327578d8_f6cf_11e9_a3e7_00216ae618aarow10_col7\" class=\"data row10 col7\" ></td>\n",
       "            </tr>\n",
       "            <tr>\n",
       "                        <th id=\"T_327578d8_f6cf_11e9_a3e7_00216ae618aalevel0_row11\" class=\"row_heading level0 row11\" >Sm</th>\n",
       "                        <td id=\"T_327578d8_f6cf_11e9_a3e7_00216ae618aarow11_col0\" class=\"data row11 col0\" >-0.124</td>\n",
       "                        <td id=\"T_327578d8_f6cf_11e9_a3e7_00216ae618aarow11_col1\" class=\"data row11 col1\" >0.538</td>\n",
       "                        <td id=\"T_327578d8_f6cf_11e9_a3e7_00216ae618aarow11_col2\" class=\"data row11 col2\" >0.017</td>\n",
       "                        <td id=\"T_327578d8_f6cf_11e9_a3e7_00216ae618aarow11_col3\" class=\"data row11 col3\" >0.05</td>\n",
       "                        <td id=\"T_327578d8_f6cf_11e9_a3e7_00216ae618aarow11_col4\" class=\"data row11 col4\" >-0.14</td>\n",
       "                        <td id=\"T_327578d8_f6cf_11e9_a3e7_00216ae618aarow11_col5\" class=\"data row11 col5\" >-0.448</td>\n",
       "                        <td id=\"T_327578d8_f6cf_11e9_a3e7_00216ae618aarow11_col6\" class=\"data row11 col6\" >0.156</td>\n",
       "                        <td id=\"T_327578d8_f6cf_11e9_a3e7_00216ae618aarow11_col7\" class=\"data row11 col7\" ></td>\n",
       "            </tr>\n",
       "            <tr>\n",
       "                        <th id=\"T_327578d8_f6cf_11e9_a3e7_00216ae618aalevel0_row12\" class=\"row_heading level0 row12\" >Gd</th>\n",
       "                        <td id=\"T_327578d8_f6cf_11e9_a3e7_00216ae618aarow12_col0\" class=\"data row12 col0\" >-0.009</td>\n",
       "                        <td id=\"T_327578d8_f6cf_11e9_a3e7_00216ae618aarow12_col1\" class=\"data row12 col1\" >1.242</td>\n",
       "                        <td id=\"T_327578d8_f6cf_11e9_a3e7_00216ae618aarow12_col2\" class=\"data row12 col2\" ></td>\n",
       "                        <td id=\"T_327578d8_f6cf_11e9_a3e7_00216ae618aarow12_col3\" class=\"data row12 col3\" >0.255</td>\n",
       "                        <td id=\"T_327578d8_f6cf_11e9_a3e7_00216ae618aarow12_col4\" class=\"data row12 col4\" >-1.0</td>\n",
       "                        <td id=\"T_327578d8_f6cf_11e9_a3e7_00216ae618aarow12_col5\" class=\"data row12 col5\" >-0.804</td>\n",
       "                        <td id=\"T_327578d8_f6cf_11e9_a3e7_00216ae618aarow12_col6\" class=\"data row12 col6\" >0.14</td>\n",
       "                        <td id=\"T_327578d8_f6cf_11e9_a3e7_00216ae618aarow12_col7\" class=\"data row12 col7\" >0.011</td>\n",
       "            </tr>\n",
       "            <tr>\n",
       "                        <th id=\"T_327578d8_f6cf_11e9_a3e7_00216ae618aalevel0_row13\" class=\"row_heading level0 row13\" >Yb</th>\n",
       "                        <td id=\"T_327578d8_f6cf_11e9_a3e7_00216ae618aarow13_col0\" class=\"data row13 col0\" >-0.222</td>\n",
       "                        <td id=\"T_327578d8_f6cf_11e9_a3e7_00216ae618aarow13_col1\" class=\"data row13 col1\" >-1.024</td>\n",
       "                        <td id=\"T_327578d8_f6cf_11e9_a3e7_00216ae618aarow13_col2\" class=\"data row13 col2\" >-0.131</td>\n",
       "                        <td id=\"T_327578d8_f6cf_11e9_a3e7_00216ae618aarow13_col3\" class=\"data row13 col3\" >0.01</td>\n",
       "                        <td id=\"T_327578d8_f6cf_11e9_a3e7_00216ae618aarow13_col4\" class=\"data row13 col4\" >1.132</td>\n",
       "                        <td id=\"T_327578d8_f6cf_11e9_a3e7_00216ae618aarow13_col5\" class=\"data row13 col5\" >1.161</td>\n",
       "                        <td id=\"T_327578d8_f6cf_11e9_a3e7_00216ae618aarow13_col6\" class=\"data row13 col6\" >-1.419</td>\n",
       "                        <td id=\"T_327578d8_f6cf_11e9_a3e7_00216ae618aarow13_col7\" class=\"data row13 col7\" >0.528</td>\n",
       "            </tr>\n",
       "            <tr>\n",
       "                        <th id=\"T_327578d8_f6cf_11e9_a3e7_00216ae618aalevel0_row14\" class=\"row_heading level0 row14\" >Lu</th>\n",
       "                        <td id=\"T_327578d8_f6cf_11e9_a3e7_00216ae618aarow14_col0\" class=\"data row14 col0\" >0.879</td>\n",
       "                        <td id=\"T_327578d8_f6cf_11e9_a3e7_00216ae618aarow14_col1\" class=\"data row14 col1\" >-0.251</td>\n",
       "                        <td id=\"T_327578d8_f6cf_11e9_a3e7_00216ae618aarow14_col2\" class=\"data row14 col2\" >-0.018</td>\n",
       "                        <td id=\"T_327578d8_f6cf_11e9_a3e7_00216ae618aarow14_col3\" class=\"data row14 col3\" >-0.045</td>\n",
       "                        <td id=\"T_327578d8_f6cf_11e9_a3e7_00216ae618aarow14_col4\" class=\"data row14 col4\" >0.217</td>\n",
       "                        <td id=\"T_327578d8_f6cf_11e9_a3e7_00216ae618aarow14_col5\" class=\"data row14 col5\" >0.507</td>\n",
       "                        <td id=\"T_327578d8_f6cf_11e9_a3e7_00216ae618aarow14_col6\" class=\"data row14 col6\" >-1.329</td>\n",
       "                        <td id=\"T_327578d8_f6cf_11e9_a3e7_00216ae618aarow14_col7\" class=\"data row14 col7\" ></td>\n",
       "            </tr>\n",
       "            <tr>\n",
       "                        <th id=\"T_327578d8_f6cf_11e9_a3e7_00216ae618aalevel0_row15\" class=\"row_heading level0 row15\" >Ba</th>\n",
       "                        <td id=\"T_327578d8_f6cf_11e9_a3e7_00216ae618aarow15_col0\" class=\"data row15 col0\" >-1.147</td>\n",
       "                        <td id=\"T_327578d8_f6cf_11e9_a3e7_00216ae618aarow15_col1\" class=\"data row15 col1\" >1.24</td>\n",
       "                        <td id=\"T_327578d8_f6cf_11e9_a3e7_00216ae618aarow15_col2\" class=\"data row15 col2\" >0.333</td>\n",
       "                        <td id=\"T_327578d8_f6cf_11e9_a3e7_00216ae618aarow15_col3\" class=\"data row15 col3\" >-0.585</td>\n",
       "                        <td id=\"T_327578d8_f6cf_11e9_a3e7_00216ae618aarow15_col4\" class=\"data row15 col4\" >1.144</td>\n",
       "                        <td id=\"T_327578d8_f6cf_11e9_a3e7_00216ae618aarow15_col5\" class=\"data row15 col5\" >0.39</td>\n",
       "                        <td id=\"T_327578d8_f6cf_11e9_a3e7_00216ae618aarow15_col6\" class=\"data row15 col6\" >-1.116</td>\n",
       "                        <td id=\"T_327578d8_f6cf_11e9_a3e7_00216ae618aarow15_col7\" class=\"data row15 col7\" >-0.248</td>\n",
       "            </tr>\n",
       "            <tr>\n",
       "                        <th id=\"T_327578d8_f6cf_11e9_a3e7_00216ae618aalevel0_row16\" class=\"row_heading level0 row16\" >Hf</th>\n",
       "                        <td id=\"T_327578d8_f6cf_11e9_a3e7_00216ae618aarow16_col0\" class=\"data row16 col0\" >-0.756</td>\n",
       "                        <td id=\"T_327578d8_f6cf_11e9_a3e7_00216ae618aarow16_col1\" class=\"data row16 col1\" >0.111</td>\n",
       "                        <td id=\"T_327578d8_f6cf_11e9_a3e7_00216ae618aarow16_col2\" class=\"data row16 col2\" >0.295</td>\n",
       "                        <td id=\"T_327578d8_f6cf_11e9_a3e7_00216ae618aarow16_col3\" class=\"data row16 col3\" >-0.894</td>\n",
       "                        <td id=\"T_327578d8_f6cf_11e9_a3e7_00216ae618aarow16_col4\" class=\"data row16 col4\" >-0.594</td>\n",
       "                        <td id=\"T_327578d8_f6cf_11e9_a3e7_00216ae618aarow16_col5\" class=\"data row16 col5\" >0.088</td>\n",
       "                        <td id=\"T_327578d8_f6cf_11e9_a3e7_00216ae618aarow16_col6\" class=\"data row16 col6\" >1.057</td>\n",
       "                        <td id=\"T_327578d8_f6cf_11e9_a3e7_00216ae618aarow16_col7\" class=\"data row16 col7\" >0.075</td>\n",
       "            </tr>\n",
       "            <tr>\n",
       "                        <th id=\"T_327578d8_f6cf_11e9_a3e7_00216ae618aalevel0_row17\" class=\"row_heading level0 row17\" >Nb</th>\n",
       "                        <td id=\"T_327578d8_f6cf_11e9_a3e7_00216ae618aarow17_col0\" class=\"data row17 col0\" >0.361</td>\n",
       "                        <td id=\"T_327578d8_f6cf_11e9_a3e7_00216ae618aarow17_col1\" class=\"data row17 col1\" >-1.05</td>\n",
       "                        <td id=\"T_327578d8_f6cf_11e9_a3e7_00216ae618aarow17_col2\" class=\"data row17 col2\" >-0.022</td>\n",
       "                        <td id=\"T_327578d8_f6cf_11e9_a3e7_00216ae618aarow17_col3\" class=\"data row17 col3\" >-0.232</td>\n",
       "                        <td id=\"T_327578d8_f6cf_11e9_a3e7_00216ae618aarow17_col4\" class=\"data row17 col4\" >-0.9</td>\n",
       "                        <td id=\"T_327578d8_f6cf_11e9_a3e7_00216ae618aarow17_col5\" class=\"data row17 col5\" >1.505</td>\n",
       "                        <td id=\"T_327578d8_f6cf_11e9_a3e7_00216ae618aarow17_col6\" class=\"data row17 col6\" >0.409</td>\n",
       "                        <td id=\"T_327578d8_f6cf_11e9_a3e7_00216ae618aarow17_col7\" class=\"data row17 col7\" >0.058</td>\n",
       "            </tr>\n",
       "            <tr>\n",
       "                        <th id=\"T_327578d8_f6cf_11e9_a3e7_00216ae618aalevel0_row18\" class=\"row_heading level0 row18\" >Rb</th>\n",
       "                        <td id=\"T_327578d8_f6cf_11e9_a3e7_00216ae618aarow18_col0\" class=\"data row18 col0\" >-0.24</td>\n",
       "                        <td id=\"T_327578d8_f6cf_11e9_a3e7_00216ae618aarow18_col1\" class=\"data row18 col1\" >0.0</td>\n",
       "                        <td id=\"T_327578d8_f6cf_11e9_a3e7_00216ae618aarow18_col2\" class=\"data row18 col2\" ></td>\n",
       "                        <td id=\"T_327578d8_f6cf_11e9_a3e7_00216ae618aarow18_col3\" class=\"data row18 col3\" >-0.031</td>\n",
       "                        <td id=\"T_327578d8_f6cf_11e9_a3e7_00216ae618aarow18_col4\" class=\"data row18 col4\" >0.461</td>\n",
       "                        <td id=\"T_327578d8_f6cf_11e9_a3e7_00216ae618aarow18_col5\" class=\"data row18 col5\" ></td>\n",
       "                        <td id=\"T_327578d8_f6cf_11e9_a3e7_00216ae618aarow18_col6\" class=\"data row18 col6\" >0.715</td>\n",
       "                        <td id=\"T_327578d8_f6cf_11e9_a3e7_00216ae618aarow18_col7\" class=\"data row18 col7\" >-1.025</td>\n",
       "            </tr>\n",
       "            <tr>\n",
       "                        <th id=\"T_327578d8_f6cf_11e9_a3e7_00216ae618aalevel0_row19\" class=\"row_heading level0 row19\" >Sr</th>\n",
       "                        <td id=\"T_327578d8_f6cf_11e9_a3e7_00216ae618aarow19_col0\" class=\"data row19 col0\" >-0.002</td>\n",
       "                        <td id=\"T_327578d8_f6cf_11e9_a3e7_00216ae618aarow19_col1\" class=\"data row19 col1\" >1.662</td>\n",
       "                        <td id=\"T_327578d8_f6cf_11e9_a3e7_00216ae618aarow19_col2\" class=\"data row19 col2\" ></td>\n",
       "                        <td id=\"T_327578d8_f6cf_11e9_a3e7_00216ae618aarow19_col3\" class=\"data row19 col3\" >0.948</td>\n",
       "                        <td id=\"T_327578d8_f6cf_11e9_a3e7_00216ae618aarow19_col4\" class=\"data row19 col4\" >-0.002</td>\n",
       "                        <td id=\"T_327578d8_f6cf_11e9_a3e7_00216ae618aarow19_col5\" class=\"data row19 col5\" >-1.481</td>\n",
       "                        <td id=\"T_327578d8_f6cf_11e9_a3e7_00216ae618aarow19_col6\" class=\"data row19 col6\" >0.493</td>\n",
       "                        <td id=\"T_327578d8_f6cf_11e9_a3e7_00216ae618aarow19_col7\" class=\"data row19 col7\" >-1.583</td>\n",
       "            </tr>\n",
       "            <tr>\n",
       "                        <th id=\"T_327578d8_f6cf_11e9_a3e7_00216ae618aalevel0_row20\" class=\"row_heading level0 row20\" >Ta</th>\n",
       "                        <td id=\"T_327578d8_f6cf_11e9_a3e7_00216ae618aarow20_col0\" class=\"data row20 col0\" >0.779</td>\n",
       "                        <td id=\"T_327578d8_f6cf_11e9_a3e7_00216ae618aarow20_col1\" class=\"data row20 col1\" >0.272</td>\n",
       "                        <td id=\"T_327578d8_f6cf_11e9_a3e7_00216ae618aarow20_col2\" class=\"data row20 col2\" >-0.075</td>\n",
       "                        <td id=\"T_327578d8_f6cf_11e9_a3e7_00216ae618aarow20_col3\" class=\"data row20 col3\" >-0.643</td>\n",
       "                        <td id=\"T_327578d8_f6cf_11e9_a3e7_00216ae618aarow20_col4\" class=\"data row20 col4\" >-0.558</td>\n",
       "                        <td id=\"T_327578d8_f6cf_11e9_a3e7_00216ae618aarow20_col5\" class=\"data row20 col5\" >0.739</td>\n",
       "                        <td id=\"T_327578d8_f6cf_11e9_a3e7_00216ae618aarow20_col6\" class=\"data row20 col6\" >-0.52</td>\n",
       "                        <td id=\"T_327578d8_f6cf_11e9_a3e7_00216ae618aarow20_col7\" class=\"data row20 col7\" >0.149</td>\n",
       "            </tr>\n",
       "            <tr>\n",
       "                        <th id=\"T_327578d8_f6cf_11e9_a3e7_00216ae618aalevel0_row21\" class=\"row_heading level0 row21\" >Th</th>\n",
       "                        <td id=\"T_327578d8_f6cf_11e9_a3e7_00216ae618aarow21_col0\" class=\"data row21 col0\" >-0.127</td>\n",
       "                        <td id=\"T_327578d8_f6cf_11e9_a3e7_00216ae618aarow21_col1\" class=\"data row21 col1\" >0.476</td>\n",
       "                        <td id=\"T_327578d8_f6cf_11e9_a3e7_00216ae618aarow21_col2\" class=\"data row21 col2\" >-0.224</td>\n",
       "                        <td id=\"T_327578d8_f6cf_11e9_a3e7_00216ae618aarow21_col3\" class=\"data row21 col3\" >-0.983</td>\n",
       "                        <td id=\"T_327578d8_f6cf_11e9_a3e7_00216ae618aarow21_col4\" class=\"data row21 col4\" >0.941</td>\n",
       "                        <td id=\"T_327578d8_f6cf_11e9_a3e7_00216ae618aarow21_col5\" class=\"data row21 col5\" ></td>\n",
       "                        <td id=\"T_327578d8_f6cf_11e9_a3e7_00216ae618aarow21_col6\" class=\"data row21 col6\" >0.191</td>\n",
       "                        <td id=\"T_327578d8_f6cf_11e9_a3e7_00216ae618aarow21_col7\" class=\"data row21 col7\" ></td>\n",
       "            </tr>\n",
       "            <tr>\n",
       "                        <th id=\"T_327578d8_f6cf_11e9_a3e7_00216ae618aalevel0_row22\" class=\"row_heading level0 row22\" >Y</th>\n",
       "                        <td id=\"T_327578d8_f6cf_11e9_a3e7_00216ae618aarow22_col0\" class=\"data row22 col0\" ></td>\n",
       "                        <td id=\"T_327578d8_f6cf_11e9_a3e7_00216ae618aarow22_col1\" class=\"data row22 col1\" >-0.226</td>\n",
       "                        <td id=\"T_327578d8_f6cf_11e9_a3e7_00216ae618aarow22_col2\" class=\"data row22 col2\" ></td>\n",
       "                        <td id=\"T_327578d8_f6cf_11e9_a3e7_00216ae618aarow22_col3\" class=\"data row22 col3\" >0.051</td>\n",
       "                        <td id=\"T_327578d8_f6cf_11e9_a3e7_00216ae618aarow22_col4\" class=\"data row22 col4\" ></td>\n",
       "                        <td id=\"T_327578d8_f6cf_11e9_a3e7_00216ae618aarow22_col5\" class=\"data row22 col5\" >0.236</td>\n",
       "                        <td id=\"T_327578d8_f6cf_11e9_a3e7_00216ae618aarow22_col6\" class=\"data row22 col6\" >0.384</td>\n",
       "                        <td id=\"T_327578d8_f6cf_11e9_a3e7_00216ae618aarow22_col7\" class=\"data row22 col7\" >-0.251</td>\n",
       "            </tr>\n",
       "            <tr>\n",
       "                        <th id=\"T_327578d8_f6cf_11e9_a3e7_00216ae618aalevel0_row23\" class=\"row_heading level0 row23\" >Zr</th>\n",
       "                        <td id=\"T_327578d8_f6cf_11e9_a3e7_00216ae618aarow23_col0\" class=\"data row23 col0\" >-1.068</td>\n",
       "                        <td id=\"T_327578d8_f6cf_11e9_a3e7_00216ae618aarow23_col1\" class=\"data row23 col1\" >0.007</td>\n",
       "                        <td id=\"T_327578d8_f6cf_11e9_a3e7_00216ae618aarow23_col2\" class=\"data row23 col2\" >0.005</td>\n",
       "                        <td id=\"T_327578d8_f6cf_11e9_a3e7_00216ae618aarow23_col3\" class=\"data row23 col3\" >-0.374</td>\n",
       "                        <td id=\"T_327578d8_f6cf_11e9_a3e7_00216ae618aarow23_col4\" class=\"data row23 col4\" >-0.919</td>\n",
       "                        <td id=\"T_327578d8_f6cf_11e9_a3e7_00216ae618aarow23_col5\" class=\"data row23 col5\" >0.157</td>\n",
       "                        <td id=\"T_327578d8_f6cf_11e9_a3e7_00216ae618aarow23_col6\" class=\"data row23 col6\" >1.861</td>\n",
       "                        <td id=\"T_327578d8_f6cf_11e9_a3e7_00216ae618aarow23_col7\" class=\"data row23 col7\" ></td>\n",
       "            </tr>\n",
       "            <tr>\n",
       "                        <th id=\"T_327578d8_f6cf_11e9_a3e7_00216ae618aalevel0_row24\" class=\"row_heading level0 row24\" >Sr87Sr86</th>\n",
       "                        <td id=\"T_327578d8_f6cf_11e9_a3e7_00216ae618aarow24_col0\" class=\"data row24 col0\" >-0.427</td>\n",
       "                        <td id=\"T_327578d8_f6cf_11e9_a3e7_00216ae618aarow24_col1\" class=\"data row24 col1\" >-0.192</td>\n",
       "                        <td id=\"T_327578d8_f6cf_11e9_a3e7_00216ae618aarow24_col2\" class=\"data row24 col2\" >1.271</td>\n",
       "                        <td id=\"T_327578d8_f6cf_11e9_a3e7_00216ae618aarow24_col3\" class=\"data row24 col3\" >0.16</td>\n",
       "                        <td id=\"T_327578d8_f6cf_11e9_a3e7_00216ae618aarow24_col4\" class=\"data row24 col4\" >-1.418</td>\n",
       "                        <td id=\"T_327578d8_f6cf_11e9_a3e7_00216ae618aarow24_col5\" class=\"data row24 col5\" >-0.199</td>\n",
       "                        <td id=\"T_327578d8_f6cf_11e9_a3e7_00216ae618aarow24_col6\" class=\"data row24 col6\" >-0.003</td>\n",
       "                        <td id=\"T_327578d8_f6cf_11e9_a3e7_00216ae618aarow24_col7\" class=\"data row24 col7\" >1.232</td>\n",
       "            </tr>\n",
       "            <tr>\n",
       "                        <th id=\"T_327578d8_f6cf_11e9_a3e7_00216ae618aalevel0_row25\" class=\"row_heading level0 row25\" >Nd143Nd144</th>\n",
       "                        <td id=\"T_327578d8_f6cf_11e9_a3e7_00216ae618aarow25_col0\" class=\"data row25 col0\" >0.804</td>\n",
       "                        <td id=\"T_327578d8_f6cf_11e9_a3e7_00216ae618aarow25_col1\" class=\"data row25 col1\" >-0.956</td>\n",
       "                        <td id=\"T_327578d8_f6cf_11e9_a3e7_00216ae618aarow25_col2\" class=\"data row25 col2\" >-3.221</td>\n",
       "                        <td id=\"T_327578d8_f6cf_11e9_a3e7_00216ae618aarow25_col3\" class=\"data row25 col3\" >2.393</td>\n",
       "                        <td id=\"T_327578d8_f6cf_11e9_a3e7_00216ae618aarow25_col4\" class=\"data row25 col4\" >0.097</td>\n",
       "                        <td id=\"T_327578d8_f6cf_11e9_a3e7_00216ae618aarow25_col5\" class=\"data row25 col5\" >0.617</td>\n",
       "                        <td id=\"T_327578d8_f6cf_11e9_a3e7_00216ae618aarow25_col6\" class=\"data row25 col6\" >0.895</td>\n",
       "                        <td id=\"T_327578d8_f6cf_11e9_a3e7_00216ae618aarow25_col7\" class=\"data row25 col7\" >-1.36</td>\n",
       "            </tr>\n",
       "            <tr>\n",
       "                        <th id=\"T_327578d8_f6cf_11e9_a3e7_00216ae618aalevel0_row26\" class=\"row_heading level0 row26\" >Pb206Pb204</th>\n",
       "                        <td id=\"T_327578d8_f6cf_11e9_a3e7_00216ae618aarow26_col0\" class=\"data row26 col0\" >0.029</td>\n",
       "                        <td id=\"T_327578d8_f6cf_11e9_a3e7_00216ae618aarow26_col1\" class=\"data row26 col1\" >0.692</td>\n",
       "                        <td id=\"T_327578d8_f6cf_11e9_a3e7_00216ae618aarow26_col2\" class=\"data row26 col2\" >-0.215</td>\n",
       "                        <td id=\"T_327578d8_f6cf_11e9_a3e7_00216ae618aarow26_col3\" class=\"data row26 col3\" >-0.359</td>\n",
       "                        <td id=\"T_327578d8_f6cf_11e9_a3e7_00216ae618aarow26_col4\" class=\"data row26 col4\" >-0.551</td>\n",
       "                        <td id=\"T_327578d8_f6cf_11e9_a3e7_00216ae618aarow26_col5\" class=\"data row26 col5\" >0.312</td>\n",
       "                        <td id=\"T_327578d8_f6cf_11e9_a3e7_00216ae618aarow26_col6\" class=\"data row26 col6\" >1.092</td>\n",
       "                        <td id=\"T_327578d8_f6cf_11e9_a3e7_00216ae618aarow26_col7\" class=\"data row26 col7\" >-1.012</td>\n",
       "            </tr>\n",
       "            <tr>\n",
       "                        <th id=\"T_327578d8_f6cf_11e9_a3e7_00216ae618aalevel0_row27\" class=\"row_heading level0 row27\" >Pb207Pb204</th>\n",
       "                        <td id=\"T_327578d8_f6cf_11e9_a3e7_00216ae618aarow27_col0\" class=\"data row27 col0\" >-0.163</td>\n",
       "                        <td id=\"T_327578d8_f6cf_11e9_a3e7_00216ae618aarow27_col1\" class=\"data row27 col1\" >1.963</td>\n",
       "                        <td id=\"T_327578d8_f6cf_11e9_a3e7_00216ae618aarow27_col2\" class=\"data row27 col2\" >-0.495</td>\n",
       "                        <td id=\"T_327578d8_f6cf_11e9_a3e7_00216ae618aarow27_col3\" class=\"data row27 col3\" >0.452</td>\n",
       "                        <td id=\"T_327578d8_f6cf_11e9_a3e7_00216ae618aarow27_col4\" class=\"data row27 col4\" >1.462</td>\n",
       "                        <td id=\"T_327578d8_f6cf_11e9_a3e7_00216ae618aarow27_col5\" class=\"data row27 col5\" >-0.36</td>\n",
       "                        <td id=\"T_327578d8_f6cf_11e9_a3e7_00216ae618aarow27_col6\" class=\"data row27 col6\" >-2.684</td>\n",
       "                        <td id=\"T_327578d8_f6cf_11e9_a3e7_00216ae618aarow27_col7\" class=\"data row27 col7\" ></td>\n",
       "            </tr>\n",
       "            <tr>\n",
       "                        <th id=\"T_327578d8_f6cf_11e9_a3e7_00216ae618aalevel0_row28\" class=\"row_heading level0 row28\" >Pb208Pb204</th>\n",
       "                        <td id=\"T_327578d8_f6cf_11e9_a3e7_00216ae618aarow28_col0\" class=\"data row28 col0\" >0.25</td>\n",
       "                        <td id=\"T_327578d8_f6cf_11e9_a3e7_00216ae618aarow28_col1\" class=\"data row28 col1\" >-1.879</td>\n",
       "                        <td id=\"T_327578d8_f6cf_11e9_a3e7_00216ae618aarow28_col2\" class=\"data row28 col2\" >0.192</td>\n",
       "                        <td id=\"T_327578d8_f6cf_11e9_a3e7_00216ae618aarow28_col3\" class=\"data row28 col3\" >0.343</td>\n",
       "                        <td id=\"T_327578d8_f6cf_11e9_a3e7_00216ae618aarow28_col4\" class=\"data row28 col4\" >0.394</td>\n",
       "                        <td id=\"T_327578d8_f6cf_11e9_a3e7_00216ae618aarow28_col5\" class=\"data row28 col5\" ></td>\n",
       "                        <td id=\"T_327578d8_f6cf_11e9_a3e7_00216ae618aarow28_col6\" class=\"data row28 col6\" >-0.7</td>\n",
       "                        <td id=\"T_327578d8_f6cf_11e9_a3e7_00216ae618aarow28_col7\" class=\"data row28 col7\" >0.52</td>\n",
       "            </tr>\n",
       "    </tbody></table>"
      ],
      "text/plain": [
       "<pandas.io.formats.style.Styler at 0x1926b428160>"
      ]
     },
     "execution_count": 19,
     "metadata": {},
     "output_type": "execute_result"
    }
   ],
   "source": [
    "coefs = pd.DataFrame(data=lr.coef_, index=lr.classes_, columns = X.columns).T\n",
    "coefs.style.format(lambda x: \"\" if np.isclose(x, 0) else np.round(x, 3)\n",
    "                  ).background_gradient(cmap='viridis', axis=None)"
   ]
  },
  {
   "cell_type": "markdown",
   "metadata": {
    "slideshow": {
     "slide_type": "slide"
    }
   },
   "source": [
    "### An Extended Workflow for Support Vector Classifiers: Gridsearch for Parameter Optimisation"
   ]
  },
  {
   "cell_type": "code",
   "execution_count": 20,
   "metadata": {
    "slideshow": {
     "slide_type": "subslide"
    }
   },
   "outputs": [],
   "source": [
    "preprocessor = PdUnion(\n",
    "    [\n",
    "        make_pipeline(CompositionalSelector(), CLRTransform()),\n",
    "        make_pipeline(CompositionalSelector(inverse=True), LinearTransform()),\n",
    "    ]\n",
    ")\n",
    "XX_ = StandardScaler().fit_transform(preprocessor.fit_transform(X))"
   ]
  },
  {
   "cell_type": "code",
   "execution_count": 21,
   "metadata": {
    "slideshow": {
     "slide_type": "fragment"
    }
   },
   "outputs": [],
   "source": [
    "XX_train, XX_test, yy_train, yy_test = train_test_split(XX_, \n",
    "                                                        y, \n",
    "                                                        stratify=y, \n",
    "                                                        test_size=0.3)"
   ]
  },
  {
   "cell_type": "markdown",
   "metadata": {
    "slideshow": {
     "slide_type": "subslide"
    }
   },
   "source": [
    "We can see how this preprocessing improves our other simple classifiers:"
   ]
  },
  {
   "cell_type": "code",
   "execution_count": 22,
   "metadata": {
    "slideshow": {
     "slide_type": "fragment"
    }
   },
   "outputs": [],
   "source": [
    "lr2 = LogisticRegression(multi_class=\"multinomial\",\n",
    "                         solver=\"saga\", \n",
    "                         penalty=\"l1\")\n",
    "lr2.fit(XX_train, yy_train)\n",
    "lr2score = lr2.score(XX_test, yy_test) "
   ]
  },
  {
   "cell_type": "code",
   "execution_count": 23,
   "metadata": {
    "slideshow": {
     "slide_type": "fragment"
    }
   },
   "outputs": [],
   "source": [
    "rf2 = RandomForestClassifier()\n",
    "rf2.fit(XX_train, yy_train)\n",
    "rf2score = rf2.score(XX_test, yy_test)"
   ]
  },
  {
   "cell_type": "code",
   "execution_count": 24,
   "metadata": {
    "slideshow": {
     "slide_type": "fragment"
    }
   },
   "outputs": [],
   "source": [
    "svc2 = SVC(kernel='rbf')\n",
    "svc2.fit(XX_train, yy_train)\n",
    "svc2score = svc2.score(XX_test, yy_test)"
   ]
  },
  {
   "cell_type": "markdown",
   "metadata": {
    "slideshow": {
     "slide_type": "subslide"
    }
   },
   "source": [
    "Now we can build an optimised classifier, in this case using a pipeline constructor from pyrolite:"
   ]
  },
  {
   "cell_type": "code",
   "execution_count": 25,
   "metadata": {
    "slideshow": {
     "slide_type": "fragment"
    }
   },
   "outputs": [
    {
     "name": "stdout",
     "output_type": "stream",
     "text": [
      "Fitting 10 folds for each of 25 candidates, totalling 250 fits\n"
     ]
    },
    {
     "name": "stderr",
     "output_type": "stream",
     "text": [
      "[Parallel(n_jobs=4)]: Using backend LokyBackend with 4 concurrent workers.\n",
      "[Parallel(n_jobs=4)]: Done  42 tasks      | elapsed:   14.3s\n",
      "[Parallel(n_jobs=4)]: Done 192 tasks      | elapsed:   44.3s\n",
      "[Parallel(n_jobs=4)]: Done 250 out of 250 | elapsed:   55.7s finished\n"
     ]
    }
   ],
   "source": [
    "gs = SVC_pipeline(verbose=1,\n",
    "                  probability=True,\n",
    "                  param_grid=dict(\n",
    "                      svc__gamma=np.logspace(-2.3, -0.85, 5),\n",
    "                      svc__C=np.logspace(-0.5, 2, 5),  # limit C parameter to avoid overfitting\n",
    "                  ))\n",
    "gs.fit(XX_train, yy_train);"
   ]
  },
  {
   "cell_type": "code",
   "execution_count": 26,
   "metadata": {
    "slideshow": {
     "slide_type": "fragment"
    }
   },
   "outputs": [
    {
     "data": {
      "text/plain": [
       "'Overall Accuracy: 95.0%'"
      ]
     },
     "execution_count": 26,
     "metadata": {},
     "output_type": "execute_result"
    }
   ],
   "source": [
    "svcgsscore = gs.best_estimator_.score(XX_test, yy_test)\n",
    "\"Overall Accuracy: {:.1f}%\".format(svcgsscore*100)"
   ]
  },
  {
   "cell_type": "code",
   "execution_count": 27,
   "metadata": {
    "slideshow": {
     "slide_type": "subslide"
    }
   },
   "outputs": [
    {
     "data": {
      "image/png": "[encoded data removed]",
      "text/plain": [
       "<Figure size 432x288 with 2 Axes>"
      ]
     },
     "metadata": {
      "needs_background": "light"
     },
     "output_type": "display_data"
    }
   ],
   "source": [
    "plot_confusion_matrix(\n",
    "    gs.best_estimator_, XX_test, yy_test, normalize=True\n",
    ");"
   ]
  },
  {
   "cell_type": "code",
   "execution_count": 28,
   "metadata": {
    "slideshow": {
     "slide_type": "subslide"
    }
   },
   "outputs": [
    {
     "data": {
      "text/html": [
       "<style  type=\"text/css\" >\n",
       "    #T_55968374_f6cf_11e9_bb5c_00216ae618aarow0_col1 {\n",
       "            background-color:  #f4f9fe;\n",
       "            color:  #000000;\n",
       "        }    #T_55968374_f6cf_11e9_bb5c_00216ae618aarow0_col2 {\n",
       "            background-color:  #f3f8fe;\n",
       "            color:  #000000;\n",
       "        }    #T_55968374_f6cf_11e9_bb5c_00216ae618aarow0_col3 {\n",
       "            background-color:  #f7fbff;\n",
       "            color:  #000000;\n",
       "        }    #T_55968374_f6cf_11e9_bb5c_00216ae618aarow0_col4 {\n",
       "            background-color:  #e6f0f9;\n",
       "            color:  #000000;\n",
       "        }    #T_55968374_f6cf_11e9_bb5c_00216ae618aarow0_col5 {\n",
       "            background-color:  #e3eef8;\n",
       "            color:  #000000;\n",
       "        }    #T_55968374_f6cf_11e9_bb5c_00216ae618aarow0_col6 {\n",
       "            background-color:  #f6faff;\n",
       "            color:  #000000;\n",
       "        }    #T_55968374_f6cf_11e9_bb5c_00216ae618aarow0_col7 {\n",
       "            background-color:  #f6faff;\n",
       "            color:  #000000;\n",
       "        }    #T_55968374_f6cf_11e9_bb5c_00216ae618aarow0_col8 {\n",
       "            background-color:  #08306b;\n",
       "            color:  #f1f1f1;\n",
       "        }    #T_55968374_f6cf_11e9_bb5c_00216ae618aarow1_col1 {\n",
       "            background-color:  #f6faff;\n",
       "            color:  #000000;\n",
       "        }    #T_55968374_f6cf_11e9_bb5c_00216ae618aarow1_col2 {\n",
       "            background-color:  #08306b;\n",
       "            color:  #f1f1f1;\n",
       "        }    #T_55968374_f6cf_11e9_bb5c_00216ae618aarow1_col3 {\n",
       "            background-color:  #f7fbff;\n",
       "            color:  #000000;\n",
       "        }    #T_55968374_f6cf_11e9_bb5c_00216ae618aarow1_col4 {\n",
       "            background-color:  #f7fbff;\n",
       "            color:  #000000;\n",
       "        }    #T_55968374_f6cf_11e9_bb5c_00216ae618aarow1_col5 {\n",
       "            background-color:  #f7fbff;\n",
       "            color:  #000000;\n",
       "        }    #T_55968374_f6cf_11e9_bb5c_00216ae618aarow1_col6 {\n",
       "            background-color:  #f5f9fe;\n",
       "            color:  #000000;\n",
       "        }    #T_55968374_f6cf_11e9_bb5c_00216ae618aarow1_col7 {\n",
       "            background-color:  #f7fbff;\n",
       "            color:  #000000;\n",
       "        }    #T_55968374_f6cf_11e9_bb5c_00216ae618aarow1_col8 {\n",
       "            background-color:  #f7fbff;\n",
       "            color:  #000000;\n",
       "        }    #T_55968374_f6cf_11e9_bb5c_00216ae618aarow2_col1 {\n",
       "            background-color:  #f7fbff;\n",
       "            color:  #000000;\n",
       "        }    #T_55968374_f6cf_11e9_bb5c_00216ae618aarow2_col2 {\n",
       "            background-color:  #f7fbff;\n",
       "            color:  #000000;\n",
       "        }    #T_55968374_f6cf_11e9_bb5c_00216ae618aarow2_col3 {\n",
       "            background-color:  #f7fbff;\n",
       "            color:  #000000;\n",
       "        }    #T_55968374_f6cf_11e9_bb5c_00216ae618aarow2_col4 {\n",
       "            background-color:  #f6faff;\n",
       "            color:  #000000;\n",
       "        }    #T_55968374_f6cf_11e9_bb5c_00216ae618aarow2_col5 {\n",
       "            background-color:  #e0ecf8;\n",
       "            color:  #000000;\n",
       "        }    #T_55968374_f6cf_11e9_bb5c_00216ae618aarow2_col6 {\n",
       "            background-color:  #f7fbff;\n",
       "            color:  #000000;\n",
       "        }    #T_55968374_f6cf_11e9_bb5c_00216ae618aarow2_col7 {\n",
       "            background-color:  #08306b;\n",
       "            color:  #f1f1f1;\n",
       "        }    #T_55968374_f6cf_11e9_bb5c_00216ae618aarow2_col8 {\n",
       "            background-color:  #f6faff;\n",
       "            color:  #000000;\n",
       "        }    #T_55968374_f6cf_11e9_bb5c_00216ae618aarow3_col1 {\n",
       "            background-color:  #f7fbff;\n",
       "            color:  #000000;\n",
       "        }    #T_55968374_f6cf_11e9_bb5c_00216ae618aarow3_col2 {\n",
       "            background-color:  #f7fbff;\n",
       "            color:  #000000;\n",
       "        }    #T_55968374_f6cf_11e9_bb5c_00216ae618aarow3_col3 {\n",
       "            background-color:  #08306b;\n",
       "            color:  #f1f1f1;\n",
       "        }    #T_55968374_f6cf_11e9_bb5c_00216ae618aarow3_col4 {\n",
       "            background-color:  #f6faff;\n",
       "            color:  #000000;\n",
       "        }    #T_55968374_f6cf_11e9_bb5c_00216ae618aarow3_col5 {\n",
       "            background-color:  #f7fbff;\n",
       "            color:  #000000;\n",
       "        }    #T_55968374_f6cf_11e9_bb5c_00216ae618aarow3_col6 {\n",
       "            background-color:  #f5fafe;\n",
       "            color:  #000000;\n",
       "        }    #T_55968374_f6cf_11e9_bb5c_00216ae618aarow3_col7 {\n",
       "            background-color:  #eff6fc;\n",
       "            color:  #000000;\n",
       "        }    #T_55968374_f6cf_11e9_bb5c_00216ae618aarow3_col8 {\n",
       "            background-color:  #e6f0f9;\n",
       "            color:  #000000;\n",
       "        }    #T_55968374_f6cf_11e9_bb5c_00216ae618aarow4_col1 {\n",
       "            background-color:  #f7fbff;\n",
       "            color:  #000000;\n",
       "        }    #T_55968374_f6cf_11e9_bb5c_00216ae618aarow4_col2 {\n",
       "            background-color:  #f7fbff;\n",
       "            color:  #000000;\n",
       "        }    #T_55968374_f6cf_11e9_bb5c_00216ae618aarow4_col3 {\n",
       "            background-color:  #f7fbff;\n",
       "            color:  #000000;\n",
       "        }    #T_55968374_f6cf_11e9_bb5c_00216ae618aarow4_col4 {\n",
       "            background-color:  #f7fbff;\n",
       "            color:  #000000;\n",
       "        }    #T_55968374_f6cf_11e9_bb5c_00216ae618aarow4_col5 {\n",
       "            background-color:  #08306b;\n",
       "            color:  #f1f1f1;\n",
       "        }    #T_55968374_f6cf_11e9_bb5c_00216ae618aarow4_col6 {\n",
       "            background-color:  #f7fbff;\n",
       "            color:  #000000;\n",
       "        }    #T_55968374_f6cf_11e9_bb5c_00216ae618aarow4_col7 {\n",
       "            background-color:  #f7fbff;\n",
       "            color:  #000000;\n",
       "        }    #T_55968374_f6cf_11e9_bb5c_00216ae618aarow4_col8 {\n",
       "            background-color:  #f5fafe;\n",
       "            color:  #000000;\n",
       "        }    #T_55968374_f6cf_11e9_bb5c_00216ae618aarow5_col1 {\n",
       "            background-color:  #f4f9fe;\n",
       "            color:  #000000;\n",
       "        }    #T_55968374_f6cf_11e9_bb5c_00216ae618aarow5_col2 {\n",
       "            background-color:  #f4f9fe;\n",
       "            color:  #000000;\n",
       "        }    #T_55968374_f6cf_11e9_bb5c_00216ae618aarow5_col3 {\n",
       "            background-color:  #f7fbff;\n",
       "            color:  #000000;\n",
       "        }    #T_55968374_f6cf_11e9_bb5c_00216ae618aarow5_col4 {\n",
       "            background-color:  #f2f7fd;\n",
       "            color:  #000000;\n",
       "        }    #T_55968374_f6cf_11e9_bb5c_00216ae618aarow5_col5 {\n",
       "            background-color:  #f7fbff;\n",
       "            color:  #000000;\n",
       "        }    #T_55968374_f6cf_11e9_bb5c_00216ae618aarow5_col6 {\n",
       "            background-color:  #f4f9fe;\n",
       "            color:  #000000;\n",
       "        }    #T_55968374_f6cf_11e9_bb5c_00216ae618aarow5_col7 {\n",
       "            background-color:  #08306b;\n",
       "            color:  #f1f1f1;\n",
       "        }    #T_55968374_f6cf_11e9_bb5c_00216ae618aarow5_col8 {\n",
       "            background-color:  #f6faff;\n",
       "            color:  #000000;\n",
       "        }    #T_55968374_f6cf_11e9_bb5c_00216ae618aarow6_col1 {\n",
       "            background-color:  #f7fbff;\n",
       "            color:  #000000;\n",
       "        }    #T_55968374_f6cf_11e9_bb5c_00216ae618aarow6_col2 {\n",
       "            background-color:  #f7fbff;\n",
       "            color:  #000000;\n",
       "        }    #T_55968374_f6cf_11e9_bb5c_00216ae618aarow6_col3 {\n",
       "            background-color:  #f7fbff;\n",
       "            color:  #000000;\n",
       "        }    #T_55968374_f6cf_11e9_bb5c_00216ae618aarow6_col4 {\n",
       "            background-color:  #f6faff;\n",
       "            color:  #000000;\n",
       "        }    #T_55968374_f6cf_11e9_bb5c_00216ae618aarow6_col5 {\n",
       "            background-color:  #08306b;\n",
       "            color:  #f1f1f1;\n",
       "        }    #T_55968374_f6cf_11e9_bb5c_00216ae618aarow6_col6 {\n",
       "            background-color:  #f7fbff;\n",
       "            color:  #000000;\n",
       "        }    #T_55968374_f6cf_11e9_bb5c_00216ae618aarow6_col7 {\n",
       "            background-color:  #f7fbff;\n",
       "            color:  #000000;\n",
       "        }    #T_55968374_f6cf_11e9_bb5c_00216ae618aarow6_col8 {\n",
       "            background-color:  #f7fbff;\n",
       "            color:  #000000;\n",
       "        }    #T_55968374_f6cf_11e9_bb5c_00216ae618aarow7_col1 {\n",
       "            background-color:  #f7fbff;\n",
       "            color:  #000000;\n",
       "        }    #T_55968374_f6cf_11e9_bb5c_00216ae618aarow7_col2 {\n",
       "            background-color:  #f7fbff;\n",
       "            color:  #000000;\n",
       "        }    #T_55968374_f6cf_11e9_bb5c_00216ae618aarow7_col3 {\n",
       "            background-color:  #f7fbff;\n",
       "            color:  #000000;\n",
       "        }    #T_55968374_f6cf_11e9_bb5c_00216ae618aarow7_col4 {\n",
       "            background-color:  #08306b;\n",
       "            color:  #f1f1f1;\n",
       "        }    #T_55968374_f6cf_11e9_bb5c_00216ae618aarow7_col5 {\n",
       "            background-color:  #8fc2de;\n",
       "            color:  #000000;\n",
       "        }    #T_55968374_f6cf_11e9_bb5c_00216ae618aarow7_col6 {\n",
       "            background-color:  #f7fbff;\n",
       "            color:  #000000;\n",
       "        }    #T_55968374_f6cf_11e9_bb5c_00216ae618aarow7_col7 {\n",
       "            background-color:  #e7f0fa;\n",
       "            color:  #000000;\n",
       "        }    #T_55968374_f6cf_11e9_bb5c_00216ae618aarow7_col8 {\n",
       "            background-color:  #d9e8f5;\n",
       "            color:  #000000;\n",
       "        }</style><table id=\"T_55968374_f6cf_11e9_bb5c_00216ae618aa\" ><thead>    <tr>        <th class=\"blank level0\" ></th>        <th class=\"col_heading level0 col0\" >Expect</th>        <th class=\"col_heading level0 col1\" >OP</th>        <th class=\"col_heading level0 col2\" >OI</th>        <th class=\"col_heading level0 col3\" >MOR</th>        <th class=\"col_heading level0 col4\" >IOA</th>        <th class=\"col_heading level0 col5\" >IA</th>        <th class=\"col_heading level0 col6\" >CFB</th>        <th class=\"col_heading level0 col7\" >CA</th>        <th class=\"col_heading level0 col8\" >BAB</th>    </tr></thead><tbody>\n",
       "                <tr>\n",
       "                        <th id=\"T_55968374_f6cf_11e9_bb5c_00216ae618aalevel0_row0\" class=\"row_heading level0 row0\" >0</th>\n",
       "                        <td id=\"T_55968374_f6cf_11e9_bb5c_00216ae618aarow0_col0\" class=\"data row0 col0\" >BAB</td>\n",
       "                        <td id=\"T_55968374_f6cf_11e9_bb5c_00216ae618aarow0_col1\" class=\"data row0 col1\" >1.67</td>\n",
       "                        <td id=\"T_55968374_f6cf_11e9_bb5c_00216ae618aarow0_col2\" class=\"data row0 col2\" >1.89</td>\n",
       "                        <td id=\"T_55968374_f6cf_11e9_bb5c_00216ae618aarow0_col3\" class=\"data row0 col3\" >0.34</td>\n",
       "                        <td id=\"T_55968374_f6cf_11e9_bb5c_00216ae618aarow0_col4\" class=\"data row0 col4\" >7.31</td>\n",
       "                        <td id=\"T_55968374_f6cf_11e9_bb5c_00216ae618aarow0_col5\" class=\"data row0 col5\" >8.59</td>\n",
       "                        <td id=\"T_55968374_f6cf_11e9_bb5c_00216ae618aarow0_col6\" class=\"data row0 col6\" >0.67</td>\n",
       "                        <td id=\"T_55968374_f6cf_11e9_bb5c_00216ae618aarow0_col7\" class=\"data row0 col7\" >0.9</td>\n",
       "                        <td id=\"T_55968374_f6cf_11e9_bb5c_00216ae618aarow0_col8\" class=\"data row0 col8\" >78.62</td>\n",
       "            </tr>\n",
       "            <tr>\n",
       "                        <th id=\"T_55968374_f6cf_11e9_bb5c_00216ae618aalevel0_row1\" class=\"row_heading level0 row1\" >1</th>\n",
       "                        <td id=\"T_55968374_f6cf_11e9_bb5c_00216ae618aarow1_col0\" class=\"data row1 col0\" >OI</td>\n",
       "                        <td id=\"T_55968374_f6cf_11e9_bb5c_00216ae618aarow1_col1\" class=\"data row1 col1\" >0.47</td>\n",
       "                        <td id=\"T_55968374_f6cf_11e9_bb5c_00216ae618aarow1_col2\" class=\"data row1 col2\" >97.76</td>\n",
       "                        <td id=\"T_55968374_f6cf_11e9_bb5c_00216ae618aarow1_col3\" class=\"data row1 col3\" >0.03</td>\n",
       "                        <td id=\"T_55968374_f6cf_11e9_bb5c_00216ae618aarow1_col4\" class=\"data row1 col4\" >0.23</td>\n",
       "                        <td id=\"T_55968374_f6cf_11e9_bb5c_00216ae618aarow1_col5\" class=\"data row1 col5\" >0.08</td>\n",
       "                        <td id=\"T_55968374_f6cf_11e9_bb5c_00216ae618aarow1_col6\" class=\"data row1 col6\" >1.21</td>\n",
       "                        <td id=\"T_55968374_f6cf_11e9_bb5c_00216ae618aarow1_col7\" class=\"data row1 col7\" >0.07</td>\n",
       "                        <td id=\"T_55968374_f6cf_11e9_bb5c_00216ae618aarow1_col8\" class=\"data row1 col8\" >0.15</td>\n",
       "            </tr>\n",
       "            <tr>\n",
       "                        <th id=\"T_55968374_f6cf_11e9_bb5c_00216ae618aalevel0_row2\" class=\"row_heading level0 row2\" >2</th>\n",
       "                        <td id=\"T_55968374_f6cf_11e9_bb5c_00216ae618aarow2_col0\" class=\"data row2 col0\" >CA</td>\n",
       "                        <td id=\"T_55968374_f6cf_11e9_bb5c_00216ae618aarow2_col1\" class=\"data row2 col1\" >0.4</td>\n",
       "                        <td id=\"T_55968374_f6cf_11e9_bb5c_00216ae618aarow2_col2\" class=\"data row2 col2\" >0.32</td>\n",
       "                        <td id=\"T_55968374_f6cf_11e9_bb5c_00216ae618aarow2_col3\" class=\"data row2 col3\" >0.19</td>\n",
       "                        <td id=\"T_55968374_f6cf_11e9_bb5c_00216ae618aarow2_col4\" class=\"data row2 col4\" >0.77</td>\n",
       "                        <td id=\"T_55968374_f6cf_11e9_bb5c_00216ae618aarow2_col5\" class=\"data row2 col5\" >10.1</td>\n",
       "                        <td id=\"T_55968374_f6cf_11e9_bb5c_00216ae618aarow2_col6\" class=\"data row2 col6\" >0.34</td>\n",
       "                        <td id=\"T_55968374_f6cf_11e9_bb5c_00216ae618aarow2_col7\" class=\"data row2 col7\" >87.17</td>\n",
       "                        <td id=\"T_55968374_f6cf_11e9_bb5c_00216ae618aarow2_col8\" class=\"data row2 col8\" >0.71</td>\n",
       "            </tr>\n",
       "            <tr>\n",
       "                        <th id=\"T_55968374_f6cf_11e9_bb5c_00216ae618aalevel0_row3\" class=\"row_heading level0 row3\" >3</th>\n",
       "                        <td id=\"T_55968374_f6cf_11e9_bb5c_00216ae618aarow3_col0\" class=\"data row3 col0\" >BAB</td>\n",
       "                        <td id=\"T_55968374_f6cf_11e9_bb5c_00216ae618aarow3_col1\" class=\"data row3 col1\" >0.29</td>\n",
       "                        <td id=\"T_55968374_f6cf_11e9_bb5c_00216ae618aarow3_col2\" class=\"data row3 col2\" >0.37</td>\n",
       "                        <td id=\"T_55968374_f6cf_11e9_bb5c_00216ae618aarow3_col3\" class=\"data row3 col3\" >85.79</td>\n",
       "                        <td id=\"T_55968374_f6cf_11e9_bb5c_00216ae618aarow3_col4\" class=\"data row3 col4\" >0.63</td>\n",
       "                        <td id=\"T_55968374_f6cf_11e9_bb5c_00216ae618aarow3_col5\" class=\"data row3 col5\" >0.25</td>\n",
       "                        <td id=\"T_55968374_f6cf_11e9_bb5c_00216ae618aarow3_col6\" class=\"data row3 col6\" >1.06</td>\n",
       "                        <td id=\"T_55968374_f6cf_11e9_bb5c_00216ae618aarow3_col7\" class=\"data row3 col7\" >3.91</td>\n",
       "                        <td id=\"T_55968374_f6cf_11e9_bb5c_00216ae618aarow3_col8\" class=\"data row3 col8\" >7.71</td>\n",
       "            </tr>\n",
       "            <tr>\n",
       "                        <th id=\"T_55968374_f6cf_11e9_bb5c_00216ae618aalevel0_row4\" class=\"row_heading level0 row4\" >4</th>\n",
       "                        <td id=\"T_55968374_f6cf_11e9_bb5c_00216ae618aarow4_col0\" class=\"data row4 col0\" >IA</td>\n",
       "                        <td id=\"T_55968374_f6cf_11e9_bb5c_00216ae618aarow4_col1\" class=\"data row4 col1\" >0.06</td>\n",
       "                        <td id=\"T_55968374_f6cf_11e9_bb5c_00216ae618aarow4_col2\" class=\"data row4 col2\" >0.02</td>\n",
       "                        <td id=\"T_55968374_f6cf_11e9_bb5c_00216ae618aarow4_col3\" class=\"data row4 col3\" >0.02</td>\n",
       "                        <td id=\"T_55968374_f6cf_11e9_bb5c_00216ae618aarow4_col4\" class=\"data row4 col4\" >0.08</td>\n",
       "                        <td id=\"T_55968374_f6cf_11e9_bb5c_00216ae618aarow4_col5\" class=\"data row4 col5\" >98.79</td>\n",
       "                        <td id=\"T_55968374_f6cf_11e9_bb5c_00216ae618aarow4_col6\" class=\"data row4 col6\" >0.03</td>\n",
       "                        <td id=\"T_55968374_f6cf_11e9_bb5c_00216ae618aarow4_col7\" class=\"data row4 col7\" >0.08</td>\n",
       "                        <td id=\"T_55968374_f6cf_11e9_bb5c_00216ae618aarow4_col8\" class=\"data row4 col8\" >0.92</td>\n",
       "            </tr>\n",
       "            <tr>\n",
       "                        <th id=\"T_55968374_f6cf_11e9_bb5c_00216ae618aalevel0_row5\" class=\"row_heading level0 row5\" >5</th>\n",
       "                        <td id=\"T_55968374_f6cf_11e9_bb5c_00216ae618aarow5_col0\" class=\"data row5 col0\" >CA</td>\n",
       "                        <td id=\"T_55968374_f6cf_11e9_bb5c_00216ae618aarow5_col1\" class=\"data row5 col1\" >2.29</td>\n",
       "                        <td id=\"T_55968374_f6cf_11e9_bb5c_00216ae618aarow5_col2\" class=\"data row5 col2\" >2.03</td>\n",
       "                        <td id=\"T_55968374_f6cf_11e9_bb5c_00216ae618aarow5_col3\" class=\"data row5 col3\" >0.6</td>\n",
       "                        <td id=\"T_55968374_f6cf_11e9_bb5c_00216ae618aarow5_col4\" class=\"data row5 col4\" >3.24</td>\n",
       "                        <td id=\"T_55968374_f6cf_11e9_bb5c_00216ae618aarow5_col5\" class=\"data row5 col5\" >0.74</td>\n",
       "                        <td id=\"T_55968374_f6cf_11e9_bb5c_00216ae618aarow5_col6\" class=\"data row5 col6\" >2.11</td>\n",
       "                        <td id=\"T_55968374_f6cf_11e9_bb5c_00216ae618aarow5_col7\" class=\"data row5 col7\" >87.92</td>\n",
       "                        <td id=\"T_55968374_f6cf_11e9_bb5c_00216ae618aarow5_col8\" class=\"data row5 col8\" >1.08</td>\n",
       "            </tr>\n",
       "            <tr>\n",
       "                        <th id=\"T_55968374_f6cf_11e9_bb5c_00216ae618aalevel0_row6\" class=\"row_heading level0 row6\" >6</th>\n",
       "                        <td id=\"T_55968374_f6cf_11e9_bb5c_00216ae618aarow6_col0\" class=\"data row6 col0\" >IA</td>\n",
       "                        <td id=\"T_55968374_f6cf_11e9_bb5c_00216ae618aarow6_col1\" class=\"data row6 col1\" >0.03</td>\n",
       "                        <td id=\"T_55968374_f6cf_11e9_bb5c_00216ae618aarow6_col2\" class=\"data row6 col2\" >0.02</td>\n",
       "                        <td id=\"T_55968374_f6cf_11e9_bb5c_00216ae618aarow6_col3\" class=\"data row6 col3\" >0.02</td>\n",
       "                        <td id=\"T_55968374_f6cf_11e9_bb5c_00216ae618aarow6_col4\" class=\"data row6 col4\" >0.41</td>\n",
       "                        <td id=\"T_55968374_f6cf_11e9_bb5c_00216ae618aarow6_col5\" class=\"data row6 col5\" >98.9</td>\n",
       "                        <td id=\"T_55968374_f6cf_11e9_bb5c_00216ae618aarow6_col6\" class=\"data row6 col6\" >0.02</td>\n",
       "                        <td id=\"T_55968374_f6cf_11e9_bb5c_00216ae618aarow6_col7\" class=\"data row6 col7\" >0.26</td>\n",
       "                        <td id=\"T_55968374_f6cf_11e9_bb5c_00216ae618aarow6_col8\" class=\"data row6 col8\" >0.34</td>\n",
       "            </tr>\n",
       "            <tr>\n",
       "                        <th id=\"T_55968374_f6cf_11e9_bb5c_00216ae618aalevel0_row7\" class=\"row_heading level0 row7\" >7</th>\n",
       "                        <td id=\"T_55968374_f6cf_11e9_bb5c_00216ae618aarow7_col0\" class=\"data row7 col0\" >IA</td>\n",
       "                        <td id=\"T_55968374_f6cf_11e9_bb5c_00216ae618aarow7_col1\" class=\"data row7 col1\" >0.89</td>\n",
       "                        <td id=\"T_55968374_f6cf_11e9_bb5c_00216ae618aarow7_col2\" class=\"data row7 col2\" >0.9</td>\n",
       "                        <td id=\"T_55968374_f6cf_11e9_bb5c_00216ae618aarow7_col3\" class=\"data row7 col3\" >0.88</td>\n",
       "                        <td id=\"T_55968374_f6cf_11e9_bb5c_00216ae618aarow7_col4\" class=\"data row7 col4\" >57.44</td>\n",
       "                        <td id=\"T_55968374_f6cf_11e9_bb5c_00216ae618aarow7_col5\" class=\"data row7 col5\" >24.23</td>\n",
       "                        <td id=\"T_55968374_f6cf_11e9_bb5c_00216ae618aarow7_col6\" class=\"data row7 col6\" >0.78</td>\n",
       "                        <td id=\"T_55968374_f6cf_11e9_bb5c_00216ae618aarow7_col7\" class=\"data row7 col7\" >5.47</td>\n",
       "                        <td id=\"T_55968374_f6cf_11e9_bb5c_00216ae618aarow7_col8\" class=\"data row7 col8\" >9.41</td>\n",
       "            </tr>\n",
       "    </tbody></table>"
      ],
      "text/plain": [
       "<pandas.io.formats.style.Styler at 0x1926a158c50>"
      ]
     },
     "execution_count": 28,
     "metadata": {},
     "output_type": "execute_result"
    }
   ],
   "source": [
    "probs = (\n",
    "    pd.DataFrame(\n",
    "        data=gs.best_estimator_.predict_proba(XX_test[:8]),\n",
    "        columns=gs.best_estimator_.classes_,  \n",
    "    )\n",
    "    * 100\n",
    ")\n",
    "probs[\"Expect\"] = yy_test[:8].tolist()\n",
    "table = probs[probs.columns[::-1]].round(2)\n",
    "table.style.background_gradient(cmap=\"Blues\", axis=1)"
   ]
  },
  {
   "cell_type": "code",
   "execution_count": 29,
   "metadata": {
    "slideshow": {
     "slide_type": "subslide"
    }
   },
   "outputs": [
    {
     "data": {
      "text/html": [
       "<style  type=\"text/css\" >\n",
       "    #T_559ddc66_f6cf_11e9_aa69_00216ae618aarow0_col0 {\n",
       "            background-color:  #f7fcf5;\n",
       "            color:  #000000;\n",
       "        }    #T_559ddc66_f6cf_11e9_aa69_00216ae618aarow0_col1 {\n",
       "            background-color:  #f7fcf5;\n",
       "            color:  #000000;\n",
       "        }    #T_559ddc66_f6cf_11e9_aa69_00216ae618aarow0_col2 {\n",
       "            background-color:  #f7fcf5;\n",
       "            color:  #000000;\n",
       "        }    #T_559ddc66_f6cf_11e9_aa69_00216ae618aarow1_col0 {\n",
       "            background-color:  #f7fcf5;\n",
       "            color:  #000000;\n",
       "        }    #T_559ddc66_f6cf_11e9_aa69_00216ae618aarow1_col1 {\n",
       "            background-color:  #f7fcf5;\n",
       "            color:  #000000;\n",
       "        }    #T_559ddc66_f6cf_11e9_aa69_00216ae618aarow1_col2 {\n",
       "            background-color:  #f7fcf5;\n",
       "            color:  #000000;\n",
       "        }    #T_559ddc66_f6cf_11e9_aa69_00216ae618aarow2_col0 {\n",
       "            background-color:  #f7fcf5;\n",
       "            color:  #000000;\n",
       "        }    #T_559ddc66_f6cf_11e9_aa69_00216ae618aarow2_col1 {\n",
       "            background-color:  #f7fcf5;\n",
       "            color:  #000000;\n",
       "        }    #T_559ddc66_f6cf_11e9_aa69_00216ae618aarow2_col2 {\n",
       "            background-color:  #f7fcf5;\n",
       "            color:  #000000;\n",
       "        }</style><table id=\"T_559ddc66_f6cf_11e9_aa69_00216ae618aa\" ><thead>    <tr>        <th class=\"blank level0\" ></th>        <th class=\"col_heading level0 col0\" >Start</th>        <th class=\"col_heading level0 col1\" >With CLR</th>        <th class=\"col_heading level0 col2\" >GridSearch</th>    </tr></thead><tbody>\n",
       "                <tr>\n",
       "                        <th id=\"T_559ddc66_f6cf_11e9_aa69_00216ae618aalevel0_row0\" class=\"row_heading level0 row0\" >SVC</th>\n",
       "                        <td id=\"T_559ddc66_f6cf_11e9_aa69_00216ae618aarow0_col0\" class=\"data row0 col0\" >87.0%</td>\n",
       "                        <td id=\"T_559ddc66_f6cf_11e9_aa69_00216ae618aarow0_col1\" class=\"data row0 col1\" >90.0%</td>\n",
       "                        <td id=\"T_559ddc66_f6cf_11e9_aa69_00216ae618aarow0_col2\" class=\"data row0 col2\" >95.0%</td>\n",
       "            </tr>\n",
       "            <tr>\n",
       "                        <th id=\"T_559ddc66_f6cf_11e9_aa69_00216ae618aalevel0_row1\" class=\"row_heading level0 row1\" >RandomForest</th>\n",
       "                        <td id=\"T_559ddc66_f6cf_11e9_aa69_00216ae618aarow1_col0\" class=\"data row1 col0\" >78.0%</td>\n",
       "                        <td id=\"T_559ddc66_f6cf_11e9_aa69_00216ae618aarow1_col1\" class=\"data row1 col1\" >91.7%</td>\n",
       "                        <td id=\"T_559ddc66_f6cf_11e9_aa69_00216ae618aarow1_col2\" class=\"data row1 col2\" ></td>\n",
       "            </tr>\n",
       "            <tr>\n",
       "                        <th id=\"T_559ddc66_f6cf_11e9_aa69_00216ae618aalevel0_row2\" class=\"row_heading level0 row2\" >Logist.Reg.</th>\n",
       "                        <td id=\"T_559ddc66_f6cf_11e9_aa69_00216ae618aarow2_col0\" class=\"data row2 col0\" >86.2%</td>\n",
       "                        <td id=\"T_559ddc66_f6cf_11e9_aa69_00216ae618aarow2_col1\" class=\"data row2 col1\" >88.1%</td>\n",
       "                        <td id=\"T_559ddc66_f6cf_11e9_aa69_00216ae618aarow2_col2\" class=\"data row2 col2\" ></td>\n",
       "            </tr>\n",
       "    </tbody></table>"
      ],
      "text/plain": [
       "<pandas.io.formats.style.Styler at 0x1926a233358>"
      ]
     },
     "execution_count": 29,
     "metadata": {},
     "output_type": "execute_result"
    }
   ],
   "source": [
    "scores = [(svcscore, svc2score, svcgsscore), \n",
    "          (rfscore, rf2score, np.nan), \n",
    "          (lrscore, lr2score, np.nan)]\n",
    "results = pd.DataFrame(data = scores, \n",
    "                       columns=['Start', \"With CLR\", 'GridSearch'], \n",
    "                       index = ['SVC', 'RandomForest', 'Logist.Reg.']\n",
    "                      ).round(3) *100\n",
    "results.style.format(lambda x: \"{:.1f}%\".format(x) if not np.isnan(x) else \"\"\n",
    "                    ).background_gradient(cmap=\"Greens\",\n",
    "                                          low=0, \n",
    "                                          high=1, \n",
    "                                          axis=None)"
   ]
  },
  {
   "cell_type": "markdown",
   "metadata": {
    "slideshow": {
     "slide_type": "slide"
    }
   },
   "source": [
    "Next: [Regression and Prediction](4.5_Regression.ipynb)"
   ]
  }
 ],
 "metadata": {
  "celltoolbar": "Slideshow",
  "kernelspec": {
   "display_name": "Python 3",
   "language": "python",
   "name": "python3"
  },
  "language_info": {
   "codemirror_mode": {
    "name": "ipython",
    "version": 3
   },
   "file_extension": ".py",
   "mimetype": "text/x-python",
   "name": "python",
   "nbconvert_exporter": "python",
   "pygments_lexer": "ipython3",
   "version": "3.6.7"
  },
  "rise": {
   "autolaunch": true,
   "scroll": true,
   "theme": "solarized"
  }
 },
 "nbformat": 4,
 "nbformat_minor": 2
}
