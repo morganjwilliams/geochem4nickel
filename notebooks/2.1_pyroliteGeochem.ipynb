{
 "cells": [
  {
   "cell_type": "markdown",
   "metadata": {
    "slideshow": {
     "slide_type": "slide"
    }
   },
   "source": [
    "<img src=\"https://pyrolite.readthedocs.io/en/develop/_static/icon.png\" width=\"35%\" style=\"float: right; margin: 0px 15px 15px 0px;\"/>\n",
    "\n",
    "# pyrolite: Python for Geochemistry\n",
    "\n",
    "**Intro** [Start](0.0_StartHere.ipynb) • [Intro](1.1_Introduction.ipynb)\n",
    "<br> **pyrolite** <mark>[Geochem](2.1_pyroliteGeochem.ipynb)</mark> • [Visualisation](2.2_pyroliteVis.ipynb) • [alphaMELTS](2.3_pyroliteMELTS.ipynb) • [lambdas](2.4_lambdas.ipynb) <br>  **Comparative Geochem**  [Databases, Data Mining and Deriving Context](3.1_ComparativeGeochemData.ipynb)<br>  **Machine Learning** [Intro](4.0_MachineLearning.ipynb) • [Features](4.1_Features.ipynb)• [High-D Vis](4.3_HighDVis.ipynb) • [Classification](4.4_Classification.ipynb) • [Regression & Prediction](4.5_Regression.ipynb) • [Clustering](4.6_Clustering.ipynb) <br>  **GitHub** [geochem4nickel](https://github.com/morganjwilliams/geochem4nickel) • [pyrolite](https://github.com/morganjwilliams/pyrolite)\n",
    "\n",
    "#### <i class=\"fa fa-twitter\" aria-hidden=\"true\"><a href=\"https://twitter.com/metasomite\" style=\"font-family:Courier New,Courier,Lucida Sans Typewriter,Lucida Typewriter,monospace;\"> @metasomite</a></i>"
   ]
  },
  {
   "cell_type": "markdown",
   "metadata": {
    "slideshow": {
     "slide_type": "slide"
    }
   },
   "source": [
    "## pyrolite?\n",
    "\n",
    "pyrolite is a python package developed for geochemical data analysis and visualisation. The package includes functions to work with compositional data, to transform geochemical variables (e.g. elements to oxides), functions for common plotting tasks (e.g. spiderplots, ternary diagrams, bivariate and ternary density diagrams), and numerous auxiliary utilities."
   ]
  },
  {
   "cell_type": "markdown",
   "metadata": {
    "slideshow": {
     "slide_type": "subslide"
    }
   },
   "source": [
    "### Documentation\n",
    "\n",
    "<img src=\"../img/docs_examples.png\" width=\"50%\" style=\"float: right; margin: 0px 15px 15px 0px;\"/>\n",
    "\n",
    "* [pyrolite.rtfd.io](pyrolite.rtfd.io):\n",
    "    * Installation\n",
    "    * Examples\n",
    "    * API\n",
    "    * Changelog\n",
    "    * Contributing\n",
    "    * Citation"
   ]
  },
  {
   "cell_type": "markdown",
   "metadata": {
    "slideshow": {
     "slide_type": "subslide"
    }
   },
   "source": [
    "!pip install pyrolite"
   ]
  },
  {
   "cell_type": "markdown",
   "metadata": {
    "slideshow": {
     "slide_type": "slide"
    }
   },
   "source": [
    "## Dealing with Geochemistry\n",
    "\n",
    "* Ratios\n",
    "* Compositional data\n",
    "* Scales (wt%, ppm, ppb)\n",
    "* Normalisation\n",
    "* Transformation (e.g. Fe2O3 to FeO)\n"
   ]
  },
  {
   "cell_type": "code",
   "execution_count": 1,
   "metadata": {
    "slideshow": {
     "slide_type": "slide"
    }
   },
   "outputs": [],
   "source": [
    "import pyrolite.geochem\n",
    "from scripts.dataloader import load_belts, load_koms"
   ]
  },
  {
   "cell_type": "code",
   "execution_count": 2,
   "metadata": {
    "slideshow": {
     "slide_type": "subslide"
    }
   },
   "outputs": [
    {
     "data": {
      "text/html": [
       "<div>\n",
       "<style scoped>\n",
       "    .dataframe tbody tr th:only-of-type {\n",
       "        vertical-align: middle;\n",
       "    }\n",
       "\n",
       "    .dataframe tbody tr th {\n",
       "        vertical-align: top;\n",
       "    }\n",
       "\n",
       "    .dataframe thead th {\n",
       "        text-align: right;\n",
       "    }\n",
       "</style>\n",
       "<table border=\"1\" class=\"dataframe\">\n",
       "  <thead>\n",
       "    <tr style=\"text-align: right;\">\n",
       "      <th></th>\n",
       "      <th>Greenstone belt</th>\n",
       "      <th>Locality</th>\n",
       "      <th>Location1</th>\n",
       "      <th>FakeName</th>\n",
       "      <th>Location2</th>\n",
       "      <th>Sample</th>\n",
       "      <th>SiO2</th>\n",
       "      <th>TiO2</th>\n",
       "      <th>Al2O3</th>\n",
       "      <th>FeO</th>\n",
       "      <th>...</th>\n",
       "      <th>Nd</th>\n",
       "      <th>Sm</th>\n",
       "      <th>Eu</th>\n",
       "      <th>Gd</th>\n",
       "      <th>Dy</th>\n",
       "      <th>Tb</th>\n",
       "      <th>Ho</th>\n",
       "      <th>Er</th>\n",
       "      <th>Tm</th>\n",
       "      <th>Yb</th>\n",
       "    </tr>\n",
       "  </thead>\n",
       "  <tbody>\n",
       "    <tr>\n",
       "      <th>0</th>\n",
       "      <td>Albany-Fraser</td>\n",
       "      <td>GSWA-Albany-Fraser unassigned</td>\n",
       "      <td>Albany-Fraser</td>\n",
       "      <td>Norwegian Wood</td>\n",
       "      <td>NaN</td>\n",
       "      <td>GSWA-180722</td>\n",
       "      <td>49.99</td>\n",
       "      <td>1.22</td>\n",
       "      <td>16.15</td>\n",
       "      <td>9.28</td>\n",
       "      <td>...</td>\n",
       "      <td>12.33</td>\n",
       "      <td>2.68</td>\n",
       "      <td>1.18</td>\n",
       "      <td>3.23</td>\n",
       "      <td>3.40</td>\n",
       "      <td>0.59</td>\n",
       "      <td>0.79</td>\n",
       "      <td>2.17</td>\n",
       "      <td>NaN</td>\n",
       "      <td>2.13</td>\n",
       "    </tr>\n",
       "    <tr>\n",
       "      <th>1</th>\n",
       "      <td>Albany-Fraser</td>\n",
       "      <td>GSWA-Albany-Fraser unassigned</td>\n",
       "      <td>Albany-Fraser</td>\n",
       "      <td>Norwegian Wood</td>\n",
       "      <td>NaN</td>\n",
       "      <td>GSWA-182456</td>\n",
       "      <td>45.74</td>\n",
       "      <td>1.11</td>\n",
       "      <td>14.18</td>\n",
       "      <td>16.63</td>\n",
       "      <td>...</td>\n",
       "      <td>13.74</td>\n",
       "      <td>3.71</td>\n",
       "      <td>1.24</td>\n",
       "      <td>4.14</td>\n",
       "      <td>4.27</td>\n",
       "      <td>0.66</td>\n",
       "      <td>0.97</td>\n",
       "      <td>2.53</td>\n",
       "      <td>NaN</td>\n",
       "      <td>2.45</td>\n",
       "    </tr>\n",
       "  </tbody>\n",
       "</table>\n",
       "<p>2 rows × 36 columns</p>\n",
       "</div>"
      ],
      "text/plain": [
       "  Greenstone belt                       Locality      Location1  \\\n",
       "0   Albany-Fraser  GSWA-Albany-Fraser unassigned  Albany-Fraser   \n",
       "1   Albany-Fraser  GSWA-Albany-Fraser unassigned  Albany-Fraser   \n",
       "\n",
       "         FakeName Location2       Sample   SiO2  TiO2  Al2O3    FeO  ...  \\\n",
       "0  Norwegian Wood       NaN  GSWA-180722  49.99  1.22  16.15   9.28  ...   \n",
       "1  Norwegian Wood       NaN  GSWA-182456  45.74  1.11  14.18  16.63  ...   \n",
       "\n",
       "      Nd    Sm    Eu    Gd    Dy    Tb    Ho    Er  Tm    Yb  \n",
       "0  12.33  2.68  1.18  3.23  3.40  0.59  0.79  2.17 NaN  2.13  \n",
       "1  13.74  3.71  1.24  4.14  4.27  0.66  0.97  2.53 NaN  2.45  \n",
       "\n",
       "[2 rows x 36 columns]"
      ]
     },
     "execution_count": 2,
     "metadata": {},
     "output_type": "execute_result"
    }
   ],
   "source": [
    "df = load_belts()\n",
    "df.head(2)"
   ]
  },
  {
   "cell_type": "code",
   "execution_count": 3,
   "metadata": {
    "slideshow": {
     "slide_type": "subslide"
    }
   },
   "outputs": [
    {
     "data": {
      "text/html": [
       "<div>\n",
       "<style scoped>\n",
       "    .dataframe tbody tr th:only-of-type {\n",
       "        vertical-align: middle;\n",
       "    }\n",
       "\n",
       "    .dataframe tbody tr th {\n",
       "        vertical-align: top;\n",
       "    }\n",
       "\n",
       "    .dataframe thead th {\n",
       "        text-align: right;\n",
       "    }\n",
       "</style>\n",
       "<table border=\"1\" class=\"dataframe\">\n",
       "  <thead>\n",
       "    <tr style=\"text-align: right;\">\n",
       "      <th></th>\n",
       "      <th>SiO2</th>\n",
       "      <th>TiO2</th>\n",
       "      <th>Al2O3</th>\n",
       "      <th>FeO</th>\n",
       "      <th>MgO</th>\n",
       "    </tr>\n",
       "  </thead>\n",
       "  <tbody>\n",
       "    <tr>\n",
       "      <th>0</th>\n",
       "      <td>49.99</td>\n",
       "      <td>1.22</td>\n",
       "      <td>16.15</td>\n",
       "      <td>9.28</td>\n",
       "      <td>8.18</td>\n",
       "    </tr>\n",
       "    <tr>\n",
       "      <th>1</th>\n",
       "      <td>45.74</td>\n",
       "      <td>1.11</td>\n",
       "      <td>14.18</td>\n",
       "      <td>16.63</td>\n",
       "      <td>7.10</td>\n",
       "    </tr>\n",
       "  </tbody>\n",
       "</table>\n",
       "</div>"
      ],
      "text/plain": [
       "    SiO2  TiO2  Al2O3    FeO   MgO\n",
       "0  49.99  1.22  16.15   9.28  8.18\n",
       "1  45.74  1.11  14.18  16.63  7.10"
      ]
     },
     "execution_count": 3,
     "metadata": {},
     "output_type": "execute_result"
    }
   ],
   "source": [
    "df.head(2).pyrochem.oxides"
   ]
  },
  {
   "cell_type": "code",
   "execution_count": 4,
   "metadata": {
    "slideshow": {
     "slide_type": "subslide"
    }
   },
   "outputs": [
    {
     "data": {
      "text/html": [
       "<div>\n",
       "<style scoped>\n",
       "    .dataframe tbody tr th:only-of-type {\n",
       "        vertical-align: middle;\n",
       "    }\n",
       "\n",
       "    .dataframe tbody tr th {\n",
       "        vertical-align: top;\n",
       "    }\n",
       "\n",
       "    .dataframe thead th {\n",
       "        text-align: right;\n",
       "    }\n",
       "</style>\n",
       "<table border=\"1\" class=\"dataframe\">\n",
       "  <thead>\n",
       "    <tr style=\"text-align: right;\">\n",
       "      <th></th>\n",
       "      <th>Ni</th>\n",
       "      <th>Cu</th>\n",
       "      <th>Cr</th>\n",
       "      <th>V</th>\n",
       "      <th>Zr</th>\n",
       "      <th>Pt</th>\n",
       "      <th>Pd</th>\n",
       "      <th>Th</th>\n",
       "      <th>Nb</th>\n",
       "      <th>La</th>\n",
       "      <th>...</th>\n",
       "      <th>Nd</th>\n",
       "      <th>Sm</th>\n",
       "      <th>Eu</th>\n",
       "      <th>Gd</th>\n",
       "      <th>Dy</th>\n",
       "      <th>Tb</th>\n",
       "      <th>Ho</th>\n",
       "      <th>Er</th>\n",
       "      <th>Tm</th>\n",
       "      <th>Yb</th>\n",
       "    </tr>\n",
       "  </thead>\n",
       "  <tbody>\n",
       "    <tr>\n",
       "      <th>0</th>\n",
       "      <td>126.14</td>\n",
       "      <td>97.19</td>\n",
       "      <td>310</td>\n",
       "      <td>271.45</td>\n",
       "      <td>66.06</td>\n",
       "      <td>NaN</td>\n",
       "      <td>NaN</td>\n",
       "      <td>1.65</td>\n",
       "      <td>2.99</td>\n",
       "      <td>8.65</td>\n",
       "      <td>...</td>\n",
       "      <td>12.33</td>\n",
       "      <td>2.68</td>\n",
       "      <td>1.18</td>\n",
       "      <td>3.23</td>\n",
       "      <td>3.40</td>\n",
       "      <td>0.59</td>\n",
       "      <td>0.79</td>\n",
       "      <td>2.17</td>\n",
       "      <td>NaN</td>\n",
       "      <td>2.13</td>\n",
       "    </tr>\n",
       "    <tr>\n",
       "      <th>1</th>\n",
       "      <td>80.66</td>\n",
       "      <td>70.46</td>\n",
       "      <td>378</td>\n",
       "      <td>244.10</td>\n",
       "      <td>85.44</td>\n",
       "      <td>NaN</td>\n",
       "      <td>NaN</td>\n",
       "      <td>0.83</td>\n",
       "      <td>3.33</td>\n",
       "      <td>9.86</td>\n",
       "      <td>...</td>\n",
       "      <td>13.74</td>\n",
       "      <td>3.71</td>\n",
       "      <td>1.24</td>\n",
       "      <td>4.14</td>\n",
       "      <td>4.27</td>\n",
       "      <td>0.66</td>\n",
       "      <td>0.97</td>\n",
       "      <td>2.53</td>\n",
       "      <td>NaN</td>\n",
       "      <td>2.45</td>\n",
       "    </tr>\n",
       "  </tbody>\n",
       "</table>\n",
       "<p>2 rows × 22 columns</p>\n",
       "</div>"
      ],
      "text/plain": [
       "       Ni     Cu   Cr       V     Zr  Pt  Pd    Th    Nb    La  ...     Nd  \\\n",
       "0  126.14  97.19  310  271.45  66.06 NaN NaN  1.65  2.99  8.65  ...  12.33   \n",
       "1   80.66  70.46  378  244.10  85.44 NaN NaN  0.83  3.33  9.86  ...  13.74   \n",
       "\n",
       "     Sm    Eu    Gd    Dy    Tb    Ho    Er  Tm    Yb  \n",
       "0  2.68  1.18  3.23  3.40  0.59  0.79  2.17 NaN  2.13  \n",
       "1  3.71  1.24  4.14  4.27  0.66  0.97  2.53 NaN  2.45  \n",
       "\n",
       "[2 rows x 22 columns]"
      ]
     },
     "execution_count": 4,
     "metadata": {},
     "output_type": "execute_result"
    }
   ],
   "source": [
    "df.head(2).pyrochem.elements"
   ]
  },
  {
   "cell_type": "code",
   "execution_count": 5,
   "metadata": {
    "slideshow": {
     "slide_type": "subslide"
    }
   },
   "outputs": [
    {
     "data": {
      "text/html": [
       "<div>\n",
       "<style scoped>\n",
       "    .dataframe tbody tr th:only-of-type {\n",
       "        vertical-align: middle;\n",
       "    }\n",
       "\n",
       "    .dataframe tbody tr th {\n",
       "        vertical-align: top;\n",
       "    }\n",
       "\n",
       "    .dataframe thead th {\n",
       "        text-align: right;\n",
       "    }\n",
       "</style>\n",
       "<table border=\"1\" class=\"dataframe\">\n",
       "  <thead>\n",
       "    <tr style=\"text-align: right;\">\n",
       "      <th></th>\n",
       "      <th>La</th>\n",
       "      <th>Ce</th>\n",
       "      <th>Pr</th>\n",
       "      <th>Nd</th>\n",
       "      <th>Sm</th>\n",
       "      <th>Eu</th>\n",
       "      <th>Gd</th>\n",
       "      <th>Tb</th>\n",
       "      <th>Dy</th>\n",
       "      <th>Ho</th>\n",
       "      <th>Er</th>\n",
       "      <th>Tm</th>\n",
       "      <th>Yb</th>\n",
       "    </tr>\n",
       "  </thead>\n",
       "  <tbody>\n",
       "    <tr>\n",
       "      <th>0</th>\n",
       "      <td>8.65</td>\n",
       "      <td>21.88</td>\n",
       "      <td>2.98</td>\n",
       "      <td>12.33</td>\n",
       "      <td>2.68</td>\n",
       "      <td>1.18</td>\n",
       "      <td>3.23</td>\n",
       "      <td>0.59</td>\n",
       "      <td>3.40</td>\n",
       "      <td>0.79</td>\n",
       "      <td>2.17</td>\n",
       "      <td>NaN</td>\n",
       "      <td>2.13</td>\n",
       "    </tr>\n",
       "    <tr>\n",
       "      <th>1</th>\n",
       "      <td>9.86</td>\n",
       "      <td>22.34</td>\n",
       "      <td>2.88</td>\n",
       "      <td>13.74</td>\n",
       "      <td>3.71</td>\n",
       "      <td>1.24</td>\n",
       "      <td>4.14</td>\n",
       "      <td>0.66</td>\n",
       "      <td>4.27</td>\n",
       "      <td>0.97</td>\n",
       "      <td>2.53</td>\n",
       "      <td>NaN</td>\n",
       "      <td>2.45</td>\n",
       "    </tr>\n",
       "  </tbody>\n",
       "</table>\n",
       "</div>"
      ],
      "text/plain": [
       "     La     Ce    Pr     Nd    Sm    Eu    Gd    Tb    Dy    Ho    Er  Tm  \\\n",
       "0  8.65  21.88  2.98  12.33  2.68  1.18  3.23  0.59  3.40  0.79  2.17 NaN   \n",
       "1  9.86  22.34  2.88  13.74  3.71  1.24  4.14  0.66  4.27  0.97  2.53 NaN   \n",
       "\n",
       "     Yb  \n",
       "0  2.13  \n",
       "1  2.45  "
      ]
     },
     "execution_count": 5,
     "metadata": {},
     "output_type": "execute_result"
    }
   ],
   "source": [
    "df.head(2).pyrochem.REE"
   ]
  },
  {
   "cell_type": "code",
   "execution_count": 6,
   "metadata": {
    "slideshow": {
     "slide_type": "subslide"
    }
   },
   "outputs": [
    {
     "data": {
      "text/html": [
       "<div>\n",
       "<style scoped>\n",
       "    .dataframe tbody tr th:only-of-type {\n",
       "        vertical-align: middle;\n",
       "    }\n",
       "\n",
       "    .dataframe tbody tr th {\n",
       "        vertical-align: top;\n",
       "    }\n",
       "\n",
       "    .dataframe thead th {\n",
       "        text-align: right;\n",
       "    }\n",
       "</style>\n",
       "<table border=\"1\" class=\"dataframe\">\n",
       "  <thead>\n",
       "    <tr style=\"text-align: right;\">\n",
       "      <th></th>\n",
       "      <th>Greenstone belt</th>\n",
       "      <th>Locality</th>\n",
       "      <th>Location1</th>\n",
       "      <th>FakeName</th>\n",
       "      <th>Location2</th>\n",
       "      <th>Sample</th>\n",
       "      <th>Mg#</th>\n",
       "      <th>Correction factor</th>\n",
       "      <th>S*</th>\n",
       "      <th>SiO2</th>\n",
       "      <th>...</th>\n",
       "      <th>Eu</th>\n",
       "      <th>Gd</th>\n",
       "      <th>Tb</th>\n",
       "      <th>Dy</th>\n",
       "      <th>Ho</th>\n",
       "      <th>Er</th>\n",
       "      <th>Tm</th>\n",
       "      <th>Yb</th>\n",
       "      <th>FeO</th>\n",
       "      <th>Fe2O3</th>\n",
       "    </tr>\n",
       "  </thead>\n",
       "  <tbody>\n",
       "    <tr>\n",
       "      <th>0</th>\n",
       "      <td>Albany-Fraser</td>\n",
       "      <td>GSWA-Albany-Fraser unassigned</td>\n",
       "      <td>Albany-Fraser</td>\n",
       "      <td>Norwegian Wood</td>\n",
       "      <td>NaN</td>\n",
       "      <td>GSWA-180722</td>\n",
       "      <td>58.15</td>\n",
       "      <td>1.032119</td>\n",
       "      <td>0.0</td>\n",
       "      <td>49.99</td>\n",
       "      <td>...</td>\n",
       "      <td>1.18</td>\n",
       "      <td>3.23</td>\n",
       "      <td>0.59</td>\n",
       "      <td>3.40</td>\n",
       "      <td>0.79</td>\n",
       "      <td>2.17</td>\n",
       "      <td>NaN</td>\n",
       "      <td>2.13</td>\n",
       "      <td>8.352</td>\n",
       "      <td>1.031331</td>\n",
       "    </tr>\n",
       "    <tr>\n",
       "      <th>1</th>\n",
       "      <td>Albany-Fraser</td>\n",
       "      <td>GSWA-Albany-Fraser unassigned</td>\n",
       "      <td>Albany-Fraser</td>\n",
       "      <td>Norwegian Wood</td>\n",
       "      <td>NaN</td>\n",
       "      <td>GSWA-182456</td>\n",
       "      <td>40.40</td>\n",
       "      <td>0.924631</td>\n",
       "      <td>0.0</td>\n",
       "      <td>45.74</td>\n",
       "      <td>...</td>\n",
       "      <td>1.24</td>\n",
       "      <td>4.14</td>\n",
       "      <td>0.66</td>\n",
       "      <td>4.27</td>\n",
       "      <td>0.97</td>\n",
       "      <td>2.53</td>\n",
       "      <td>NaN</td>\n",
       "      <td>2.45</td>\n",
       "      <td>14.967</td>\n",
       "      <td>1.848171</td>\n",
       "    </tr>\n",
       "  </tbody>\n",
       "</table>\n",
       "<p>2 rows × 29 columns</p>\n",
       "</div>"
      ],
      "text/plain": [
       "  Greenstone belt                       Locality      Location1  \\\n",
       "0   Albany-Fraser  GSWA-Albany-Fraser unassigned  Albany-Fraser   \n",
       "1   Albany-Fraser  GSWA-Albany-Fraser unassigned  Albany-Fraser   \n",
       "\n",
       "         FakeName Location2       Sample    Mg#  Correction factor   S*  \\\n",
       "0  Norwegian Wood       NaN  GSWA-180722  58.15           1.032119  0.0   \n",
       "1  Norwegian Wood       NaN  GSWA-182456  40.40           0.924631  0.0   \n",
       "\n",
       "    SiO2  ...    Eu    Gd    Tb    Dy    Ho    Er  Tm    Yb     FeO     Fe2O3  \n",
       "0  49.99  ...  1.18  3.23  0.59  3.40  0.79  2.17 NaN  2.13   8.352  1.031331  \n",
       "1  45.74  ...  1.24  4.14  0.66  4.27  0.97  2.53 NaN  2.45  14.967  1.848171  \n",
       "\n",
       "[2 rows x 29 columns]"
      ]
     },
     "execution_count": 6,
     "metadata": {},
     "output_type": "execute_result"
    }
   ],
   "source": [
    "lets_get = df.pyrochem.list_oxides + df.pyrochem.list_REE + [{\"FeO\": 0.9, \"Fe2O3\": 0.1}]\n",
    "df.head(2).pyrochem.convert_chemistry(to=lets_get)"
   ]
  },
  {
   "cell_type": "code",
   "execution_count": 7,
   "metadata": {
    "slideshow": {
     "slide_type": "subslide"
    }
   },
   "outputs": [
    {
     "data": {
      "text/html": [
       "<div>\n",
       "<style scoped>\n",
       "    .dataframe tbody tr th:only-of-type {\n",
       "        vertical-align: middle;\n",
       "    }\n",
       "\n",
       "    .dataframe tbody tr th {\n",
       "        vertical-align: top;\n",
       "    }\n",
       "\n",
       "    .dataframe thead th {\n",
       "        text-align: right;\n",
       "    }\n",
       "</style>\n",
       "<table border=\"1\" class=\"dataframe\">\n",
       "  <thead>\n",
       "    <tr style=\"text-align: right;\">\n",
       "      <th></th>\n",
       "      <th>Ni</th>\n",
       "      <th>NiO</th>\n",
       "      <th>La</th>\n",
       "      <th>La2O3</th>\n",
       "    </tr>\n",
       "  </thead>\n",
       "  <tbody>\n",
       "    <tr>\n",
       "      <th>0</th>\n",
       "      <td>126.14</td>\n",
       "      <td>160.524860</td>\n",
       "      <td>8.65</td>\n",
       "      <td>10.144485</td>\n",
       "    </tr>\n",
       "    <tr>\n",
       "      <th>1</th>\n",
       "      <td>80.66</td>\n",
       "      <td>102.647338</td>\n",
       "      <td>9.86</td>\n",
       "      <td>11.563540</td>\n",
       "    </tr>\n",
       "  </tbody>\n",
       "</table>\n",
       "</div>"
      ],
      "text/plain": [
       "       Ni         NiO    La      La2O3\n",
       "0  126.14  160.524860  8.65  10.144485\n",
       "1   80.66  102.647338  9.86  11.563540"
      ]
     },
     "execution_count": 7,
     "metadata": {},
     "output_type": "execute_result"
    }
   ],
   "source": [
    "cols = [\"Ni\", \"NiO\", \"La\", \"La2O3\"]\n",
    "df.head(2).pyrochem.convert_chemistry(to=cols)[cols]  # these are in ppm!"
   ]
  },
  {
   "cell_type": "code",
   "execution_count": 8,
   "metadata": {
    "slideshow": {
     "slide_type": "subslide"
    }
   },
   "outputs": [
    {
     "data": {
      "text/html": [
       "<div>\n",
       "<style scoped>\n",
       "    .dataframe tbody tr th:only-of-type {\n",
       "        vertical-align: middle;\n",
       "    }\n",
       "\n",
       "    .dataframe tbody tr th {\n",
       "        vertical-align: top;\n",
       "    }\n",
       "\n",
       "    .dataframe thead th {\n",
       "        text-align: right;\n",
       "    }\n",
       "</style>\n",
       "<table border=\"1\" class=\"dataframe\">\n",
       "  <thead>\n",
       "    <tr style=\"text-align: right;\">\n",
       "      <th></th>\n",
       "      <th>NiO</th>\n",
       "    </tr>\n",
       "  </thead>\n",
       "  <tbody>\n",
       "    <tr>\n",
       "      <th>0</th>\n",
       "      <td>0.016052</td>\n",
       "    </tr>\n",
       "    <tr>\n",
       "      <th>1</th>\n",
       "      <td>0.010265</td>\n",
       "    </tr>\n",
       "  </tbody>\n",
       "</table>\n",
       "</div>"
      ],
      "text/plain": [
       "        NiO\n",
       "0  0.016052\n",
       "1  0.010265"
      ]
     },
     "execution_count": 8,
     "metadata": {},
     "output_type": "execute_result"
    }
   ],
   "source": [
    "df[[\"Ni\"]].head(2).pyrochem.convert_chemistry(to=[\"NiO\"]).pyrochem.scale(\"ppm\", \"wt%\")"
   ]
  },
  {
   "cell_type": "code",
   "execution_count": 9,
   "metadata": {
    "slideshow": {
     "slide_type": "subslide"
    }
   },
   "outputs": [
    {
     "data": {
      "text/html": [
       "<div>\n",
       "<style scoped>\n",
       "    .dataframe tbody tr th:only-of-type {\n",
       "        vertical-align: middle;\n",
       "    }\n",
       "\n",
       "    .dataframe tbody tr th {\n",
       "        vertical-align: top;\n",
       "    }\n",
       "\n",
       "    .dataframe thead th {\n",
       "        text-align: right;\n",
       "    }\n",
       "</style>\n",
       "<table border=\"1\" class=\"dataframe\">\n",
       "  <thead>\n",
       "    <tr style=\"text-align: right;\">\n",
       "      <th></th>\n",
       "      <th>La</th>\n",
       "      <th>Ce</th>\n",
       "      <th>Pr</th>\n",
       "      <th>Nd</th>\n",
       "      <th>Sm</th>\n",
       "      <th>Eu</th>\n",
       "      <th>Gd</th>\n",
       "      <th>Tb</th>\n",
       "      <th>Dy</th>\n",
       "      <th>Ho</th>\n",
       "      <th>Er</th>\n",
       "      <th>Tm</th>\n",
       "      <th>Yb</th>\n",
       "    </tr>\n",
       "  </thead>\n",
       "  <tbody>\n",
       "    <tr>\n",
       "      <th>0</th>\n",
       "      <td>35.832643</td>\n",
       "      <td>35.324508</td>\n",
       "      <td>31.735889</td>\n",
       "      <td>26.029132</td>\n",
       "      <td>17.447917</td>\n",
       "      <td>20.057794</td>\n",
       "      <td>15.611406</td>\n",
       "      <td>15.538583</td>\n",
       "      <td>13.291634</td>\n",
       "      <td>13.997165</td>\n",
       "      <td>13.111782</td>\n",
       "      <td>NaN</td>\n",
       "      <td>12.625963</td>\n",
       "    </tr>\n",
       "    <tr>\n",
       "      <th>1</th>\n",
       "      <td>40.845070</td>\n",
       "      <td>36.067162</td>\n",
       "      <td>30.670927</td>\n",
       "      <td>29.005700</td>\n",
       "      <td>24.153646</td>\n",
       "      <td>21.077681</td>\n",
       "      <td>20.009667</td>\n",
       "      <td>17.382144</td>\n",
       "      <td>16.692729</td>\n",
       "      <td>17.186393</td>\n",
       "      <td>15.287009</td>\n",
       "      <td>NaN</td>\n",
       "      <td>14.522822</td>\n",
       "    </tr>\n",
       "  </tbody>\n",
       "</table>\n",
       "</div>"
      ],
      "text/plain": [
       "          La         Ce         Pr         Nd         Sm         Eu  \\\n",
       "0  35.832643  35.324508  31.735889  26.029132  17.447917  20.057794   \n",
       "1  40.845070  36.067162  30.670927  29.005700  24.153646  21.077681   \n",
       "\n",
       "          Gd         Tb         Dy         Ho         Er  Tm         Yb  \n",
       "0  15.611406  15.538583  13.291634  13.997165  13.111782 NaN  12.625963  \n",
       "1  20.009667  17.382144  16.692729  17.186393  15.287009 NaN  14.522822  "
      ]
     },
     "execution_count": 9,
     "metadata": {},
     "output_type": "execute_result"
    }
   ],
   "source": [
    "df.head(2).pyrochem.REE.pyrochem.normalize_to(\"Chondrite_PON\")"
   ]
  },
  {
   "cell_type": "code",
   "execution_count": 10,
   "metadata": {
    "slideshow": {
     "slide_type": "subslide"
    }
   },
   "outputs": [
    {
     "data": {
      "image/png": "[encoded data removed]",
      "text/plain": [
       "<Figure size 280.8x288 with 1 Axes>"
      ]
     },
     "metadata": {
      "needs_background": "light"
     },
     "output_type": "display_data"
    }
   ],
   "source": [
    "%matplotlib inline\n",
    "import pyrolite.plot\n",
    "\n",
    "ax = df.pyrochem.REE.pyrochem.normalize_to(\"Chondrite_PON\").pyroplot.spider(\n",
    "    unity_line=True, color=\"k\", alpha=0.02\n",
    ")\n",
    "ax.set_yscale(\"log\")"
   ]
  },
  {
   "cell_type": "code",
   "execution_count": 11,
   "metadata": {
    "slideshow": {
     "slide_type": "subslide"
    }
   },
   "outputs": [
    {
     "data": {
      "text/html": [
       "<div>\n",
       "<style scoped>\n",
       "    .dataframe tbody tr th:only-of-type {\n",
       "        vertical-align: middle;\n",
       "    }\n",
       "\n",
       "    .dataframe tbody tr th {\n",
       "        vertical-align: top;\n",
       "    }\n",
       "\n",
       "    .dataframe thead th {\n",
       "        text-align: right;\n",
       "    }\n",
       "</style>\n",
       "<table border=\"1\" class=\"dataframe\">\n",
       "  <thead>\n",
       "    <tr style=\"text-align: right;\">\n",
       "      <th></th>\n",
       "      <th>MgO</th>\n",
       "      <th>FeO</th>\n",
       "    </tr>\n",
       "  </thead>\n",
       "  <tbody>\n",
       "    <tr>\n",
       "      <th>0</th>\n",
       "      <td>0.202956</td>\n",
       "      <td>0.129168</td>\n",
       "    </tr>\n",
       "    <tr>\n",
       "      <th>1</th>\n",
       "      <td>0.176159</td>\n",
       "      <td>0.231472</td>\n",
       "    </tr>\n",
       "  </tbody>\n",
       "</table>\n",
       "</div>"
      ],
      "text/plain": [
       "        MgO       FeO\n",
       "0  0.202956  0.129168\n",
       "1  0.176159  0.231472"
      ]
     },
     "execution_count": 11,
     "metadata": {},
     "output_type": "execute_result"
    }
   ],
   "source": [
    "df.head(2)[[\"MgO\", \"FeO\"]].pyrochem.to_molecular(renorm=False)"
   ]
  },
  {
   "cell_type": "code",
   "execution_count": 12,
   "metadata": {
    "slideshow": {
     "slide_type": "subslide"
    }
   },
   "outputs": [
    {
     "data": {
      "text/html": [
       "<div>\n",
       "<style scoped>\n",
       "    .dataframe tbody tr th:only-of-type {\n",
       "        vertical-align: middle;\n",
       "    }\n",
       "\n",
       "    .dataframe tbody tr th {\n",
       "        vertical-align: top;\n",
       "    }\n",
       "\n",
       "    .dataframe thead th {\n",
       "        text-align: right;\n",
       "    }\n",
       "</style>\n",
       "<table border=\"1\" class=\"dataframe\">\n",
       "  <thead>\n",
       "    <tr style=\"text-align: right;\">\n",
       "      <th></th>\n",
       "      <th>MgO</th>\n",
       "      <th>FeO</th>\n",
       "      <th>Mg#</th>\n",
       "    </tr>\n",
       "  </thead>\n",
       "  <tbody>\n",
       "    <tr>\n",
       "      <th>0</th>\n",
       "      <td>8.18</td>\n",
       "      <td>9.28</td>\n",
       "      <td>0.611084</td>\n",
       "    </tr>\n",
       "    <tr>\n",
       "      <th>1</th>\n",
       "      <td>7.10</td>\n",
       "      <td>16.63</td>\n",
       "      <td>0.432153</td>\n",
       "    </tr>\n",
       "  </tbody>\n",
       "</table>\n",
       "</div>"
      ],
      "text/plain": [
       "    MgO    FeO       Mg#\n",
       "0  8.18   9.28  0.611084\n",
       "1  7.10  16.63  0.432153"
      ]
     },
     "execution_count": 12,
     "metadata": {},
     "output_type": "execute_result"
    }
   ],
   "source": [
    "df.head(2)[[\"MgO\", \"FeO\"]].pyrochem.add_MgNo()"
   ]
  },
  {
   "cell_type": "code",
   "execution_count": 13,
   "metadata": {
    "slideshow": {
     "slide_type": "subslide"
    }
   },
   "outputs": [
    {
     "data": {
      "text/html": [
       "<div>\n",
       "<style scoped>\n",
       "    .dataframe tbody tr th:only-of-type {\n",
       "        vertical-align: middle;\n",
       "    }\n",
       "\n",
       "    .dataframe tbody tr th {\n",
       "        vertical-align: top;\n",
       "    }\n",
       "\n",
       "    .dataframe thead th {\n",
       "        text-align: right;\n",
       "    }\n",
       "</style>\n",
       "<table border=\"1\" class=\"dataframe\">\n",
       "  <thead>\n",
       "    <tr style=\"text-align: right;\">\n",
       "      <th></th>\n",
       "      <th>Mg#</th>\n",
       "    </tr>\n",
       "  </thead>\n",
       "  <tbody>\n",
       "    <tr>\n",
       "      <th>0</th>\n",
       "      <td>58.15</td>\n",
       "    </tr>\n",
       "    <tr>\n",
       "      <th>1</th>\n",
       "      <td>40.40</td>\n",
       "    </tr>\n",
       "  </tbody>\n",
       "</table>\n",
       "</div>"
      ],
      "text/plain": [
       "     Mg#\n",
       "0  58.15\n",
       "1  40.40"
      ]
     },
     "execution_count": 13,
     "metadata": {},
     "output_type": "execute_result"
    }
   ],
   "source": [
    "df.head(2)[[\"Mg#\"]]"
   ]
  },
  {
   "cell_type": "code",
   "execution_count": 14,
   "metadata": {
    "slideshow": {
     "slide_type": "subslide"
    }
   },
   "outputs": [
    {
     "data": {
      "text/html": [
       "<div>\n",
       "<style scoped>\n",
       "    .dataframe tbody tr th:only-of-type {\n",
       "        vertical-align: middle;\n",
       "    }\n",
       "\n",
       "    .dataframe tbody tr th {\n",
       "        vertical-align: top;\n",
       "    }\n",
       "\n",
       "    .dataframe thead th {\n",
       "        text-align: right;\n",
       "    }\n",
       "</style>\n",
       "<table border=\"1\" class=\"dataframe\">\n",
       "  <thead>\n",
       "    <tr style=\"text-align: right;\">\n",
       "      <th></th>\n",
       "      <th>Greenstone belt</th>\n",
       "      <th>Locality</th>\n",
       "      <th>Location1</th>\n",
       "      <th>FakeName</th>\n",
       "      <th>Location2</th>\n",
       "      <th>Sample</th>\n",
       "      <th>SiO2</th>\n",
       "      <th>TiO2</th>\n",
       "      <th>Al2O3</th>\n",
       "      <th>FeO</th>\n",
       "      <th>...</th>\n",
       "      <th>Sm</th>\n",
       "      <th>Eu</th>\n",
       "      <th>Gd</th>\n",
       "      <th>Dy</th>\n",
       "      <th>Tb</th>\n",
       "      <th>Ho</th>\n",
       "      <th>Er</th>\n",
       "      <th>Tm</th>\n",
       "      <th>Yb</th>\n",
       "      <th>Ni/La</th>\n",
       "    </tr>\n",
       "  </thead>\n",
       "  <tbody>\n",
       "    <tr>\n",
       "      <th>0</th>\n",
       "      <td>Albany-Fraser</td>\n",
       "      <td>GSWA-Albany-Fraser unassigned</td>\n",
       "      <td>Albany-Fraser</td>\n",
       "      <td>Norwegian Wood</td>\n",
       "      <td>NaN</td>\n",
       "      <td>GSWA-180722</td>\n",
       "      <td>49.99</td>\n",
       "      <td>1.22</td>\n",
       "      <td>16.15</td>\n",
       "      <td>9.28</td>\n",
       "      <td>...</td>\n",
       "      <td>2.68</td>\n",
       "      <td>1.18</td>\n",
       "      <td>3.23</td>\n",
       "      <td>3.40</td>\n",
       "      <td>0.59</td>\n",
       "      <td>0.79</td>\n",
       "      <td>2.17</td>\n",
       "      <td>NaN</td>\n",
       "      <td>2.13</td>\n",
       "      <td>14.582659</td>\n",
       "    </tr>\n",
       "    <tr>\n",
       "      <th>1</th>\n",
       "      <td>Albany-Fraser</td>\n",
       "      <td>GSWA-Albany-Fraser unassigned</td>\n",
       "      <td>Albany-Fraser</td>\n",
       "      <td>Norwegian Wood</td>\n",
       "      <td>NaN</td>\n",
       "      <td>GSWA-182456</td>\n",
       "      <td>45.74</td>\n",
       "      <td>1.11</td>\n",
       "      <td>14.18</td>\n",
       "      <td>16.63</td>\n",
       "      <td>...</td>\n",
       "      <td>3.71</td>\n",
       "      <td>1.24</td>\n",
       "      <td>4.14</td>\n",
       "      <td>4.27</td>\n",
       "      <td>0.66</td>\n",
       "      <td>0.97</td>\n",
       "      <td>2.53</td>\n",
       "      <td>NaN</td>\n",
       "      <td>2.45</td>\n",
       "      <td>8.180527</td>\n",
       "    </tr>\n",
       "  </tbody>\n",
       "</table>\n",
       "<p>2 rows × 37 columns</p>\n",
       "</div>"
      ],
      "text/plain": [
       "  Greenstone belt                       Locality      Location1  \\\n",
       "0   Albany-Fraser  GSWA-Albany-Fraser unassigned  Albany-Fraser   \n",
       "1   Albany-Fraser  GSWA-Albany-Fraser unassigned  Albany-Fraser   \n",
       "\n",
       "         FakeName Location2       Sample   SiO2  TiO2  Al2O3    FeO  ...  \\\n",
       "0  Norwegian Wood       NaN  GSWA-180722  49.99  1.22  16.15   9.28  ...   \n",
       "1  Norwegian Wood       NaN  GSWA-182456  45.74  1.11  14.18  16.63  ...   \n",
       "\n",
       "     Sm    Eu    Gd    Dy    Tb    Ho    Er  Tm    Yb      Ni/La  \n",
       "0  2.68  1.18  3.23  3.40  0.59  0.79  2.17 NaN  2.13  14.582659  \n",
       "1  3.71  1.24  4.14  4.27  0.66  0.97  2.53 NaN  2.45   8.180527  \n",
       "\n",
       "[2 rows x 37 columns]"
      ]
     },
     "execution_count": 14,
     "metadata": {},
     "output_type": "execute_result"
    }
   ],
   "source": [
    "df.head(2).pyrochem.add_ratio(\"Ni/La\")"
   ]
  },
  {
   "cell_type": "code",
   "execution_count": 15,
   "metadata": {
    "slideshow": {
     "slide_type": "subslide"
    }
   },
   "outputs": [
    {
     "data": {
      "text/html": [
       "<div>\n",
       "<style scoped>\n",
       "    .dataframe tbody tr th:only-of-type {\n",
       "        vertical-align: middle;\n",
       "    }\n",
       "\n",
       "    .dataframe tbody tr th {\n",
       "        vertical-align: top;\n",
       "    }\n",
       "\n",
       "    .dataframe thead th {\n",
       "        text-align: right;\n",
       "    }\n",
       "</style>\n",
       "<table border=\"1\" class=\"dataframe\">\n",
       "  <thead>\n",
       "    <tr style=\"text-align: right;\">\n",
       "      <th></th>\n",
       "      <th>λ0</th>\n",
       "      <th>λ1</th>\n",
       "      <th>λ2</th>\n",
       "      <th>λ3</th>\n",
       "    </tr>\n",
       "  </thead>\n",
       "  <tbody>\n",
       "    <tr>\n",
       "      <th>0</th>\n",
       "      <td>2.952842</td>\n",
       "      <td>6.749698</td>\n",
       "      <td>29.489857</td>\n",
       "      <td>-283.968776</td>\n",
       "    </tr>\n",
       "    <tr>\n",
       "      <th>1</th>\n",
       "      <td>3.107822</td>\n",
       "      <td>5.885464</td>\n",
       "      <td>13.007349</td>\n",
       "      <td>-96.994295</td>\n",
       "    </tr>\n",
       "  </tbody>\n",
       "</table>\n",
       "</div>"
      ],
      "text/plain": [
       "         λ0        λ1         λ2          λ3\n",
       "0  2.952842  6.749698  29.489857 -283.968776\n",
       "1  3.107822  5.885464  13.007349  -96.994295"
      ]
     },
     "execution_count": 15,
     "metadata": {},
     "output_type": "execute_result"
    }
   ],
   "source": [
    "df.head(2).pyrochem.lambda_lnREE()"
   ]
  },
  {
   "cell_type": "markdown",
   "metadata": {
    "slideshow": {
     "slide_type": "slide"
    }
   },
   "source": [
    "Next: [Visualisation](2.2_pyroliteVis.ipynb)"
   ]
  }
 ],
 "metadata": {
  "celltoolbar": "Slideshow",
  "kernelspec": {
   "display_name": "Python 3",
   "language": "python",
   "name": "python3"
  },
  "language_info": {
   "codemirror_mode": {
    "name": "ipython",
    "version": 3
   },
   "file_extension": ".py",
   "mimetype": "text/x-python",
   "name": "python",
   "nbconvert_exporter": "python",
   "pygments_lexer": "ipython3",
   "version": "3.6.7"
  },
  "rise": {
   "autolaunch": true,
   "scroll": true,
   "theme": "solarized"
  }
 },
 "nbformat": 4,
 "nbformat_minor": 2
}
