{
 "cells": [
  {
   "cell_type": "markdown",
   "metadata": {
    "slideshow": {
     "slide_type": "slide"
    }
   },
   "source": [
    "# Introduction: Geochemical Data Analytics\n",
    "\n",
    "**Intro** [Start](0.0_StartHere.ipynb) • <mark>[Intro](1.1_Introduction.ipynb)</mark>\n",
    "<br> **pyrolite** [Geochem](2.1_pyroliteGeochem.ipynb) • [Visualisation](2.2_pyroliteVis.ipynb) • [alphaMELTS](2.3_pyroliteMELTS.ipynb) <br>  **Comparative Geochem**  [Databases, Data Mining and Deriving Context](3.1_ComparativeGeochemData.ipynb)<br>  **Machine Learning** [Intro](4.0_MachineLearning.ipynb) • [Features](4.1_Features.ipynb) • [Dimensional Reduction](4.2_DimReduction.ipynb) • [High-D Vis](4.3_HighDVis.ipynb) • [Classification](4.4_Classification.ipynb) • [Regression & Prediction](4.5_Regression.ipynb) • [Clustering](4.6_Clustering.ipynb) <br>  **GitHub** [geochem4nickel](https://github.com/morganjwilliams/geochem4nickel) • [pyrolite](https://github.com/morganjwilliams/pyrolite)\n",
    "\n",
    "#### <i class=\"fa fa-twitter\" aria-hidden=\"true\"><a href=\"https://twitter.com/metasomite\" style=\"font-family:Courier New,Courier,Lucida Sans Typewriter,Lucida Typewriter,monospace;\"> @metasomite</a></i>"
   ]
  },
  {
   "cell_type": "markdown",
   "metadata": {
    "slideshow": {
     "slide_type": "slide"
    }
   },
   "source": [
    "The introductory section covers:"
   ]
  },
  {
   "cell_type": "markdown",
   "metadata": {
    "slideshow": {
     "slide_type": "fragment"
    }
   },
   "source": [
    "* **Why?** Motivations behind the approach"
   ]
  },
  {
   "cell_type": "markdown",
   "metadata": {
    "slideshow": {
     "slide_type": "fragment"
    }
   },
   "source": [
    "* What does '**data driven**' mean?"
   ]
  },
  {
   "cell_type": "markdown",
   "metadata": {
    "slideshow": {
     "slide_type": "fragment"
    }
   },
   "source": [
    "* How can we derive **constraints on geology** from geochemical data?"
   ]
  },
  {
   "cell_type": "markdown",
   "metadata": {
    "slideshow": {
     "slide_type": "fragment"
    }
   },
   "source": [
    "* What are good **exploration-style questions** which we can work towards answering with this approach, and where will this be less useful?"
   ]
  },
  {
   "cell_type": "markdown",
   "metadata": {
    "slideshow": {
     "slide_type": "slide"
    }
   },
   "source": [
    "This section of the workshop will focus on geochemical data analysis tools, and particuarly taking a data science approach to geochemical problems. The latter part of this section will cover some tools and include some examples of applying this in practice."
   ]
  },
  {
   "cell_type": "markdown",
   "metadata": {
    "slideshow": {
     "slide_type": "slide"
    }
   },
   "source": [
    "## A Programmatic Approach to Geochemistry\n",
    "\n",
    "\n",
    "**Exectutive Summary**:\n",
    "* While some geochemists have numerical tendencies, it's not a common trait. \n",
    "* Gaining a few new skills and writing a bit of code could help you get more value out of your data.\n",
    "* It will take a bit of learning and won't happen overnight, but there's lots to gain (and I try to make it simple)"
   ]
  },
  {
   "cell_type": "markdown",
   "metadata": {
    "slideshow": {
     "slide_type": "subslide"
    }
   },
   "source": [
    "#### Is it worth the effort?"
   ]
  },
  {
   "cell_type": "markdown",
   "metadata": {
    "slideshow": {
     "slide_type": "subslide"
    }
   },
   "source": [
    "* We make less errors\n",
    "> \"One in five genetics papers contains errors thanks to Microsoft Excel\" [DOI:10. 1186/s13059-016-1044-7](https://doi.org/10.1186/s13059-016-1044-7)\n",
    "* Our analysis is repoducible\n",
    "* Codifying data analysis means that we can i) effectively 'version' the process and ii) identify errors after the fact"
   ]
  },
  {
   "cell_type": "markdown",
   "metadata": {
    "slideshow": {
     "slide_type": "subslide"
    }
   },
   "source": [
    "* Develop new tools, which you can integrate into your own workflows\n",
    "* Automate the repetitive work, and use analysis for decision support\n",
    "* We *can* become more productive"
   ]
  },
  {
   "cell_type": "markdown",
   "metadata": {
    "slideshow": {
     "slide_type": "subslide"
    }
   },
   "source": [
    "* We can better quanitfy uncertainty, and start to examine the confidence we should have in models\n",
    "* Easily iteratively test hypotheses and build better models\n",
    "* Can change how we see the system as a whole\n",
    "    * *e.g. beyond 2D and 3D diagrams to multidimensional analysis*"
   ]
  },
  {
   "cell_type": "markdown",
   "metadata": {
    "slideshow": {
     "slide_type": "fragment"
    }
   },
   "source": [
    "* **Changes the questions we ask**"
   ]
  },
  {
   "cell_type": "markdown",
   "metadata": {
    "slideshow": {
     "slide_type": "subslide"
    }
   },
   "source": [
    "Using open source software, and adopting open science practices:\n",
    "\n",
    "* Can socialise data, ideas, methods, code & analyses\n",
    "* Build in interoperability & flexibility\n",
    "* The repeatable paper: Share your data & analysis\n",
    "* Build a community and develop consensus on **best practice** in a new era of geoscience"
   ]
  },
  {
   "cell_type": "markdown",
   "metadata": {
    "slideshow": {
     "slide_type": "slide"
    }
   },
   "source": [
    "# Data Driven Understanding from Geochemistry"
   ]
  },
  {
   "cell_type": "markdown",
   "metadata": {
    "slideshow": {
     "slide_type": "subslide"
    }
   },
   "source": [
    "### Data driven?\n",
    "\n",
    "> Understanding derived from the data itself, rather than our idea of what the data represents\n",
    "\n",
    "Geochemists love classifying, binning and 'butterfly collecting', but how many of these divisions make sense in the natural world? For example, consider the TAS diagram. A data driven approach instead considers divisons according to the natural clustering of data (where it exists)."
   ]
  },
  {
   "cell_type": "markdown",
   "metadata": {
    "slideshow": {
     "slide_type": "subslide"
    }
   },
   "source": [
    "### Quantifying Geochemical Context\n",
    "\n",
    "Context is particularly important for geochemistry, as it's often expressed in relative terms. It's most useful when you have something else to compare it to."
   ]
  },
  {
   "cell_type": "markdown",
   "metadata": {
    "slideshow": {
     "slide_type": "fragment"
    }
   },
   "source": [
    "* We discuss 'enrichement' and 'depletion', relative to some reference point."
   ]
  },
  {
   "cell_type": "markdown",
   "metadata": {
    "slideshow": {
     "slide_type": "fragment"
    }
   },
   "source": [
    "* We normalise trace element chemistry to 'chondrite', 'primitive mantle' or 'MORB' to visualse the *relative* effects of geological processes\n",
    "    * *'Let's ignore the effects of nucleosynthesis and planet formation for now..'*"
   ]
  },
  {
   "cell_type": "markdown",
   "metadata": {
    "slideshow": {
     "slide_type": "fragment"
    }
   },
   "source": [
    "* We use the term 'signature' to refer to the affinity or 'flavour' of geochemical compositions (e.g. MORB, E-MORB, N-MORB, 'Chondritic')"
   ]
  },
  {
   "cell_type": "markdown",
   "metadata": {
    "slideshow": {
     "slide_type": "subslide"
    }
   },
   "source": [
    "What we infer based on our geochemistry is commonly based on local changes (e.g. alteration haloes) or similarity to some reference composition (e.g. basalts with 'ocean island basalt signatures'). In both of these instances, we express geochemistry relative to some reference point, but the relationship between our data and these reference compositions could often be better quantified. "
   ]
  },
  {
   "cell_type": "markdown",
   "metadata": {
    "slideshow": {
     "slide_type": "subslide"
    }
   },
   "source": [
    "To highlight some of these issues, consider the second case, which is related to the problem of tectonic discrmination (to be found later in the practical section):\n",
    "* What is an 'ocean island basalt signature'?\n",
    "    * *Ocean island basalts have a range of compositions, do you take the average? Median?*\n",
    "    * *How close does it have to be to have an 'ocean island basalt signature'?*\n",
    "* What if it also has an 'oceanic plateau' like signature?\n",
    "    * *What's the probability that this is an ocean island basalt?*\n",
    "    * *With what confidence can you say that this is an ocean island basalt, and not an oceanic plateau?*\n",
    "    * *If you had analysed more elements, would you have the same confidence in the 'OIB signature'?*"
   ]
  },
  {
   "cell_type": "markdown",
   "metadata": {
    "slideshow": {
     "slide_type": "slide"
    }
   },
   "source": [
    "Key points:\n",
    "* Our reference points are often distributions\n",
    "* Classification is not often straightforward\n",
    "* Some of these issues are due to examining a limited set of components"
   ]
  },
  {
   "cell_type": "markdown",
   "metadata": {
    "slideshow": {
     "slide_type": "subslide"
    }
   },
   "source": [
    "### Beyond Three Dimensions: Multidimensional Analysis\n",
    "\n",
    "One of the historical limitations for geochemical classificaiton and regression problems has been that of the need to graphically represent data in 2D.\n",
    "\n",
    "Extending some of these same approaches to use multidimensional geochemical data analysis can overcome previous limitations and inaccuracies."
   ]
  },
  {
   "cell_type": "markdown",
   "metadata": {
    "slideshow": {
     "slide_type": "subslide"
    }
   },
   "source": [
    "### How do you like your geochemical data distributed..?\n",
    "\n",
    "Acknowledging the log-normally distributed nature of geochemical data can help account for some spurious correlation."
   ]
  },
  {
   "cell_type": "markdown",
   "metadata": {
    "slideshow": {
     "slide_type": "slide"
    }
   },
   "source": [
    "# Data Science Applied to Geochemical Exploration Questions"
   ]
  },
  {
   "cell_type": "markdown",
   "metadata": {
    "slideshow": {
     "slide_type": "subslide"
    }
   },
   "source": [
    "* Is something new/novel?\n",
    "    * Is this enriched/depleted? Relative to what?\n",
    "    * What setting did this form in?\n",
    "    * What rocks are most similar to X?\n",
    "    * Which chemical signatures are associated with mineralisation?\n",
    "    * Which features provide the most valuable information? At what scale?\n",
    "    * What does this distribution mean?"
   ]
  },
  {
   "cell_type": "markdown",
   "metadata": {
    "slideshow": {
     "slide_type": "slide"
    }
   },
   "source": [
    "Next: [pyrolite: Python for Geochemistry](2.1_pyroliteGeochem.ipynb)"
   ]
  }
 ],
 "metadata": {
  "celltoolbar": "Slideshow",
  "kernelspec": {
   "display_name": "Python 3",
   "language": "python",
   "name": "python3"
  },
  "language_info": {
   "codemirror_mode": {
    "name": "ipython",
    "version": 3
   },
   "file_extension": ".py",
   "mimetype": "text/x-python",
   "name": "python",
   "nbconvert_exporter": "python",
   "pygments_lexer": "ipython3",
   "version": "3.6.7"
  },
  "rise": {
   "autolaunch": true,
   "scroll": true,
   "theme": "solarized"
  }
 },
 "nbformat": 4,
 "nbformat_minor": 2
}
