{
 "cells": [
  {
   "cell_type": "markdown",
   "metadata": {
    "slideshow": {
     "slide_type": "slide"
    }
   },
   "source": [
    "# Geochemical Data Analytics\n",
    "\n",
    "<img src=\"https://pyrolite.readthedocs.io/en/develop/_static/icon.png\" width=\"30%\" style=\"display:inline;float: right; margin: 0px 15px 15px 0px;\"/>\n",
    "\n",
    "\n",
    "**Intro** [Start](0.0_StartHere.ipynb) • <mark>[Intro](1.1_Introduction.ipynb)</mark>\n",
    "<br> **pyrolite** [Geochem](2.1_pyroliteGeochem.ipynb) • [Visualisation](2.2_pyroliteVis.ipynb) • [alphaMELTS](2.3_pyroliteMELTS.ipynb) • [lambdas](2.4_lambdas.ipynb) <br> **Machine Learning** [Intro](4.0_MachineLearning.ipynb) • [Features](4.1_Features.ipynb)• [High-D Vis](4.3_HighDVis.ipynb) • [Classification](4.4_Classification.ipynb) <br>  **GitHub** [geochem4nickel](https://github.com/morganjwilliams/geochem4nickel) • [pyrolite](https://github.com/morganjwilliams/pyrolite)\n",
    "\n",
    "\n",
    "#### <i class=\"fa fa-twitter\" aria-hidden=\"true\"><a href=\"https://twitter.com/metasomite\" style=\"font-family:Courier New,Courier,Lucida Sans Typewriter,Lucida Typewriter,monospace;\"> @metasomite</a></i>\n"
   ]
  },
  {
   "cell_type": "markdown",
   "metadata": {
    "slideshow": {
     "slide_type": "slide"
    }
   },
   "source": [
    "This section of the workshop will focus on taking a data science approach to geochemical problems. The latter part of this section will cover some tools and include some examples of applying this in practice."
   ]
  },
  {
   "cell_type": "markdown",
   "metadata": {
    "slideshow": {
     "slide_type": "fragment"
    }
   },
   "source": [
    "1. Data Driven Understanding\n",
    "1. Adopting a Programmatic Approach\n",
    "1. Data Sources and Data Mining\n",
    "1. An Example: Machine Tectonic Discrimination\n",
    "1. pyrolite"
   ]
  },
  {
   "cell_type": "markdown",
   "metadata": {
    "slideshow": {
     "slide_type": "slide"
    }
   },
   "source": [
    "## Data Driven Understanding from Geochemistry"
   ]
  },
  {
   "cell_type": "markdown",
   "metadata": {
    "slideshow": {
     "slide_type": "subslide"
    }
   },
   "source": [
    "### Data driven?\n",
    "\n",
    "> Understanding derived from the data itself, <br>rather than our idea of what the data represents.\n",
    "\n",
    "Geochemists love classifying, binning and 'butterfly collecting', but how many of these divisions make sense in the natural world (e.g. consider the Total Alkali - Silica diagram)? \n",
    "\n",
    "A data driven approach instead considers divisons according to the natural clustering of data, where they exist."
   ]
  },
  {
   "cell_type": "markdown",
   "metadata": {
    "slideshow": {
     "slide_type": "subslide"
    }
   },
   "source": [
    "### Data Science in Exploration Geochemistry\n",
    "\n",
    "Interpretation is required to understand the why and how, but there are many practical questions to ask of an exploration dataset:\n",
    "\n",
    "* Is this more enriched/depleted in Y than expected?\n",
    "* What rocks are most similar to X?\n",
    "* Which chemical signatures are associated with mineralisation?\n",
    "* Which features provide the most valuable information for prediction? At what scale?\n",
    "* What setting did this form in?\n"
   ]
  },
  {
   "cell_type": "markdown",
   "metadata": {
    "slideshow": {
     "slide_type": "subslide"
    }
   },
   "source": [
    "### Quantifying Geochemical Context\n",
    "\n",
    "Context is particularly important for geochemistry, as it's often expressed in relative terms. It's most useful when you have something else to compare it to."
   ]
  },
  {
   "cell_type": "markdown",
   "metadata": {
    "slideshow": {
     "slide_type": "subslide"
    }
   },
   "source": [
    "* We discuss 'enrichement' and 'depletion', relative to some reference point."
   ]
  },
  {
   "cell_type": "markdown",
   "metadata": {
    "slideshow": {
     "slide_type": "fragment"
    }
   },
   "source": [
    "* We normalise trace element chemistry to 'chondrite', 'primitive mantle' or 'MORB' to visualise the *relative* effects of geological processes\n",
    "    * *'Let's ignore the effects of nucleosynthesis and planet formation for now..'*"
   ]
  },
  {
   "cell_type": "markdown",
   "metadata": {
    "slideshow": {
     "slide_type": "fragment"
    }
   },
   "source": [
    "* We use the term 'signature' to refer to the affinity or 'flavour' of geochemical compositions (e.g. MORB, E-MORB, N-MORB, 'Chondritic')"
   ]
  },
  {
   "cell_type": "markdown",
   "metadata": {
    "slideshow": {
     "slide_type": "subslide"
    }
   },
   "source": [
    "What we infer based on our geochemistry is commonly based on:\n",
    "* local changes or gradients (e.g. alteration haloes, mineral zoning),  or\n",
    "* similarity to some reference composition (e.g. basalts with 'ocean island basalt signatures'). \n",
    "\n",
    "In both of these instances, we express geochemistry relative to some reference point, but the relationship between our data and these reference compositions could often be better quantified. "
   ]
  },
  {
   "cell_type": "markdown",
   "metadata": {
    "slideshow": {
     "slide_type": "subslide"
    }
   },
   "source": [
    "To highlight some of these issues, consider the second case, which is related to the problem of tectonic discrimination (which will come up a bit later):"
   ]
  },
  {
   "cell_type": "markdown",
   "metadata": {
    "slideshow": {
     "slide_type": "subslide"
    }
   },
   "source": [
    "* What is an 'ocean island basalt signature'?\n",
    "    * *Ocean island basalts have a range of compositions, do you take the average? Median?*\n",
    "    * *How close does it have to be to have an 'ocean island basalt signature'?*"
   ]
  },
  {
   "cell_type": "markdown",
   "metadata": {
    "slideshow": {
     "slide_type": "subslide"
    }
   },
   "source": [
    "* What if it also has an 'oceanic plateau' like signature?\n",
    "    * *What's the probability that this is an ocean island basalt?*\n",
    "    * *With what confidence can you say that this is an ocean island basalt, and not an oceanic plateau?*\n",
    "    * *If you had analysed more elements, would you have the same confidence in the 'OIB signature'?*"
   ]
  },
  {
   "cell_type": "markdown",
   "metadata": {
    "slideshow": {
     "slide_type": "subslide"
    }
   },
   "source": [
    "### Beyond Three Dimensions: Multidimensional Analysis\n",
    "\n",
    "One of the historical limitations for geochemical classificaiton and regression problems has been the need to graphically represent data in 2D.\n",
    "\n",
    "\n",
    "Multidimensional geochemical data analysis can overcome previous human-centric limitations and inaccuracies."
   ]
  },
  {
   "cell_type": "markdown",
   "metadata": {
    "slideshow": {
     "slide_type": "subslide"
    }
   },
   "source": [
    "#### Trace Element Discrimination Diagrams\n",
    "\n",
    "* Pearce's Th-Yb-Nb diagram offers some insight into the issues with using 2D classification schemes.\n",
    "\n",
    "<div class=\"row\">\n",
    "<div class=\"column\">\n",
    "    <img src=\"../img/Smithies2018Fig1.png\" width=\"30%\" style=\"float: left; margin: 0px 15px 15px 0px;\"/>\n",
    "    </div>\n",
    "<div class=\"column\">\n",
    "    <img src=\"../img/Li2015Fig9.png\" width=\"30%\" style=\"float: left; margin: 0px 15px 15px 0px;\"/>\n",
    "    </div>\n",
    "</div> "
   ]
  },
  {
   "cell_type": "markdown",
   "metadata": {
    "slideshow": {
     "slide_type": "subslide"
    }
   },
   "source": [
    "* The significant degree of overlap in these two dimensions between different tectonic settings renders this approach futile for generalised discrimination.\n",
    "\n",
    "Figures from [Smithies (2018)] after [Pearce (2008)], and [Li et al. (2015)]).\n",
    "\n",
    "[Li et al. (2015)]: https://doi.org/10.1016/j.lithos.2015.06.022 \"Li, C., Arndt, N.T., Tang, Q., Ripley, E.M., 2015. Trace element indiscrimination diagrams. Lithos 232, 76–83. \"\n",
    "\n",
    "[Smithies (2018)]: https://doi.org/10.1016/j.epsl.2018.01.034 \"Smithies, R.H., Ivanic, T.J., Lowrey, J.R., Morris, P.A., Barnes, S.J., Wyche, S., Lu, Y.-J., 2018. Two distinct origins for Archean greenstone belts. Earth and Planetary Science Letters 487, 106–116.\"\n",
    "\n",
    "[Pearce (2008)]: https://doi.org/10.1016/j.lithos.2007.06.016 \"Pearce, J.A., 2008. Geochemical fingerprinting of oceanic basalts with applications to ophiolite classification and the search for Archean oceanic crust. Lithos 100, 14–48.\""
   ]
  },
  {
   "cell_type": "markdown",
   "metadata": {
    "slideshow": {
     "slide_type": "subslide"
    }
   },
   "source": [
    "### Summary\n",
    "\n",
    "* Our reference points are often distributions\n",
    "* Classification is not often straightforward\n",
    "* Some of these issues are due to examining a limited set of components"
   ]
  },
  {
   "cell_type": "markdown",
   "metadata": {
    "slideshow": {
     "slide_type": "slide"
    }
   },
   "source": [
    "## Adopting a Programmatic Approach"
   ]
  },
  {
   "cell_type": "markdown",
   "metadata": {
    "slideshow": {
     "slide_type": "subslide"
    }
   },
   "source": [
    "### Is it worth the effort?"
   ]
  },
  {
   "cell_type": "markdown",
   "metadata": {
    "slideshow": {
     "slide_type": "subslide"
    }
   },
   "source": [
    "* We make less errors\n",
    "> \"One in five genetics papers contains errors thanks to Microsoft Excel\" [DOI:10. 1186/s13059-016-1044-7](https://doi.org/10.1186/s13059-016-1044-7)\n",
    "\n",
    "* Using a code-based approach to data analysis means that we can\n",
    "    * effectively 'version' the process and \n",
    "    * identify errors after the fact\n",
    "    \n",
    "* Our analysis is reproducible"
   ]
  },
  {
   "cell_type": "markdown",
   "metadata": {
    "slideshow": {
     "slide_type": "subslide"
    }
   },
   "source": [
    "* Develop new tools, which you can integrate into your own workflows\n",
    "* Automate the repetitive work, and use analysis for decision support\n",
    "* We *can* become more productive"
   ]
  },
  {
   "cell_type": "markdown",
   "metadata": {
    "slideshow": {
     "slide_type": "subslide"
    }
   },
   "source": [
    "* We can better quantify uncertainty\n",
    "* We can quantify how well our data support our models\n",
    "* Iterative testing and model development\n",
    "* Can change how we see the system as a whole\n",
    "    * *e.g. beyond 2D and 3D diagrams to multidimensional analysis*"
   ]
  },
  {
   "cell_type": "markdown",
   "metadata": {
    "slideshow": {
     "slide_type": "fragment"
    }
   },
   "source": [
    "* **Changes the questions we ask**"
   ]
  },
  {
   "cell_type": "markdown",
   "metadata": {
    "slideshow": {
     "slide_type": "subslide"
    }
   },
   "source": [
    "Using open source software, and adopting open science practices:\n",
    "\n",
    "* Can socialise data, ideas, methods, code and analyses\n",
    "* The repeatable paper: share your data and analysis\n",
    "* Build in interoperability and flexibility (open data formats, common standards)\n",
    "* Build a community and develop consensus on **best practice** in a new era of geoscience"
   ]
  },
  {
   "cell_type": "markdown",
   "metadata": {
    "slideshow": {
     "slide_type": "slide"
    }
   },
   "source": [
    "### Summary \n",
    "\n",
    "* Gaining a few new skills and writing a bit of code could help you get more value out of your data.\n",
    "* It will take a bit of learning and won't happen overnight, but there's lots to gain."
   ]
  },
  {
   "cell_type": "markdown",
   "metadata": {
    "slideshow": {
     "slide_type": "slide"
    }
   },
   "source": [
    "## Data Sources and Data Mining"
   ]
  },
  {
   "cell_type": "code",
   "execution_count": null,
   "metadata": {
    "slideshow": {
     "slide_type": "subslide"
    }
   },
   "outputs": [],
   "source": []
  },
  {
   "cell_type": "code",
   "execution_count": null,
   "metadata": {
    "slideshow": {
     "slide_type": "subslide"
    }
   },
   "outputs": [],
   "source": []
  },
  {
   "cell_type": "markdown",
   "metadata": {
    "slideshow": {
     "slide_type": "slide"
    }
   },
   "source": [
    "<img src=\"../img/ClassifierComparison.png\" width=\"50%\" style=\"display:inline;float: right; margin: 0px 15px 15px 0px;\"/>\n",
    "\n",
    "## Example: Machine Classification\n",
    "\n",
    "Machine clasification models used for tectonic discrimination using bulk-rock geochemical data include support vector classifiers, random forests and sparse multinomial regression ([Petrelli2016], [Ueki2018]). Here we'll rebuild one of the support vector classifiers.\n",
    "\n",
    "\n",
    "\n",
    "[Petrelli2016]: https://doi.org/10.1007/s00410-016-1292-2 \"Petrelli, M., Perugini, D., 2016. Solving petrological problems through machine learning: the study case of tectonic discrimination using geochemical and isotopic data. Contrib Mineral Petrol 171, 81.\"\n",
    "[Ueki2018]: https://doi.org/10.1029/2017GC007401 \"Ueki, K., Hino, H., Kuwatani, T., 2018. Geochemical Discrimination and Characteristics of Magmatic Tectonic Settings: A Machine-Learning-Based Approach. Geochemistry, Geophysics, Geosystems 19, 1327–1347.\""
   ]
  },
  {
   "cell_type": "code",
   "execution_count": 27,
   "metadata": {
    "slideshow": {
     "slide_type": "subslide"
    }
   },
   "outputs": [],
   "source": [
    "%matplotlib inline\n",
    "import numpy as np\n",
    "import pandas as pd\n",
    "import matplotlib.pyplot as plt"
   ]
  },
  {
   "cell_type": "code",
   "execution_count": 28,
   "metadata": {
    "slideshow": {
     "slide_type": "subslide"
    }
   },
   "outputs": [],
   "source": [
    "from sklearn.svm import SVC\n",
    "from sklearn.linear_model import LogisticRegression\n",
    "from sklearn.ensemble import RandomForestClassifier\n",
    "from sklearn.preprocessing import StandardScaler\n",
    "from sklearn.model_selection import train_test_split\n",
    "from sklearn.pipeline import make_pipeline\n",
    "\n",
    "# could also use imblearn.pipleline.make_pipeline"
   ]
  },
  {
   "cell_type": "code",
   "execution_count": 29,
   "metadata": {
    "slideshow": {
     "slide_type": "subslide"
    }
   },
   "outputs": [],
   "source": [
    "from pyrolite.geochem.ind import common_elements, common_oxides\n",
    "\n",
    "from pyrolite.util.skl.vis import plot_confusion_matrix\n",
    "from pyrolite.util.skl.pipeline import SVC_pipeline, PdUnion\n",
    "from pyrolite.util.skl.select import CompositionalSelector\n",
    "from pyrolite.util.skl.transform import CLRTransform, LinearTransform"
   ]
  },
  {
   "cell_type": "markdown",
   "metadata": {
    "slideshow": {
     "slide_type": "subslide"
    }
   },
   "source": [
    "Here we'll use the 29-dimension tectonic discrimination dataset (majors, minors, traces and isotopes) from Ueki et al. (2018), modified to list the specific tectonic setting in a 'Class' column. \n",
    "\n",
    "Tectonic setting classes are as follows:  BAB: Back Arc Basin, CA: Continental Arc, CFB: Continental Flood Basalt, IA: Island Arc, IOA: Intra-oceanic Arc, MOR: Mid-Ocean Ridge, OI: Ocean Island, OP: Oceanic Plateau."
   ]
  },
  {
   "cell_type": "code",
   "execution_count": 30,
   "metadata": {},
   "outputs": [
    {
     "data": {
      "text/plain": [
       "['CA', 'IA', 'IOA', 'BAB', 'CFB', 'MOR', 'OP', 'OI']"
      ]
     },
     "execution_count": 30,
     "metadata": {},
     "output_type": "execute_result"
    }
   ],
   "source": [
    "df = pd.read_csv(\"https://storage.googleapis.com/aegc2019/ueki2018.csv\")\n",
    "\n",
    "abundances = df.pyrochem.list_compositional\n",
    "isotopes = [\n",
    "    i for i in df.columns if i != \"Class\" and i not in df.pyrochem.list_compositional\n",
    "]\n",
    "\n",
    "classes = list(df.Class.unique())\n",
    "classes"
   ]
  },
  {
   "cell_type": "markdown",
   "metadata": {
    "slideshow": {
     "slide_type": "subslide"
    }
   },
   "source": [
    "To make this dataset suitable for use to train a classifier, let's first split the features from the true classes and then scale the training data such that each column falls in the range \\\\([-1, 1]\\\\). "
   ]
  },
  {
   "cell_type": "code",
   "execution_count": 31,
   "metadata": {
    "slideshow": {
     "slide_type": "fragment"
    }
   },
   "outputs": [],
   "source": [
    "X, y = df.loc[:, abundances + isotopes], df[\"Class\"]"
   ]
  },
  {
   "cell_type": "code",
   "execution_count": 32,
   "metadata": {
    "slideshow": {
     "slide_type": "fragment"
    }
   },
   "outputs": [],
   "source": [
    "scaler = StandardScaler()\n",
    "X_ = scaler.fit_transform(X)"
   ]
  },
  {
   "cell_type": "markdown",
   "metadata": {
    "slideshow": {
     "slide_type": "subslide"
    }
   },
   "source": [
    "To assess the performance of our classifier, we'll need to hold back an independent subset of the data for testing purposes. Here we reserve 30% of the data for testing, and ensure that it will proportionately contain data for each of our classes."
   ]
  },
  {
   "cell_type": "code",
   "execution_count": 33,
   "metadata": {
    "slideshow": {
     "slide_type": "fragment"
    }
   },
   "outputs": [],
   "source": [
    "X_train, X_test, y_train, y_test = train_test_split(X_, y, stratify=y, test_size=0.3)"
   ]
  },
  {
   "cell_type": "markdown",
   "metadata": {
    "slideshow": {
     "slide_type": "subslide"
    }
   },
   "source": [
    "Now we can train a simple classifier:"
   ]
  },
  {
   "cell_type": "code",
   "execution_count": 37,
   "metadata": {
    "slideshow": {
     "slide_type": "fragment"
    }
   },
   "outputs": [
    {
     "data": {
      "text/plain": [
       "SVC(C=1.0, cache_size=200, class_weight=None, coef0=0.0,\n",
       "  decision_function_shape='ovr', degree=3, gamma='auto_deprecated',\n",
       "  kernel='rbf', max_iter=-1, probability=False, random_state=None,\n",
       "  shrinking=True, tol=0.001, verbose=False)"
      ]
     },
     "execution_count": 37,
     "metadata": {},
     "output_type": "execute_result"
    }
   ],
   "source": [
    "clf = SVC()\n",
    "clf.fit(X_train, y_train)"
   ]
  },
  {
   "cell_type": "code",
   "execution_count": 35,
   "metadata": {
    "slideshow": {
     "slide_type": "fragment"
    }
   },
   "outputs": [
    {
     "data": {
      "text/plain": [
       "'Overall Accuracy: 88.8%'"
      ]
     },
     "execution_count": 35,
     "metadata": {},
     "output_type": "execute_result"
    }
   ],
   "source": [
    "svcscore = clf.score(X_test, y_test)\n",
    "\"Overall Accuracy: {:.1f}%\".format(svcscore * 100)"
   ]
  },
  {
   "cell_type": "code",
   "execution_count": 36,
   "metadata": {
    "slideshow": {
     "slide_type": "subslide"
    }
   },
   "outputs": [
    {
     "data": {
      "text/plain": [
       "<matplotlib.axes._subplots.AxesSubplot at 0x189dc3eeef0>"
      ]
     },
     "execution_count": 36,
     "metadata": {},
     "output_type": "execute_result"
    },
    {
     "data": {
      "image/png": "[encoded data removed]",
      "text/plain": [
       "<Figure size 432x288 with 2 Axes>"
      ]
     },
     "metadata": {
      "needs_background": "light"
     },
     "output_type": "display_data"
    }
   ],
   "source": [
    "plot_confusion_matrix(clf, X_test, y_test, normalize=True, classes=classes)"
   ]
  },
  {
   "cell_type": "code",
   "execution_count": 21,
   "metadata": {
    "slideshow": {
     "slide_type": "subslide"
    }
   },
   "outputs": [],
   "source": [
    "preprocessor = PdUnion(\n",
    "    [\n",
    "        make_pipeline(CompositionalSelector(), CLRTransform()),\n",
    "        make_pipeline(CompositionalSelector(inverse=True), LinearTransform()),\n",
    "    ]\n",
    ")\n",
    "XX_ = StandardScaler().fit_transform(preprocessor.fit_transform(X))"
   ]
  },
  {
   "cell_type": "code",
   "execution_count": 22,
   "metadata": {
    "slideshow": {
     "slide_type": "subslide"
    }
   },
   "outputs": [],
   "source": [
    "XX_train, XX_test, yy_train, yy_test = train_test_split(\n",
    "    XX_, y, stratify=y, test_size=0.3\n",
    ")"
   ]
  },
  {
   "cell_type": "markdown",
   "metadata": {
    "slideshow": {
     "slide_type": "slide"
    }
   },
   "source": [
    "Now we can build an optimised classifier, in this case using a pipeline constructor from pyrolite:"
   ]
  },
  {
   "cell_type": "code",
   "execution_count": 23,
   "metadata": {
    "slideshow": {
     "slide_type": "subslide"
    }
   },
   "outputs": [
    {
     "name": "stdout",
     "output_type": "stream",
     "text": [
      "Fitting 10 folds for each of 25 candidates, totalling 250 fits\n"
     ]
    },
    {
     "name": "stderr",
     "output_type": "stream",
     "text": [
      "[Parallel(n_jobs=4)]: Using backend LokyBackend with 4 concurrent workers.\n",
      "[Parallel(n_jobs=4)]: Done  42 tasks      | elapsed:    8.9s\n",
      "[Parallel(n_jobs=4)]: Done 192 tasks      | elapsed:   23.6s\n",
      "[Parallel(n_jobs=4)]: Done 250 out of 250 | elapsed:   29.1s finished\n"
     ]
    },
    {
     "data": {
      "text/plain": [
       "GridSearchCV(cv=StratifiedKFold(n_splits=10, random_state=None, shuffle=True),\n",
       "       error_score='raise-deprecating',\n",
       "       estimator=Pipeline(memory=None,\n",
       "     steps=[('svc', SVC(C=1.0, cache_size=500, class_weight='balanced', coef0=0.0,\n",
       "  decision_function_shape='ovo', degree=3, gamma='scale', kernel='rbf',\n",
       "  max_iter=-1, probability=True, random_state=None, shrinking=True,\n",
       "  tol=0.001, verbose=False))]),\n",
       "       fit_params=None, iid='warn', n_jobs=4,\n",
       "       param_grid={'svc__gamma': array([0.00501, 0.01155, 0.02661, 0.06131, 0.14125]), 'svc__C': array([  0.31623,   1.33352,   5.62341,  23.71374, 100.     ])},\n",
       "       pre_dispatch='2*n_jobs', refit=True, return_train_score='warn',\n",
       "       scoring=None, verbose=1)"
      ]
     },
     "execution_count": 23,
     "metadata": {},
     "output_type": "execute_result"
    }
   ],
   "source": [
    "gs = SVC_pipeline(\n",
    "    verbose=1,\n",
    "    probability=True,\n",
    "    param_grid=dict(\n",
    "        svc__gamma=np.logspace(-2.3, -0.85, 5),\n",
    "        svc__C=np.logspace(-0.5, 2, 5),  # limit C parameter to avoid overfitting\n",
    "    ),\n",
    ")\n",
    "gs.fit(XX_train, yy_train)"
   ]
  },
  {
   "cell_type": "code",
   "execution_count": 24,
   "metadata": {
    "slideshow": {
     "slide_type": "subslide"
    }
   },
   "outputs": [
    {
     "data": {
      "text/plain": [
       "'Overall Accuracy: 93.9%'"
      ]
     },
     "execution_count": 24,
     "metadata": {},
     "output_type": "execute_result"
    }
   ],
   "source": [
    "svcgsscore = gs.best_estimator_.score(XX_test, yy_test)\n",
    "\"Overall Accuracy: {:.1f}%\".format(svcgsscore*100)"
   ]
  },
  {
   "cell_type": "code",
   "execution_count": 25,
   "metadata": {
    "slideshow": {
     "slide_type": "subslide"
    }
   },
   "outputs": [
    {
     "data": {
      "image/png": "[encoded data removed]",
      "text/plain": [
       "<Figure size 432x288 with 2 Axes>"
      ]
     },
     "metadata": {
      "needs_background": "light"
     },
     "output_type": "display_data"
    }
   ],
   "source": [
    "plot_confusion_matrix(\n",
    "    gs.best_estimator_, XX_test, yy_test, normalize=True\n",
    ");"
   ]
  },
  {
   "cell_type": "code",
   "execution_count": 38,
   "metadata": {
    "slideshow": {
     "slide_type": "subslide"
    }
   },
   "outputs": [
    {
     "data": {
      "text/html": [
       "<style  type=\"text/css\" >\n",
       "    #T_f695b910_f674_11e9_b88b_00216ae618aarow0_col1 {\n",
       "            background-color:  #f3f8fe;\n",
       "            color:  #000000;\n",
       "        }    #T_f695b910_f674_11e9_b88b_00216ae618aarow0_col2 {\n",
       "            background-color:  #f7fbff;\n",
       "            color:  #000000;\n",
       "        }    #T_f695b910_f674_11e9_b88b_00216ae618aarow0_col3 {\n",
       "            background-color:  #f7fbff;\n",
       "            color:  #000000;\n",
       "        }    #T_f695b910_f674_11e9_b88b_00216ae618aarow0_col4 {\n",
       "            background-color:  #ecf4fb;\n",
       "            color:  #000000;\n",
       "        }    #T_f695b910_f674_11e9_b88b_00216ae618aarow0_col5 {\n",
       "            background-color:  #f7fbff;\n",
       "            color:  #000000;\n",
       "        }    #T_f695b910_f674_11e9_b88b_00216ae618aarow0_col6 {\n",
       "            background-color:  #08306b;\n",
       "            color:  #f1f1f1;\n",
       "        }    #T_f695b910_f674_11e9_b88b_00216ae618aarow0_col7 {\n",
       "            background-color:  #f4f9fe;\n",
       "            color:  #000000;\n",
       "        }    #T_f695b910_f674_11e9_b88b_00216ae618aarow0_col8 {\n",
       "            background-color:  #f6faff;\n",
       "            color:  #000000;\n",
       "        }    #T_f695b910_f674_11e9_b88b_00216ae618aarow1_col1 {\n",
       "            background-color:  #f7fbff;\n",
       "            color:  #000000;\n",
       "        }    #T_f695b910_f674_11e9_b88b_00216ae618aarow1_col2 {\n",
       "            background-color:  #f7fbff;\n",
       "            color:  #000000;\n",
       "        }    #T_f695b910_f674_11e9_b88b_00216ae618aarow1_col3 {\n",
       "            background-color:  #f7fbff;\n",
       "            color:  #000000;\n",
       "        }    #T_f695b910_f674_11e9_b88b_00216ae618aarow1_col4 {\n",
       "            background-color:  #dceaf6;\n",
       "            color:  #000000;\n",
       "        }    #T_f695b910_f674_11e9_b88b_00216ae618aarow1_col5 {\n",
       "            background-color:  #f7fbff;\n",
       "            color:  #000000;\n",
       "        }    #T_f695b910_f674_11e9_b88b_00216ae618aarow1_col6 {\n",
       "            background-color:  #f7fbff;\n",
       "            color:  #000000;\n",
       "        }    #T_f695b910_f674_11e9_b88b_00216ae618aarow1_col7 {\n",
       "            background-color:  #08306b;\n",
       "            color:  #f1f1f1;\n",
       "        }    #T_f695b910_f674_11e9_b88b_00216ae618aarow1_col8 {\n",
       "            background-color:  #f7fbff;\n",
       "            color:  #000000;\n",
       "        }    #T_f695b910_f674_11e9_b88b_00216ae618aarow2_col1 {\n",
       "            background-color:  #f7fbff;\n",
       "            color:  #000000;\n",
       "        }    #T_f695b910_f674_11e9_b88b_00216ae618aarow2_col2 {\n",
       "            background-color:  #f7fbff;\n",
       "            color:  #000000;\n",
       "        }    #T_f695b910_f674_11e9_b88b_00216ae618aarow2_col3 {\n",
       "            background-color:  #f7fbff;\n",
       "            color:  #000000;\n",
       "        }    #T_f695b910_f674_11e9_b88b_00216ae618aarow2_col4 {\n",
       "            background-color:  #f7fbff;\n",
       "            color:  #000000;\n",
       "        }    #T_f695b910_f674_11e9_b88b_00216ae618aarow2_col5 {\n",
       "            background-color:  #08306b;\n",
       "            color:  #f1f1f1;\n",
       "        }    #T_f695b910_f674_11e9_b88b_00216ae618aarow2_col6 {\n",
       "            background-color:  #f7fbff;\n",
       "            color:  #000000;\n",
       "        }    #T_f695b910_f674_11e9_b88b_00216ae618aarow2_col7 {\n",
       "            background-color:  #f7fbff;\n",
       "            color:  #000000;\n",
       "        }    #T_f695b910_f674_11e9_b88b_00216ae618aarow2_col8 {\n",
       "            background-color:  #eaf3fb;\n",
       "            color:  #000000;\n",
       "        }    #T_f695b910_f674_11e9_b88b_00216ae618aarow3_col1 {\n",
       "            background-color:  #f7fbff;\n",
       "            color:  #000000;\n",
       "        }    #T_f695b910_f674_11e9_b88b_00216ae618aarow3_col2 {\n",
       "            background-color:  #f7fbff;\n",
       "            color:  #000000;\n",
       "        }    #T_f695b910_f674_11e9_b88b_00216ae618aarow3_col3 {\n",
       "            background-color:  #f7fbff;\n",
       "            color:  #000000;\n",
       "        }    #T_f695b910_f674_11e9_b88b_00216ae618aarow3_col4 {\n",
       "            background-color:  #f7fbff;\n",
       "            color:  #000000;\n",
       "        }    #T_f695b910_f674_11e9_b88b_00216ae618aarow3_col5 {\n",
       "            background-color:  #08306b;\n",
       "            color:  #f1f1f1;\n",
       "        }    #T_f695b910_f674_11e9_b88b_00216ae618aarow3_col6 {\n",
       "            background-color:  #f7fbff;\n",
       "            color:  #000000;\n",
       "        }    #T_f695b910_f674_11e9_b88b_00216ae618aarow3_col7 {\n",
       "            background-color:  #f7fbff;\n",
       "            color:  #000000;\n",
       "        }    #T_f695b910_f674_11e9_b88b_00216ae618aarow3_col8 {\n",
       "            background-color:  #f5f9fe;\n",
       "            color:  #000000;\n",
       "        }    #T_f695b910_f674_11e9_b88b_00216ae618aarow4_col1 {\n",
       "            background-color:  #08306b;\n",
       "            color:  #f1f1f1;\n",
       "        }    #T_f695b910_f674_11e9_b88b_00216ae618aarow4_col2 {\n",
       "            background-color:  #f7fbff;\n",
       "            color:  #000000;\n",
       "        }    #T_f695b910_f674_11e9_b88b_00216ae618aarow4_col3 {\n",
       "            background-color:  #f7fbff;\n",
       "            color:  #000000;\n",
       "        }    #T_f695b910_f674_11e9_b88b_00216ae618aarow4_col4 {\n",
       "            background-color:  #f7fbff;\n",
       "            color:  #000000;\n",
       "        }    #T_f695b910_f674_11e9_b88b_00216ae618aarow4_col5 {\n",
       "            background-color:  #f7fbff;\n",
       "            color:  #000000;\n",
       "        }    #T_f695b910_f674_11e9_b88b_00216ae618aarow4_col6 {\n",
       "            background-color:  #f4f9fe;\n",
       "            color:  #000000;\n",
       "        }    #T_f695b910_f674_11e9_b88b_00216ae618aarow4_col7 {\n",
       "            background-color:  #f7fbff;\n",
       "            color:  #000000;\n",
       "        }    #T_f695b910_f674_11e9_b88b_00216ae618aarow4_col8 {\n",
       "            background-color:  #f7fbff;\n",
       "            color:  #000000;\n",
       "        }    #T_f695b910_f674_11e9_b88b_00216ae618aarow5_col1 {\n",
       "            background-color:  #f7fbff;\n",
       "            color:  #000000;\n",
       "        }    #T_f695b910_f674_11e9_b88b_00216ae618aarow5_col2 {\n",
       "            background-color:  #f7fbff;\n",
       "            color:  #000000;\n",
       "        }    #T_f695b910_f674_11e9_b88b_00216ae618aarow5_col3 {\n",
       "            background-color:  #f7fbff;\n",
       "            color:  #000000;\n",
       "        }    #T_f695b910_f674_11e9_b88b_00216ae618aarow5_col4 {\n",
       "            background-color:  #f2f7fd;\n",
       "            color:  #000000;\n",
       "        }    #T_f695b910_f674_11e9_b88b_00216ae618aarow5_col5 {\n",
       "            background-color:  #f7fbff;\n",
       "            color:  #000000;\n",
       "        }    #T_f695b910_f674_11e9_b88b_00216ae618aarow5_col6 {\n",
       "            background-color:  #f7fbff;\n",
       "            color:  #000000;\n",
       "        }    #T_f695b910_f674_11e9_b88b_00216ae618aarow5_col7 {\n",
       "            background-color:  #08306b;\n",
       "            color:  #f1f1f1;\n",
       "        }    #T_f695b910_f674_11e9_b88b_00216ae618aarow5_col8 {\n",
       "            background-color:  #f5f9fe;\n",
       "            color:  #000000;\n",
       "        }    #T_f695b910_f674_11e9_b88b_00216ae618aarow6_col1 {\n",
       "            background-color:  #f7fbff;\n",
       "            color:  #000000;\n",
       "        }    #T_f695b910_f674_11e9_b88b_00216ae618aarow6_col2 {\n",
       "            background-color:  #08306b;\n",
       "            color:  #f1f1f1;\n",
       "        }    #T_f695b910_f674_11e9_b88b_00216ae618aarow6_col3 {\n",
       "            background-color:  #f7fbff;\n",
       "            color:  #000000;\n",
       "        }    #T_f695b910_f674_11e9_b88b_00216ae618aarow6_col4 {\n",
       "            background-color:  #f7fbff;\n",
       "            color:  #000000;\n",
       "        }    #T_f695b910_f674_11e9_b88b_00216ae618aarow6_col5 {\n",
       "            background-color:  #f7fbff;\n",
       "            color:  #000000;\n",
       "        }    #T_f695b910_f674_11e9_b88b_00216ae618aarow6_col6 {\n",
       "            background-color:  #f7fbff;\n",
       "            color:  #000000;\n",
       "        }    #T_f695b910_f674_11e9_b88b_00216ae618aarow6_col7 {\n",
       "            background-color:  #f5fafe;\n",
       "            color:  #000000;\n",
       "        }    #T_f695b910_f674_11e9_b88b_00216ae618aarow6_col8 {\n",
       "            background-color:  #f7fbff;\n",
       "            color:  #000000;\n",
       "        }    #T_f695b910_f674_11e9_b88b_00216ae618aarow7_col1 {\n",
       "            background-color:  #f7fbff;\n",
       "            color:  #000000;\n",
       "        }    #T_f695b910_f674_11e9_b88b_00216ae618aarow7_col2 {\n",
       "            background-color:  #f7fbff;\n",
       "            color:  #000000;\n",
       "        }    #T_f695b910_f674_11e9_b88b_00216ae618aarow7_col3 {\n",
       "            background-color:  #f7fbff;\n",
       "            color:  #000000;\n",
       "        }    #T_f695b910_f674_11e9_b88b_00216ae618aarow7_col4 {\n",
       "            background-color:  #f7fbff;\n",
       "            color:  #000000;\n",
       "        }    #T_f695b910_f674_11e9_b88b_00216ae618aarow7_col5 {\n",
       "            background-color:  #f7fbff;\n",
       "            color:  #000000;\n",
       "        }    #T_f695b910_f674_11e9_b88b_00216ae618aarow7_col6 {\n",
       "            background-color:  #f7fbff;\n",
       "            color:  #000000;\n",
       "        }    #T_f695b910_f674_11e9_b88b_00216ae618aarow7_col7 {\n",
       "            background-color:  #08306b;\n",
       "            color:  #f1f1f1;\n",
       "        }    #T_f695b910_f674_11e9_b88b_00216ae618aarow7_col8 {\n",
       "            background-color:  #f7fbff;\n",
       "            color:  #000000;\n",
       "        }</style><table id=\"T_f695b910_f674_11e9_b88b_00216ae618aa\" ><thead>    <tr>        <th class=\"blank level0\" ></th>        <th class=\"col_heading level0 col0\" >Expect</th>        <th class=\"col_heading level0 col1\" >OP</th>        <th class=\"col_heading level0 col2\" >OI</th>        <th class=\"col_heading level0 col3\" >MOR</th>        <th class=\"col_heading level0 col4\" >IOA</th>        <th class=\"col_heading level0 col5\" >IA</th>        <th class=\"col_heading level0 col6\" >CFB</th>        <th class=\"col_heading level0 col7\" >CA</th>        <th class=\"col_heading level0 col8\" >BAB</th>    </tr></thead><tbody>\n",
       "                <tr>\n",
       "                        <th id=\"T_f695b910_f674_11e9_b88b_00216ae618aalevel0_row0\" class=\"row_heading level0 row0\" >0</th>\n",
       "                        <td id=\"T_f695b910_f674_11e9_b88b_00216ae618aarow0_col0\" class=\"data row0 col0\" >CFB</td>\n",
       "                        <td id=\"T_f695b910_f674_11e9_b88b_00216ae618aarow0_col1\" class=\"data row0 col1\" >2.34</td>\n",
       "                        <td id=\"T_f695b910_f674_11e9_b88b_00216ae618aarow0_col2\" class=\"data row0 col2\" >0.57</td>\n",
       "                        <td id=\"T_f695b910_f674_11e9_b88b_00216ae618aarow0_col3\" class=\"data row0 col3\" >0.48</td>\n",
       "                        <td id=\"T_f695b910_f674_11e9_b88b_00216ae618aarow0_col4\" class=\"data row0 col4\" >5.38</td>\n",
       "                        <td id=\"T_f695b910_f674_11e9_b88b_00216ae618aarow0_col5\" class=\"data row0 col5\" >0.7</td>\n",
       "                        <td id=\"T_f695b910_f674_11e9_b88b_00216ae618aarow0_col6\" class=\"data row0 col6\" >87.6</td>\n",
       "                        <td id=\"T_f695b910_f674_11e9_b88b_00216ae618aarow0_col7\" class=\"data row0 col7\" >1.91</td>\n",
       "                        <td id=\"T_f695b910_f674_11e9_b88b_00216ae618aarow0_col8\" class=\"data row0 col8\" >1.01</td>\n",
       "            </tr>\n",
       "            <tr>\n",
       "                        <th id=\"T_f695b910_f674_11e9_b88b_00216ae618aalevel0_row1\" class=\"row_heading level0 row1\" >1</th>\n",
       "                        <td id=\"T_f695b910_f674_11e9_b88b_00216ae618aarow1_col0\" class=\"data row1 col0\" >CA</td>\n",
       "                        <td id=\"T_f695b910_f674_11e9_b88b_00216ae618aarow1_col1\" class=\"data row1 col1\" >0.02</td>\n",
       "                        <td id=\"T_f695b910_f674_11e9_b88b_00216ae618aarow1_col2\" class=\"data row1 col2\" >0</td>\n",
       "                        <td id=\"T_f695b910_f674_11e9_b88b_00216ae618aarow1_col3\" class=\"data row1 col3\" >0</td>\n",
       "                        <td id=\"T_f695b910_f674_11e9_b88b_00216ae618aarow1_col4\" class=\"data row1 col4\" >11.92</td>\n",
       "                        <td id=\"T_f695b910_f674_11e9_b88b_00216ae618aarow1_col5\" class=\"data row1 col5\" >0.09</td>\n",
       "                        <td id=\"T_f695b910_f674_11e9_b88b_00216ae618aarow1_col6\" class=\"data row1 col6\" >0.01</td>\n",
       "                        <td id=\"T_f695b910_f674_11e9_b88b_00216ae618aarow1_col7\" class=\"data row1 col7\" >87.83</td>\n",
       "                        <td id=\"T_f695b910_f674_11e9_b88b_00216ae618aarow1_col8\" class=\"data row1 col8\" >0.13</td>\n",
       "            </tr>\n",
       "            <tr>\n",
       "                        <th id=\"T_f695b910_f674_11e9_b88b_00216ae618aalevel0_row2\" class=\"row_heading level0 row2\" >2</th>\n",
       "                        <td id=\"T_f695b910_f674_11e9_b88b_00216ae618aarow2_col0\" class=\"data row2 col0\" >IA</td>\n",
       "                        <td id=\"T_f695b910_f674_11e9_b88b_00216ae618aarow2_col1\" class=\"data row2 col1\" >0.1</td>\n",
       "                        <td id=\"T_f695b910_f674_11e9_b88b_00216ae618aarow2_col2\" class=\"data row2 col2\" >0.04</td>\n",
       "                        <td id=\"T_f695b910_f674_11e9_b88b_00216ae618aarow2_col3\" class=\"data row2 col3\" >0.06</td>\n",
       "                        <td id=\"T_f695b910_f674_11e9_b88b_00216ae618aarow2_col4\" class=\"data row2 col4\" >0.2</td>\n",
       "                        <td id=\"T_f695b910_f674_11e9_b88b_00216ae618aarow2_col5\" class=\"data row2 col5\" >93.18</td>\n",
       "                        <td id=\"T_f695b910_f674_11e9_b88b_00216ae618aarow2_col6\" class=\"data row2 col6\" >0.23</td>\n",
       "                        <td id=\"T_f695b910_f674_11e9_b88b_00216ae618aarow2_col7\" class=\"data row2 col7\" >0.11</td>\n",
       "                        <td id=\"T_f695b910_f674_11e9_b88b_00216ae618aarow2_col8\" class=\"data row2 col8\" >6.09</td>\n",
       "            </tr>\n",
       "            <tr>\n",
       "                        <th id=\"T_f695b910_f674_11e9_b88b_00216ae618aalevel0_row3\" class=\"row_heading level0 row3\" >3</th>\n",
       "                        <td id=\"T_f695b910_f674_11e9_b88b_00216ae618aarow3_col0\" class=\"data row3 col0\" >IA</td>\n",
       "                        <td id=\"T_f695b910_f674_11e9_b88b_00216ae618aarow3_col1\" class=\"data row3 col1\" >0.05</td>\n",
       "                        <td id=\"T_f695b910_f674_11e9_b88b_00216ae618aarow3_col2\" class=\"data row3 col2\" >0.02</td>\n",
       "                        <td id=\"T_f695b910_f674_11e9_b88b_00216ae618aarow3_col3\" class=\"data row3 col3\" >0.03</td>\n",
       "                        <td id=\"T_f695b910_f674_11e9_b88b_00216ae618aarow3_col4\" class=\"data row3 col4\" >0.04</td>\n",
       "                        <td id=\"T_f695b910_f674_11e9_b88b_00216ae618aarow3_col5\" class=\"data row3 col5\" >98.27</td>\n",
       "                        <td id=\"T_f695b910_f674_11e9_b88b_00216ae618aarow3_col6\" class=\"data row3 col6\" >0.09</td>\n",
       "                        <td id=\"T_f695b910_f674_11e9_b88b_00216ae618aarow3_col7\" class=\"data row3 col7\" >0.07</td>\n",
       "                        <td id=\"T_f695b910_f674_11e9_b88b_00216ae618aarow3_col8\" class=\"data row3 col8\" >1.43</td>\n",
       "            </tr>\n",
       "            <tr>\n",
       "                        <th id=\"T_f695b910_f674_11e9_b88b_00216ae618aalevel0_row4\" class=\"row_heading level0 row4\" >4</th>\n",
       "                        <td id=\"T_f695b910_f674_11e9_b88b_00216ae618aarow4_col0\" class=\"data row4 col0\" >OP</td>\n",
       "                        <td id=\"T_f695b910_f674_11e9_b88b_00216ae618aarow4_col1\" class=\"data row4 col1\" >96.67</td>\n",
       "                        <td id=\"T_f695b910_f674_11e9_b88b_00216ae618aarow4_col2\" class=\"data row4 col2\" >0.17</td>\n",
       "                        <td id=\"T_f695b910_f674_11e9_b88b_00216ae618aarow4_col3\" class=\"data row4 col3\" >0.19</td>\n",
       "                        <td id=\"T_f695b910_f674_11e9_b88b_00216ae618aarow4_col4\" class=\"data row4 col4\" >0.23</td>\n",
       "                        <td id=\"T_f695b910_f674_11e9_b88b_00216ae618aarow4_col5\" class=\"data row4 col5\" >0.33</td>\n",
       "                        <td id=\"T_f695b910_f674_11e9_b88b_00216ae618aarow4_col6\" class=\"data row4 col6\" >1.88</td>\n",
       "                        <td id=\"T_f695b910_f674_11e9_b88b_00216ae618aarow4_col7\" class=\"data row4 col7\" >0.23</td>\n",
       "                        <td id=\"T_f695b910_f674_11e9_b88b_00216ae618aarow4_col8\" class=\"data row4 col8\" >0.29</td>\n",
       "            </tr>\n",
       "            <tr>\n",
       "                        <th id=\"T_f695b910_f674_11e9_b88b_00216ae618aalevel0_row5\" class=\"row_heading level0 row5\" >5</th>\n",
       "                        <td id=\"T_f695b910_f674_11e9_b88b_00216ae618aarow5_col0\" class=\"data row5 col0\" >CA</td>\n",
       "                        <td id=\"T_f695b910_f674_11e9_b88b_00216ae618aarow5_col1\" class=\"data row5 col1\" >0.05</td>\n",
       "                        <td id=\"T_f695b910_f674_11e9_b88b_00216ae618aarow5_col2\" class=\"data row5 col2\" >0.02</td>\n",
       "                        <td id=\"T_f695b910_f674_11e9_b88b_00216ae618aarow5_col3\" class=\"data row5 col3\" >0.07</td>\n",
       "                        <td id=\"T_f695b910_f674_11e9_b88b_00216ae618aarow5_col4\" class=\"data row5 col4\" >2.76</td>\n",
       "                        <td id=\"T_f695b910_f674_11e9_b88b_00216ae618aarow5_col5\" class=\"data row5 col5\" >0.19</td>\n",
       "                        <td id=\"T_f695b910_f674_11e9_b88b_00216ae618aarow5_col6\" class=\"data row5 col6\" >0.38</td>\n",
       "                        <td id=\"T_f695b910_f674_11e9_b88b_00216ae618aarow5_col7\" class=\"data row5 col7\" >95.02</td>\n",
       "                        <td id=\"T_f695b910_f674_11e9_b88b_00216ae618aarow5_col8\" class=\"data row5 col8\" >1.49</td>\n",
       "            </tr>\n",
       "            <tr>\n",
       "                        <th id=\"T_f695b910_f674_11e9_b88b_00216ae618aalevel0_row6\" class=\"row_heading level0 row6\" >6</th>\n",
       "                        <td id=\"T_f695b910_f674_11e9_b88b_00216ae618aarow6_col0\" class=\"data row6 col0\" >OI</td>\n",
       "                        <td id=\"T_f695b910_f674_11e9_b88b_00216ae618aarow6_col1\" class=\"data row6 col1\" >0.07</td>\n",
       "                        <td id=\"T_f695b910_f674_11e9_b88b_00216ae618aarow6_col2\" class=\"data row6 col2\" >97.68</td>\n",
       "                        <td id=\"T_f695b910_f674_11e9_b88b_00216ae618aarow6_col3\" class=\"data row6 col3\" >0.38</td>\n",
       "                        <td id=\"T_f695b910_f674_11e9_b88b_00216ae618aarow6_col4\" class=\"data row6 col4\" >0.3</td>\n",
       "                        <td id=\"T_f695b910_f674_11e9_b88b_00216ae618aarow6_col5\" class=\"data row6 col5\" >0.08</td>\n",
       "                        <td id=\"T_f695b910_f674_11e9_b88b_00216ae618aarow6_col6\" class=\"data row6 col6\" >0.13</td>\n",
       "                        <td id=\"T_f695b910_f674_11e9_b88b_00216ae618aarow6_col7\" class=\"data row6 col7\" >1.21</td>\n",
       "                        <td id=\"T_f695b910_f674_11e9_b88b_00216ae618aarow6_col8\" class=\"data row6 col8\" >0.15</td>\n",
       "            </tr>\n",
       "            <tr>\n",
       "                        <th id=\"T_f695b910_f674_11e9_b88b_00216ae618aalevel0_row7\" class=\"row_heading level0 row7\" >7</th>\n",
       "                        <td id=\"T_f695b910_f674_11e9_b88b_00216ae618aarow7_col0\" class=\"data row7 col0\" >CA</td>\n",
       "                        <td id=\"T_f695b910_f674_11e9_b88b_00216ae618aarow7_col1\" class=\"data row7 col1\" >0.01</td>\n",
       "                        <td id=\"T_f695b910_f674_11e9_b88b_00216ae618aarow7_col2\" class=\"data row7 col2\" >0</td>\n",
       "                        <td id=\"T_f695b910_f674_11e9_b88b_00216ae618aarow7_col3\" class=\"data row7 col3\" >0</td>\n",
       "                        <td id=\"T_f695b910_f674_11e9_b88b_00216ae618aarow7_col4\" class=\"data row7 col4\" >0.18</td>\n",
       "                        <td id=\"T_f695b910_f674_11e9_b88b_00216ae618aarow7_col5\" class=\"data row7 col5\" >0</td>\n",
       "                        <td id=\"T_f695b910_f674_11e9_b88b_00216ae618aarow7_col6\" class=\"data row7 col6\" >0.01</td>\n",
       "                        <td id=\"T_f695b910_f674_11e9_b88b_00216ae618aarow7_col7\" class=\"data row7 col7\" >99.81</td>\n",
       "                        <td id=\"T_f695b910_f674_11e9_b88b_00216ae618aarow7_col8\" class=\"data row7 col8\" >0</td>\n",
       "            </tr>\n",
       "    </tbody></table>"
      ],
      "text/plain": [
       "<pandas.io.formats.style.Styler at 0x189dc290128>"
      ]
     },
     "execution_count": 38,
     "metadata": {},
     "output_type": "execute_result"
    }
   ],
   "source": [
    "probs = (\n",
    "    pd.DataFrame(\n",
    "        data=gs.best_estimator_.predict_proba(XX_test[:8]),\n",
    "        columns=gs.best_estimator_.classes_,  \n",
    "    )\n",
    "    * 100\n",
    ")\n",
    "probs[\"Expect\"] = yy_test[:8].tolist()\n",
    "table = probs[probs.columns[::-1]].round(2)\n",
    "table.style.background_gradient(cmap=\"Blues\", axis=1)"
   ]
  },
  {
   "cell_type": "markdown",
   "metadata": {
    "slideshow": {
     "slide_type": "slide"
    }
   },
   "source": [
    "Next: [pyrolite: Python for Geochemistry](2.1_pyroliteGeochem.ipynb)"
   ]
  },
  {
   "cell_type": "markdown",
   "metadata": {
    "slideshow": {
     "slide_type": "notes"
    }
   },
   "source": [
    "Specificity - Also - could you be sure someone else means the same thing?\n",
    "\n",
    "Repeatability - Would someone else come to the same conclusion?"
   ]
  },
  {
   "cell_type": "markdown",
   "metadata": {
    "slideshow": {
     "slide_type": "notes"
    }
   },
   "source": [
    "### How do you like your geochemical data distributed..?\n",
    "\n",
    "Acknowledging and accouting for the log-normally distributed nature of geochemical data can help deal with some spurious correlation, and allow for more robust geochemical statistics.\n",
    "\n",
    "<img src=\"https://pyrolite.readthedocs.io/en/develop/_images/CompositionalDistributions.png\" width=\"45%\" style=\"float: left; margin: 0px 15px 15px 0px;\"/>"
   ]
  }
 ],
 "metadata": {
  "celltoolbar": "Slideshow",
  "kernelspec": {
   "display_name": "Python 3",
   "language": "python",
   "name": "python3"
  },
  "language_info": {
   "codemirror_mode": {
    "name": "ipython",
    "version": 3
   },
   "file_extension": ".py",
   "mimetype": "text/x-python",
   "name": "python",
   "nbconvert_exporter": "python",
   "pygments_lexer": "ipython3",
   "version": "3.6.7"
  },
  "rise": {
   "autolaunch": true,
   "progress": true,
   "scroll": true,
   "slideNumber": true,
   "theme": "solarized"
  }
 },
 "nbformat": 4,
 "nbformat_minor": 2
}
