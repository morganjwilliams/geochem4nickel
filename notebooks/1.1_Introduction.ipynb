{
 "cells": [
  {
   "cell_type": "markdown",
   "metadata": {
    "slideshow": {
     "slide_type": "slide"
    }
   },
   "source": [
    "# Introduction\n",
    "\n",
    "**Intro** [Start](0.0_StartHere.ipynb) • <mark>[Intro](1.1_Introduction.ipynb)</mark> • [Data Driven Geochem Understanding](1.2_DataDrivenGeochem.ipynb) • [Data Science and Exploration Questions](1.3_ExplorationDataScience.ipynb)\n",
    "<br> **pyrolite** [Geochem](2.1_pyroliteGeochem.ipynb) • [Visualisation](2.2_pyroliteVis.ipynb) • [alphaMelts](2.3_pyroliteMELTS.ipynb) <br>  **Comparative Geochem**  [Data Sources & Data Mining](3.1_ComparativeGeochemData.ipynb) • [Deriving Context](3.2_ComparativeGeochemContext.ipynb) <br>  **Machine Learning** [Intro](4.0_MachineLearning.ipynb) • [Features](4.1_Features.ipynb) • [Dimensional Reduction](4.2_DimReduction.ipynb) • [High-D Vis](4.3_HighDVis.ipynb) • [Classification](4.4_Classification.ipynb) • [Regression & Prediction](4.5_Regression.ipynb) • [Clustering](4.6_Clustering.ipynb) <br>  **GitHub** [geochem4nickel](https://github.com/morganjwilliams/geochem4nickel) • [pyrolite](https://github.com/morganjwilliams/pyrolite)\n",
    "\n",
    "#### <i class=\"fa fa-twitter\" aria-hidden=\"true\"><a href=\"https://twitter.com/metasomite\" style=\"font-family:Courier New,Courier,Lucida Sans Typewriter,Lucida Typewriter,monospace;\"> @metasomite</a></i>"
   ]
  },
  {
   "cell_type": "markdown",
   "metadata": {
    "slideshow": {
     "slide_type": "slide"
    }
   },
   "source": [
    "* Accurate\n",
    "  * Make fewer errors\n",
    "  * Iteratively build more complex models\n",
    "* Reproducible\n",
    "  * Do something repetitively, the same way each time\n",
    "  * Towards live-updated models\n",
    "* Open\n",
    "  * Interoperability\n",
    "  * Share your analysis with your data\n",
    "* Flexible\n",
    "  * Break down boundaries\n",
    "  * Build and integrate tools within your own workflows\n",
    "* Decision support, not decision automation\n",
    "* Explorative investigation\n",
    "    * Build and test multiple models\n",
    "    * What models fit the data?"
   ]
  },
  {
   "cell_type": "markdown",
   "metadata": {
    "slideshow": {
     "slide_type": "slide"
    }
   },
   "source": [
    "### What do we want geochemical exploration tools to do?…\n",
    "\n",
    "Prediction\n",
    "\n",
    "* Fertility\n",
    "* Favourable tectonic/magmatic settings\n",
    "\n",
    "Detection\n",
    "\n",
    "* Distal indicators\n",
    "* Vectors within mineral systems\n",
    "\n",
    "\n",
    "* Routine, easily collectable reproducible data\n",
    "* Minimal false positives, false negatives"
   ]
  },
  {
   "cell_type": "markdown",
   "metadata": {
    "slideshow": {
     "slide_type": "slide"
    }
   },
   "source": [
    "Next: [Data Driven Geochemistry](1.2_DataDrivenGeochem.ipynb)"
   ]
  }
 ],
 "metadata": {
  "celltoolbar": "Slideshow",
  "kernelspec": {
   "display_name": "Python 3",
   "language": "python",
   "name": "python3"
  },
  "language_info": {
   "codemirror_mode": {
    "name": "ipython",
    "version": 3
   },
   "file_extension": ".py",
   "mimetype": "text/x-python",
   "name": "python",
   "nbconvert_exporter": "python",
   "pygments_lexer": "ipython3",
   "version": "3.6.7"
  },
  "rise": {
   "autolaunch": true,
   "scroll": true,
   "theme": "solarized"
  }
 },
 "nbformat": 4,
 "nbformat_minor": 2
}
