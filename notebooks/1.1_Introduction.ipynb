{
 "cells": [
  {
   "cell_type": "markdown",
   "metadata": {
    "slideshow": {
     "slide_type": "slide"
    }
   },
   "source": [
    "# Geochemical Data Analytics\n",
    "\n",
    "**Intro** [Start](0.0_StartHere.ipynb) • <mark>[Intro](1.1_Introduction.ipynb)</mark>\n",
    "<br> **pyrolite** [Geochem](2.1_pyroliteGeochem.ipynb) • [Visualisation](2.2_pyroliteVis.ipynb) • [alphaMELTS](2.3_pyroliteMELTS.ipynb) • [lambdas](2.4_lambdas.ipynb) <br> **Machine Learning** [Intro](4.0_MachineLearning.ipynb) • [Features](4.1_Features.ipynb)• [High-D Vis](4.3_HighDVis.ipynb) • [Classification](4.4_Classification.ipynb) • [Regression & Prediction](4.5_Regression.ipynb) • [Clustering](4.6_Clustering.ipynb) <br>  **GitHub** [geochem4nickel](https://github.com/morganjwilliams/geochem4nickel) • [pyrolite](https://github.com/morganjwilliams/pyrolite)\n",
    "\n",
    "#### <i class=\"fa fa-twitter\" aria-hidden=\"true\"><a href=\"https://twitter.com/metasomite\" style=\"font-family:Courier New,Courier,Lucida Sans Typewriter,Lucida Typewriter,monospace;\"> @metasomite</a></i>"
   ]
  },
  {
   "cell_type": "markdown",
   "metadata": {
    "slideshow": {
     "slide_type": "slide"
    }
   },
   "source": [
    "The presentatation section covers:"
   ]
  },
  {
   "cell_type": "markdown",
   "metadata": {
    "slideshow": {
     "slide_type": "fragment"
    }
   },
   "source": [
    "* **Why?** Motivations behind the approach"
   ]
  },
  {
   "cell_type": "markdown",
   "metadata": {
    "slideshow": {
     "slide_type": "fragment"
    }
   },
   "source": [
    "* What does '**data driven**' mean?"
   ]
  },
  {
   "cell_type": "markdown",
   "metadata": {
    "slideshow": {
     "slide_type": "fragment"
    }
   },
   "source": [
    "* How can we derive **constraints on geology** from geochemical data?"
   ]
  },
  {
   "cell_type": "markdown",
   "metadata": {
    "slideshow": {
     "slide_type": "slide"
    }
   },
   "source": [
    "This section of the workshop will focus on geochemical data analysis tools, and particuarly taking a data science approach to geochemical problems. The latter part of this section will cover some tools and include some examples of applying this in practice.\n",
    "\n",
    "1. Data Driven Understanding\n",
    "1. Adopting a Programmatic Approach\n",
    "1. Data Sources and Data Mining\n",
    "1. An Example: Machine Tectonic Discrimination\n",
    "1. pyrolite"
   ]
  },
  {
   "cell_type": "markdown",
   "metadata": {
    "slideshow": {
     "slide_type": "slide"
    }
   },
   "source": [
    "## Data Driven Understanding from Geochemistry"
   ]
  },
  {
   "cell_type": "markdown",
   "metadata": {
    "slideshow": {
     "slide_type": "subslide"
    }
   },
   "source": [
    "### Data driven?\n",
    "\n",
    "> Understanding derived from the data itself, <br>rather than our idea of what the data represents.\n",
    "\n",
    "Geochemists love classifying, binning and 'butterfly collecting', but how many of these divisions make sense in the natural world (e.g. consider the Total Alkali - Silica diagram)? \n",
    "\n",
    "A data driven approach instead considers divisons according to the natural clustering of data, where they exist."
   ]
  },
  {
   "cell_type": "markdown",
   "metadata": {
    "slideshow": {
     "slide_type": "subslide"
    }
   },
   "source": [
    "### Data Science in Exploration Geochemistry\n",
    "\n",
    "Interpretation is required to understand the why and how, but there are many practical questions to ask of an exploration dataset:\n",
    "\n",
    "* Is this more enriched/depleted in Y than expected?\n",
    "\n",
    "* What rocks are most similar to X?\n",
    "\n",
    "* Which chemical signatures are associated with mineralisation?\n",
    "\n",
    "* Which features provide the most valuable information for prediction? At what scale?\n",
    "\n",
    "* What setting did this form in?\n"
   ]
  },
  {
   "cell_type": "markdown",
   "metadata": {
    "slideshow": {
     "slide_type": "subslide"
    }
   },
   "source": [
    "### Quantifying Geochemical Context\n",
    "\n",
    "Context is particularly important for geochemistry, as it's often expressed in relative terms. It's most useful when you have something else to compare it to."
   ]
  },
  {
   "cell_type": "markdown",
   "metadata": {
    "slideshow": {
     "slide_type": "subslide"
    }
   },
   "source": [
    "* We discuss 'enrichement' and 'depletion', relative to some reference point."
   ]
  },
  {
   "cell_type": "markdown",
   "metadata": {
    "slideshow": {
     "slide_type": "fragment"
    }
   },
   "source": [
    "* We normalise trace element chemistry to 'chondrite', 'primitive mantle' or 'MORB' to visualise the *relative* effects of geological processes\n",
    "    * *'Let's ignore the effects of nucleosynthesis and planet formation for now..'*"
   ]
  },
  {
   "cell_type": "markdown",
   "metadata": {
    "slideshow": {
     "slide_type": "fragment"
    }
   },
   "source": [
    "* We use the term 'signature' to refer to the affinity or 'flavour' of geochemical compositions (e.g. MORB, E-MORB, N-MORB, 'Chondritic')"
   ]
  },
  {
   "cell_type": "markdown",
   "metadata": {
    "slideshow": {
     "slide_type": "subslide"
    }
   },
   "source": [
    "What we infer based on our geochemistry is commonly based on local changes or gradients (e.g. alteration haloes, mineral zoning) or similarity to some reference composition (e.g. basalts with 'ocean island basalt signatures'). \n",
    "\n",
    "In both of these instances, we express geochemistry relative to some reference point, but the relationship between our data and these reference compositions could often be better quantified. "
   ]
  },
  {
   "cell_type": "markdown",
   "metadata": {
    "slideshow": {
     "slide_type": "subslide"
    }
   },
   "source": [
    "To highlight some of these issues, consider the second case, which is related to the problem of tectonic discrimination (which will come up a bit later):"
   ]
  },
  {
   "cell_type": "markdown",
   "metadata": {
    "slideshow": {
     "slide_type": "subslide"
    }
   },
   "source": [
    "* What is an 'ocean island basalt signature'?\n",
    "    * *Ocean island basalts have a range of compositions, do you take the average? Median?*\n",
    "    * *How close does it have to be to have an 'ocean island basalt signature'?*"
   ]
  },
  {
   "cell_type": "markdown",
   "metadata": {
    "slideshow": {
     "slide_type": "subslide"
    }
   },
   "source": [
    "* What if it also has an 'oceanic plateau' like signature?\n",
    "    * *What's the probability that this is an ocean island basalt?*\n",
    "    * *With what confidence can you say that this is an ocean island basalt, and not an oceanic plateau?*\n",
    "    * *If you had analysed more elements, would you have the same confidence in the 'OIB signature'?*"
   ]
  },
  {
   "attachments": {},
   "cell_type": "markdown",
   "metadata": {
    "slideshow": {
     "slide_type": "subslide"
    }
   },
   "source": [
    "### Beyond Three Dimensions: Multidimensional Analysis\n",
    "\n",
    "One of the historical limitations for geochemical classificaiton and regression problems has been the need to graphically represent data in 2D.\n",
    "\n",
    "\n",
    "Multidimensional geochemical data analysis can overcome previous human-centric limitations and inaccuracies."
   ]
  },
  {
   "cell_type": "markdown",
   "metadata": {
    "slideshow": {
     "slide_type": "subslide"
    }
   },
   "source": [
    "#### Trace Element Discrimination Diagrams\n",
    "\n",
    "* Pearce's Th-Yb-Nb diagram offers some insight into the issues with using 2D classification schemes.\n",
    "\n",
    "<div class=\"row\">\n",
    "<div class=\"column\">\n",
    "    <img src=\"../img/Smithies2018Fig1.png\" width=\"30%\" style=\"float: left; margin: 0px 15px 15px 0px;\"/>\n",
    "    </div>\n",
    "<div class=\"column\">\n",
    "    <img src=\"../img/Li2015Fig9.png\" width=\"30%\" style=\"float: left; margin: 0px 15px 15px 0px;\"/>\n",
    "    </div>\n",
    "</div> "
   ]
  },
  {
   "cell_type": "markdown",
   "metadata": {
    "slideshow": {
     "slide_type": "subslide"
    }
   },
   "source": [
    "* The significant degree of overlap in these two dimensions between different tectonic settings renders this approach futile for generalised discrimination.\n",
    "\n",
    "Figures from [Smithies (2018)] after [Pearce (2008)], and [Li et al. (2015)]).\n",
    "\n",
    "[Li et al. (2015)]: https://doi.org/10.1016/j.lithos.2015.06.022 \"Li, C., Arndt, N.T., Tang, Q., Ripley, E.M., 2015. Trace element indiscrimination diagrams. Lithos 232, 76–83. \"\n",
    "\n",
    "[Smithies (2018)]: https://doi.org/10.1016/j.epsl.2018.01.034 \"Smithies, R.H., Ivanic, T.J., Lowrey, J.R., Morris, P.A., Barnes, S.J., Wyche, S., Lu, Y.-J., 2018. Two distinct origins for Archean greenstone belts. Earth and Planetary Science Letters 487, 106–116.\"\n",
    "\n",
    "[Pearce (2008)]: https://doi.org/10.1016/j.lithos.2007.06.016 \"Pearce, J.A., 2008. Geochemical fingerprinting of oceanic basalts with applications to ophiolite classification and the search for Archean oceanic crust. Lithos 100, 14–48.\""
   ]
  },
  {
   "cell_type": "markdown",
   "metadata": {
    "slideshow": {
     "slide_type": "subslide"
    }
   },
   "source": [
    "### Summary\n",
    "\n",
    "* Our reference points are often distributions\n",
    "* Classification is not often straightforward\n",
    "* Some of these issues are due to examining a limited set of components"
   ]
  },
  {
   "cell_type": "markdown",
   "metadata": {
    "slideshow": {
     "slide_type": "slide"
    }
   },
   "source": [
    "## Adopting a Programmatic Approach"
   ]
  },
  {
   "cell_type": "markdown",
   "metadata": {
    "slideshow": {
     "slide_type": "subslide"
    }
   },
   "source": [
    "### Is it worth the effort?"
   ]
  },
  {
   "cell_type": "markdown",
   "metadata": {
    "slideshow": {
     "slide_type": "subslide"
    }
   },
   "source": [
    "* We make less errors\n",
    "> \"One in five genetics papers contains errors thanks to Microsoft Excel\" [DOI:10. 1186/s13059-016-1044-7](https://doi.org/10.1186/s13059-016-1044-7)\n",
    "\n",
    "* Using a code-based approach to data analysis means that we can\n",
    "    * effectively 'version' the process and \n",
    "    * identify errors after the fact\n",
    "    \n",
    "* Our analysis is reproducible"
   ]
  },
  {
   "cell_type": "markdown",
   "metadata": {
    "slideshow": {
     "slide_type": "subslide"
    }
   },
   "source": [
    "* Develop new tools, which you can integrate into your own workflows\n",
    "* Automate the repetitive work, and use analysis for decision support\n",
    "* We *can* become more productive"
   ]
  },
  {
   "cell_type": "markdown",
   "metadata": {
    "slideshow": {
     "slide_type": "subslide"
    }
   },
   "source": [
    "* We can better quantify uncertainty\n",
    "* We can quantify how well our data support our models\n",
    "* Iterative testing and model development\n",
    "* Can change how we see the system as a whole\n",
    "    * *e.g. beyond 2D and 3D diagrams to multidimensional analysis*"
   ]
  },
  {
   "cell_type": "markdown",
   "metadata": {
    "slideshow": {
     "slide_type": "fragment"
    }
   },
   "source": [
    "* **Changes the questions we ask**"
   ]
  },
  {
   "cell_type": "markdown",
   "metadata": {
    "slideshow": {
     "slide_type": "subslide"
    }
   },
   "source": [
    "Using open source software, and adopting open science practices:\n",
    "\n",
    "* Can socialise data, ideas, methods, code and analyses\n",
    "* The repeatable paper: share your data and analysis\n",
    "* Build in interoperability and flexibility (open data formats, common standards)\n",
    "* Build a community and develop consensus on **best practice** in a new era of geoscience"
   ]
  },
  {
   "cell_type": "markdown",
   "metadata": {
    "slideshow": {
     "slide_type": "slide"
    }
   },
   "source": [
    "### Summary \n",
    "\n",
    "* Gaining a few new skills and writing a bit of code could help you get more value out of your data.\n",
    "* It will take a bit of learning and won't happen overnight, but there's lots to gain."
   ]
  },
  {
   "cell_type": "markdown",
   "metadata": {
    "slideshow": {
     "slide_type": "slide"
    }
   },
   "source": [
    "## Data Sources and Data Mining"
   ]
  },
  {
   "cell_type": "code",
   "execution_count": null,
   "metadata": {},
   "outputs": [],
   "source": []
  },
  {
   "cell_type": "markdown",
   "metadata": {
    "slideshow": {
     "slide_type": "slide"
    }
   },
   "source": [
    "Next: [pyrolite: Python for Geochemistry](2.1_pyroliteGeochem.ipynb)"
   ]
  },
  {
   "cell_type": "markdown",
   "metadata": {
    "slideshow": {
     "slide_type": "notes"
    }
   },
   "source": [
    "Specificity - Also - could you be sure someone else means the same thing?\n",
    "\n",
    "Repeatability - Would someone else come to the same conclusion?"
   ]
  },
  {
   "cell_type": "markdown",
   "metadata": {
    "slideshow": {
     "slide_type": "notes"
    }
   },
   "source": [
    "### How do you like your geochemical data distributed..?\n",
    "\n",
    "Acknowledging and accouting for the log-normally distributed nature of geochemical data can help deal with some spurious correlation, and allow for more robust geochemical statistics.\n",
    "\n",
    "<img src=\"https://pyrolite.readthedocs.io/en/develop/_images/CompositionalDistributions.png\" width=\"45%\" style=\"float: left; margin: 0px 15px 15px 0px;\"/>"
   ]
  }
 ],
 "metadata": {
  "celltoolbar": "Slideshow",
  "kernelspec": {
   "display_name": "Python 3",
   "language": "python",
   "name": "python3"
  },
  "language_info": {
   "codemirror_mode": {
    "name": "ipython",
    "version": 3
   },
   "file_extension": ".py",
   "mimetype": "text/x-python",
   "name": "python",
   "nbconvert_exporter": "python",
   "pygments_lexer": "ipython3",
   "version": "3.6.7"
  },
  "rise": {
   "autolaunch": true,
   "progress": true,
   "scroll": true,
   "slideNumber": true,
   "theme": "solarized"
  }
 },
 "nbformat": 4,
 "nbformat_minor": 2
}
